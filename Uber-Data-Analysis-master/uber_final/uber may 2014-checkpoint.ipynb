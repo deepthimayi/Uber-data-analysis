{
 "cells": [
  {
   "cell_type": "code",
   "execution_count": 2,
   "metadata": {},
   "outputs": [
    {
     "name": "stdout",
     "output_type": "stream",
     "text": [
      "Populating the interactive namespace from numpy and matplotlib\n"
     ]
    }
   ],
   "source": [
    "%pylab inline\n",
    "import pandas\n",
    "import seaborn\n",
    "import matplotlib.pyplot as plt"
   ]
  },
  {
   "cell_type": "markdown",
   "metadata": {},
   "source": [
    "# LOADING CSV FILE\n"
   ]
  },
  {
   "cell_type": "code",
   "execution_count": null,
   "metadata": {},
   "outputs": [],
   "source": [
    "\n"
   ]
  },
  {
   "cell_type": "code",
   "execution_count": 3,
   "metadata": {},
   "outputs": [
    {
     "data": {
      "text/html": [
       "<div>\n",
       "<style scoped>\n",
       "    .dataframe tbody tr th:only-of-type {\n",
       "        vertical-align: middle;\n",
       "    }\n",
       "\n",
       "    .dataframe tbody tr th {\n",
       "        vertical-align: top;\n",
       "    }\n",
       "\n",
       "    .dataframe thead th {\n",
       "        text-align: right;\n",
       "    }\n",
       "</style>\n",
       "<table border=\"1\" class=\"dataframe\">\n",
       "  <thead>\n",
       "    <tr style=\"text-align: right;\">\n",
       "      <th></th>\n",
       "      <th>Date/Time</th>\n",
       "      <th>Lat</th>\n",
       "      <th>Lon</th>\n",
       "      <th>Base</th>\n",
       "    </tr>\n",
       "  </thead>\n",
       "  <tbody>\n",
       "    <tr>\n",
       "      <th>0</th>\n",
       "      <td>5/1/2014 0:02:00</td>\n",
       "      <td>40.7521</td>\n",
       "      <td>-73.9914</td>\n",
       "      <td>B02512</td>\n",
       "    </tr>\n",
       "    <tr>\n",
       "      <th>1</th>\n",
       "      <td>5/1/2014 0:06:00</td>\n",
       "      <td>40.6965</td>\n",
       "      <td>-73.9715</td>\n",
       "      <td>B02512</td>\n",
       "    </tr>\n",
       "    <tr>\n",
       "      <th>2</th>\n",
       "      <td>5/1/2014 0:15:00</td>\n",
       "      <td>40.7464</td>\n",
       "      <td>-73.9838</td>\n",
       "      <td>B02512</td>\n",
       "    </tr>\n",
       "    <tr>\n",
       "      <th>3</th>\n",
       "      <td>5/1/2014 0:17:00</td>\n",
       "      <td>40.7463</td>\n",
       "      <td>-74.0011</td>\n",
       "      <td>B02512</td>\n",
       "    </tr>\n",
       "    <tr>\n",
       "      <th>4</th>\n",
       "      <td>5/1/2014 0:17:00</td>\n",
       "      <td>40.7594</td>\n",
       "      <td>-73.9734</td>\n",
       "      <td>B02512</td>\n",
       "    </tr>\n",
       "  </tbody>\n",
       "</table>\n",
       "</div>"
      ],
      "text/plain": [
       "          Date/Time      Lat      Lon    Base\n",
       "0  5/1/2014 0:02:00  40.7521 -73.9914  B02512\n",
       "1  5/1/2014 0:06:00  40.6965 -73.9715  B02512\n",
       "2  5/1/2014 0:15:00  40.7464 -73.9838  B02512\n",
       "3  5/1/2014 0:17:00  40.7463 -74.0011  B02512\n",
       "4  5/1/2014 0:17:00  40.7594 -73.9734  B02512"
      ]
     },
     "execution_count": 3,
     "metadata": {},
     "output_type": "execute_result"
    }
   ],
   "source": [
    "data = pandas.read_csv('uber-raw-data-may14.csv')\n",
    "data.head()"
   ]
  },
  {
   "cell_type": "code",
   "execution_count": 4,
   "metadata": {},
   "outputs": [
    {
     "data": {
      "text/html": [
       "<div>\n",
       "<style scoped>\n",
       "    .dataframe tbody tr th:only-of-type {\n",
       "        vertical-align: middle;\n",
       "    }\n",
       "\n",
       "    .dataframe tbody tr th {\n",
       "        vertical-align: top;\n",
       "    }\n",
       "\n",
       "    .dataframe thead th {\n",
       "        text-align: right;\n",
       "    }\n",
       "</style>\n",
       "<table border=\"1\" class=\"dataframe\">\n",
       "  <thead>\n",
       "    <tr style=\"text-align: right;\">\n",
       "      <th></th>\n",
       "      <th>Date/Time</th>\n",
       "      <th>Lat</th>\n",
       "      <th>Lon</th>\n",
       "      <th>Base</th>\n",
       "    </tr>\n",
       "  </thead>\n",
       "  <tbody>\n",
       "    <tr>\n",
       "      <th>652430</th>\n",
       "      <td>5/31/2014 23:45:00</td>\n",
       "      <td>40.7309</td>\n",
       "      <td>-74.0014</td>\n",
       "      <td>B02764</td>\n",
       "    </tr>\n",
       "    <tr>\n",
       "      <th>652431</th>\n",
       "      <td>5/31/2014 23:52:00</td>\n",
       "      <td>40.7528</td>\n",
       "      <td>-73.9798</td>\n",
       "      <td>B02764</td>\n",
       "    </tr>\n",
       "    <tr>\n",
       "      <th>652432</th>\n",
       "      <td>5/31/2014 23:55:00</td>\n",
       "      <td>40.7158</td>\n",
       "      <td>-73.9519</td>\n",
       "      <td>B02764</td>\n",
       "    </tr>\n",
       "    <tr>\n",
       "      <th>652433</th>\n",
       "      <td>5/31/2014 23:56:00</td>\n",
       "      <td>40.6961</td>\n",
       "      <td>-73.8997</td>\n",
       "      <td>B02764</td>\n",
       "    </tr>\n",
       "    <tr>\n",
       "      <th>652434</th>\n",
       "      <td>5/31/2014 23:59:00</td>\n",
       "      <td>40.7393</td>\n",
       "      <td>-73.9919</td>\n",
       "      <td>B02764</td>\n",
       "    </tr>\n",
       "  </tbody>\n",
       "</table>\n",
       "</div>"
      ],
      "text/plain": [
       "                 Date/Time      Lat      Lon    Base\n",
       "652430  5/31/2014 23:45:00  40.7309 -74.0014  B02764\n",
       "652431  5/31/2014 23:52:00  40.7528 -73.9798  B02764\n",
       "652432  5/31/2014 23:55:00  40.7158 -73.9519  B02764\n",
       "652433  5/31/2014 23:56:00  40.6961 -73.8997  B02764\n",
       "652434  5/31/2014 23:59:00  40.7393 -73.9919  B02764"
      ]
     },
     "execution_count": 4,
     "metadata": {},
     "output_type": "execute_result"
    }
   ],
   "source": [
    "data.tail()"
   ]
  },
  {
   "cell_type": "markdown",
   "metadata": {},
   "source": [
    "# CONVERTING DATETIME\n"
   ]
  },
  {
   "cell_type": "code",
   "execution_count": 6,
   "metadata": {},
   "outputs": [
    {
     "data": {
      "text/plain": [
       "<BarContainer object of 30 artists>"
      ]
     },
     "execution_count": 6,
     "metadata": {},
     "output_type": "execute_result"
    },
    {
     "data": {
      "image/png": "[encoded data removed]",
      "text/plain": [
       "<Figure size 432x288 with 1 Axes>"
      ]
     },
     "metadata": {
      "needs_background": "light"
     },
     "output_type": "display_data"
    }
   ],
   "source": [
    "bar('Base',range())"
   ]
  },
  {
   "cell_type": "code",
   "execution_count": 6,
   "metadata": {},
   "outputs": [],
   "source": [
    "data['Date/Time'] = data['Date/Time'].map(pandas.to_datetime)"
   ]
  },
  {
   "cell_type": "code",
   "execution_count": 7,
   "metadata": {},
   "outputs": [
    {
     "data": {
      "text/html": [
       "<div>\n",
       "<style scoped>\n",
       "    .dataframe tbody tr th:only-of-type {\n",
       "        vertical-align: middle;\n",
       "    }\n",
       "\n",
       "    .dataframe tbody tr th {\n",
       "        vertical-align: top;\n",
       "    }\n",
       "\n",
       "    .dataframe thead th {\n",
       "        text-align: right;\n",
       "    }\n",
       "</style>\n",
       "<table border=\"1\" class=\"dataframe\">\n",
       "  <thead>\n",
       "    <tr style=\"text-align: right;\">\n",
       "      <th></th>\n",
       "      <th>Date/Time</th>\n",
       "      <th>Lat</th>\n",
       "      <th>Lon</th>\n",
       "      <th>Base</th>\n",
       "    </tr>\n",
       "  </thead>\n",
       "  <tbody>\n",
       "    <tr>\n",
       "      <th>652430</th>\n",
       "      <td>2014-05-31 23:45:00</td>\n",
       "      <td>40.7309</td>\n",
       "      <td>-74.0014</td>\n",
       "      <td>B02764</td>\n",
       "    </tr>\n",
       "    <tr>\n",
       "      <th>652431</th>\n",
       "      <td>2014-05-31 23:52:00</td>\n",
       "      <td>40.7528</td>\n",
       "      <td>-73.9798</td>\n",
       "      <td>B02764</td>\n",
       "    </tr>\n",
       "    <tr>\n",
       "      <th>652432</th>\n",
       "      <td>2014-05-31 23:55:00</td>\n",
       "      <td>40.7158</td>\n",
       "      <td>-73.9519</td>\n",
       "      <td>B02764</td>\n",
       "    </tr>\n",
       "    <tr>\n",
       "      <th>652433</th>\n",
       "      <td>2014-05-31 23:56:00</td>\n",
       "      <td>40.6961</td>\n",
       "      <td>-73.8997</td>\n",
       "      <td>B02764</td>\n",
       "    </tr>\n",
       "    <tr>\n",
       "      <th>652434</th>\n",
       "      <td>2014-05-31 23:59:00</td>\n",
       "      <td>40.7393</td>\n",
       "      <td>-73.9919</td>\n",
       "      <td>B02764</td>\n",
       "    </tr>\n",
       "  </tbody>\n",
       "</table>\n",
       "</div>"
      ],
      "text/plain": [
       "                 Date/Time      Lat      Lon    Base\n",
       "652430 2014-05-31 23:45:00  40.7309 -74.0014  B02764\n",
       "652431 2014-05-31 23:52:00  40.7528 -73.9798  B02764\n",
       "652432 2014-05-31 23:55:00  40.7158 -73.9519  B02764\n",
       "652433 2014-05-31 23:56:00  40.6961 -73.8997  B02764\n",
       "652434 2014-05-31 23:59:00  40.7393 -73.9919  B02764"
      ]
     },
     "execution_count": 7,
     "metadata": {},
     "output_type": "execute_result"
    }
   ],
   "source": [
    "\n",
    "data.tail()"
   ]
  },
  {
   "cell_type": "code",
   "execution_count": 8,
   "metadata": {},
   "outputs": [],
   "source": [
    "def get_dom(dt):\n",
    "    return dt.day\n",
    "\n",
    "data['dom'] = data['Date/Time'].map(get_dom)"
   ]
  },
  {
   "cell_type": "code",
   "execution_count": 9,
   "metadata": {},
   "outputs": [
    {
     "data": {
      "text/html": [
       "<div>\n",
       "<style scoped>\n",
       "    .dataframe tbody tr th:only-of-type {\n",
       "        vertical-align: middle;\n",
       "    }\n",
       "\n",
       "    .dataframe tbody tr th {\n",
       "        vertical-align: top;\n",
       "    }\n",
       "\n",
       "    .dataframe thead th {\n",
       "        text-align: right;\n",
       "    }\n",
       "</style>\n",
       "<table border=\"1\" class=\"dataframe\">\n",
       "  <thead>\n",
       "    <tr style=\"text-align: right;\">\n",
       "      <th></th>\n",
       "      <th>Date/Time</th>\n",
       "      <th>Lat</th>\n",
       "      <th>Lon</th>\n",
       "      <th>Base</th>\n",
       "      <th>dom</th>\n",
       "    </tr>\n",
       "  </thead>\n",
       "  <tbody>\n",
       "    <tr>\n",
       "      <th>652430</th>\n",
       "      <td>2014-05-31 23:45:00</td>\n",
       "      <td>40.7309</td>\n",
       "      <td>-74.0014</td>\n",
       "      <td>B02764</td>\n",
       "      <td>31</td>\n",
       "    </tr>\n",
       "    <tr>\n",
       "      <th>652431</th>\n",
       "      <td>2014-05-31 23:52:00</td>\n",
       "      <td>40.7528</td>\n",
       "      <td>-73.9798</td>\n",
       "      <td>B02764</td>\n",
       "      <td>31</td>\n",
       "    </tr>\n",
       "    <tr>\n",
       "      <th>652432</th>\n",
       "      <td>2014-05-31 23:55:00</td>\n",
       "      <td>40.7158</td>\n",
       "      <td>-73.9519</td>\n",
       "      <td>B02764</td>\n",
       "      <td>31</td>\n",
       "    </tr>\n",
       "    <tr>\n",
       "      <th>652433</th>\n",
       "      <td>2014-05-31 23:56:00</td>\n",
       "      <td>40.6961</td>\n",
       "      <td>-73.8997</td>\n",
       "      <td>B02764</td>\n",
       "      <td>31</td>\n",
       "    </tr>\n",
       "    <tr>\n",
       "      <th>652434</th>\n",
       "      <td>2014-05-31 23:59:00</td>\n",
       "      <td>40.7393</td>\n",
       "      <td>-73.9919</td>\n",
       "      <td>B02764</td>\n",
       "      <td>31</td>\n",
       "    </tr>\n",
       "  </tbody>\n",
       "</table>\n",
       "</div>"
      ],
      "text/plain": [
       "                 Date/Time      Lat      Lon    Base  dom\n",
       "652430 2014-05-31 23:45:00  40.7309 -74.0014  B02764   31\n",
       "652431 2014-05-31 23:52:00  40.7528 -73.9798  B02764   31\n",
       "652432 2014-05-31 23:55:00  40.7158 -73.9519  B02764   31\n",
       "652433 2014-05-31 23:56:00  40.6961 -73.8997  B02764   31\n",
       "652434 2014-05-31 23:59:00  40.7393 -73.9919  B02764   31"
      ]
     },
     "execution_count": 9,
     "metadata": {},
     "output_type": "execute_result"
    }
   ],
   "source": [
    "data.tail()"
   ]
  },
  {
   "cell_type": "code",
   "execution_count": 10,
   "metadata": {},
   "outputs": [
    {
     "data": {
      "text/html": [
       "<div>\n",
       "<style scoped>\n",
       "    .dataframe tbody tr th:only-of-type {\n",
       "        vertical-align: middle;\n",
       "    }\n",
       "\n",
       "    .dataframe tbody tr th {\n",
       "        vertical-align: top;\n",
       "    }\n",
       "\n",
       "    .dataframe thead th {\n",
       "        text-align: right;\n",
       "    }\n",
       "</style>\n",
       "<table border=\"1\" class=\"dataframe\">\n",
       "  <thead>\n",
       "    <tr style=\"text-align: right;\">\n",
       "      <th></th>\n",
       "      <th>Date/Time</th>\n",
       "      <th>Lat</th>\n",
       "      <th>Lon</th>\n",
       "      <th>Base</th>\n",
       "      <th>dom</th>\n",
       "      <th>weekday</th>\n",
       "      <th>hour</th>\n",
       "    </tr>\n",
       "  </thead>\n",
       "  <tbody>\n",
       "    <tr>\n",
       "      <th>652430</th>\n",
       "      <td>2014-05-31 23:45:00</td>\n",
       "      <td>40.7309</td>\n",
       "      <td>-74.0014</td>\n",
       "      <td>B02764</td>\n",
       "      <td>31</td>\n",
       "      <td>5</td>\n",
       "      <td>23</td>\n",
       "    </tr>\n",
       "    <tr>\n",
       "      <th>652431</th>\n",
       "      <td>2014-05-31 23:52:00</td>\n",
       "      <td>40.7528</td>\n",
       "      <td>-73.9798</td>\n",
       "      <td>B02764</td>\n",
       "      <td>31</td>\n",
       "      <td>5</td>\n",
       "      <td>23</td>\n",
       "    </tr>\n",
       "    <tr>\n",
       "      <th>652432</th>\n",
       "      <td>2014-05-31 23:55:00</td>\n",
       "      <td>40.7158</td>\n",
       "      <td>-73.9519</td>\n",
       "      <td>B02764</td>\n",
       "      <td>31</td>\n",
       "      <td>5</td>\n",
       "      <td>23</td>\n",
       "    </tr>\n",
       "    <tr>\n",
       "      <th>652433</th>\n",
       "      <td>2014-05-31 23:56:00</td>\n",
       "      <td>40.6961</td>\n",
       "      <td>-73.8997</td>\n",
       "      <td>B02764</td>\n",
       "      <td>31</td>\n",
       "      <td>5</td>\n",
       "      <td>23</td>\n",
       "    </tr>\n",
       "    <tr>\n",
       "      <th>652434</th>\n",
       "      <td>2014-05-31 23:59:00</td>\n",
       "      <td>40.7393</td>\n",
       "      <td>-73.9919</td>\n",
       "      <td>B02764</td>\n",
       "      <td>31</td>\n",
       "      <td>5</td>\n",
       "      <td>23</td>\n",
       "    </tr>\n",
       "  </tbody>\n",
       "</table>\n",
       "</div>"
      ],
      "text/plain": [
       "                 Date/Time      Lat      Lon    Base  dom  weekday  hour\n",
       "652430 2014-05-31 23:45:00  40.7309 -74.0014  B02764   31        5    23\n",
       "652431 2014-05-31 23:52:00  40.7528 -73.9798  B02764   31        5    23\n",
       "652432 2014-05-31 23:55:00  40.7158 -73.9519  B02764   31        5    23\n",
       "652433 2014-05-31 23:56:00  40.6961 -73.8997  B02764   31        5    23\n",
       "652434 2014-05-31 23:59:00  40.7393 -73.9919  B02764   31        5    23"
      ]
     },
     "execution_count": 10,
     "metadata": {},
     "output_type": "execute_result"
    }
   ],
   "source": [
    "def get_weekday(dt):\n",
    "    return dt.weekday()\n",
    "\n",
    "data['weekday'] = data['Date/Time'].map(get_weekday)\n",
    "\n",
    "def get_hour(dt):\n",
    "    return dt.hour\n",
    "\n",
    "data['hour'] = data['Date/Time'].map(get_hour)\n",
    "\n",
    "data.tail()"
   ]
  },
  {
   "cell_type": "markdown",
   "metadata": {},
   "source": [
    "# ANALYSIS\n",
    "#analyisis by date of the month(dom)"
   ]
  },
  {
   "cell_type": "code",
   "execution_count": 11,
   "metadata": {},
   "outputs": [
    {
     "data": {
      "text/plain": [
       "Text(0.5, 1.0, 'Frequency by DoM - uber - may 2014')"
      ]
     },
     "execution_count": 11,
     "metadata": {},
     "output_type": "execute_result"
    },
    {
     "data": {
      "image/png": "[encoded data removed]",
      "text/plain": [
       "<Figure size 432x288 with 1 Axes>"
      ]
     },
     "metadata": {
      "needs_background": "light"
     },
     "output_type": "display_data"
    }
   ],
   "source": [
    "hist(data.dom, bins=30, rwidth=.8, range=(0.5, 30.5))\n",
    "xlabel('date of the month')\n",
    "ylabel('frequency')\n",
    "title('Frequency by DoM - uber - may 2014')"
   ]
  },
  {
   "cell_type": "code",
   "execution_count": 12,
   "metadata": {},
   "outputs": [
    {
     "data": {
      "text/plain": [
       "dom\n",
       "1     23375\n",
       "2     24235\n",
       "3     22234\n",
       "4     13918\n",
       "5     17859\n",
       "6     19300\n",
       "7     21891\n",
       "8     27513\n",
       "9     26385\n",
       "10    22550\n",
       "11    14901\n",
       "12    17470\n",
       "13    19498\n",
       "14    22218\n",
       "15    26301\n",
       "16    32493\n",
       "17    22294\n",
       "18    16508\n",
       "19    18315\n",
       "20    20860\n",
       "21    23508\n",
       "22    26802\n",
       "23    26465\n",
       "24    14651\n",
       "25    10841\n",
       "26    10202\n",
       "27    17004\n",
       "28    22240\n",
       "29    24930\n",
       "30    24413\n",
       "31    21261\n",
       "dtype: int64"
      ]
     },
     "execution_count": 12,
     "metadata": {},
     "output_type": "execute_result"
    }
   ],
   "source": [
    "def count_rows(rows):\n",
    "    return len(rows)\n",
    "\n",
    "by_date = data.groupby('dom').apply(count_rows)\n",
    "by_date"
   ]
  },
  {
   "cell_type": "code",
   "execution_count": 23,
   "metadata": {},
   "outputs": [
    {
     "data": {
      "text/plain": [
       "<BarContainer object of 31 artists>"
      ]
     },
     "execution_count": 23,
     "metadata": {},
     "output_type": "execute_result"
    },
    {
     "data": {
      "image/png": "[encoded data removed]",
      "text/plain": [
       "<Figure size 432x288 with 1 Axes>"
      ]
     },
     "metadata": {
      "needs_background": "light"
     },
     "output_type": "display_data"
    }
   ],
   "source": [
    "bar(range(31),by_date)\n"
   ]
  },
  {
   "cell_type": "code",
   "execution_count": 18,
   "metadata": {},
   "outputs": [
    {
     "data": {
      "text/plain": [
       "dom\n",
       "26    10202\n",
       "25    10841\n",
       "4     13918\n",
       "24    14651\n",
       "11    14901\n",
       "18    16508\n",
       "27    17004\n",
       "12    17470\n",
       "5     17859\n",
       "19    18315\n",
       "6     19300\n",
       "13    19498\n",
       "20    20860\n",
       "31    21261\n",
       "7     21891\n",
       "14    22218\n",
       "3     22234\n",
       "28    22240\n",
       "17    22294\n",
       "10    22550\n",
       "1     23375\n",
       "21    23508\n",
       "2     24235\n",
       "30    24413\n",
       "29    24930\n",
       "15    26301\n",
       "9     26385\n",
       "23    26465\n",
       "22    26802\n",
       "8     27513\n",
       "16    32493\n",
       "dtype: int64"
      ]
     },
     "execution_count": 18,
     "metadata": {},
     "output_type": "execute_result"
    }
   ],
   "source": [
    "\n",
    "by_date_sorted = by_date.sort_values()\n",
    "by_date_sorted"
   ]
  },
  {
   "cell_type": "code",
   "execution_count": 22,
   "metadata": {},
   "outputs": [
    {
     "data": {
      "text/plain": [
       "''"
      ]
     },
     "execution_count": 22,
     "metadata": {},
     "output_type": "execute_result"
    },
    {
     "data": {
      "image/png": "[encoded data removed]",
      "text/plain": [
       "<Figure size 432x288 with 1 Axes>"
      ]
     },
     "metadata": {
      "needs_background": "light"
     },
     "output_type": "display_data"
    }
   ],
   "source": [
    "plt.bar(range(31),by_date_sorted)\n",
    "plt.xticks(range(1,31),by_date_sorted.index)\n",
    "plt.xlabel('date of the month')\n",
    "plt.ylabel('frequency')\n",
    "plt.title(\"frequency of users by date of mont uber may 2014\")\n",
    ";"
   ]
  },
  {
   "cell_type": "code",
   "execution_count": 24,
   "metadata": {},
   "outputs": [
    {
     "data": {
      "text/plain": [
       "(array([ 8186.,  5372.,  5946.,  6945., 10789., 21015., 27413., 25460.,\n",
       "        20507., 20801., 22055., 23595., 27699., 34363., 43087., 49127.,\n",
       "        51508., 48965., 42387., 40731., 42217., 35556., 24836.,     0.]),\n",
       " array([ 0.5       ,  1.47916667,  2.45833333,  3.4375    ,  4.41666667,\n",
       "         5.39583333,  6.375     ,  7.35416667,  8.33333333,  9.3125    ,\n",
       "        10.29166667, 11.27083333, 12.25      , 13.22916667, 14.20833333,\n",
       "        15.1875    , 16.16666667, 17.14583333, 18.125     , 19.10416667,\n",
       "        20.08333333, 21.0625    , 22.04166667, 23.02083333, 24.        ]),\n",
       " <a list of 24 Patch objects>)"
      ]
     },
     "execution_count": 24,
     "metadata": {},
     "output_type": "execute_result"
    },
    {
     "data": {
      "image/png": "[encoded data removed]",
      "text/plain": [
       "<Figure size 432x288 with 1 Axes>"
      ]
     },
     "metadata": {
      "needs_background": "light"
     },
     "output_type": "display_data"
    }
   ],
   "source": [
    "hist(data.hour, bins=24, range=(.5, 24))"
   ]
  },
  {
   "cell_type": "code",
   "execution_count": 25,
   "metadata": {},
   "outputs": [
    {
     "data": {
      "text/plain": [
       "([<matplotlib.axis.XTick at 0x218f4e108d0>,\n",
       "  <matplotlib.axis.XTick at 0x218f4e28cc0>,\n",
       "  <matplotlib.axis.XTick at 0x218f4e287f0>,\n",
       "  <matplotlib.axis.XTick at 0x218f52efc18>,\n",
       "  <matplotlib.axis.XTick at 0x218f52fe160>,\n",
       "  <matplotlib.axis.XTick at 0x218f52fe630>,\n",
       "  <matplotlib.axis.XTick at 0x218f52feba8>],\n",
       " <a list of 7 Text xticklabel objects>)"
      ]
     },
     "execution_count": 25,
     "metadata": {},
     "output_type": "execute_result"
    },
    {
     "data": {
      "image/png": "[encoded data removed]",
      "text/plain": [
       "<Figure size 432x288 with 1 Axes>"
      ]
     },
     "metadata": {
      "needs_background": "light"
     },
     "output_type": "display_data"
    }
   ],
   "source": [
    "hist(data.weekday, bins=7, range =(-.5,6.5), rwidth=.8, color='#AA6666', alpha=.4)\n",
    "xticks(range(7), 'Mon Tue Wed Thu Fri Sat Sun'.split())"
   ]
  },
  {
   "cell_type": "markdown",
   "metadata": {},
   "source": [
    "#cross analysis of hour and dow"
   ]
  },
  {
   "cell_type": "code",
   "execution_count": 26,
   "metadata": {},
   "outputs": [],
   "source": [
    "by_cross = data.groupby('weekday hour'.split()).apply(count_rows).unstack()"
   ]
  },
  {
   "cell_type": "code",
   "execution_count": 27,
   "metadata": {},
   "outputs": [
    {
     "data": {
      "text/html": [
       "<div>\n",
       "<style scoped>\n",
       "    .dataframe tbody tr th:only-of-type {\n",
       "        vertical-align: middle;\n",
       "    }\n",
       "\n",
       "    .dataframe tbody tr th {\n",
       "        vertical-align: top;\n",
       "    }\n",
       "\n",
       "    .dataframe thead th {\n",
       "        text-align: right;\n",
       "    }\n",
       "</style>\n",
       "<table border=\"1\" class=\"dataframe\">\n",
       "  <thead>\n",
       "    <tr style=\"text-align: right;\">\n",
       "      <th>hour</th>\n",
       "      <th>0</th>\n",
       "      <th>1</th>\n",
       "      <th>2</th>\n",
       "      <th>3</th>\n",
       "      <th>4</th>\n",
       "      <th>5</th>\n",
       "      <th>6</th>\n",
       "      <th>7</th>\n",
       "      <th>8</th>\n",
       "      <th>9</th>\n",
       "      <th>...</th>\n",
       "      <th>14</th>\n",
       "      <th>15</th>\n",
       "      <th>16</th>\n",
       "      <th>17</th>\n",
       "      <th>18</th>\n",
       "      <th>19</th>\n",
       "      <th>20</th>\n",
       "      <th>21</th>\n",
       "      <th>22</th>\n",
       "      <th>23</th>\n",
       "    </tr>\n",
       "    <tr>\n",
       "      <th>weekday</th>\n",
       "      <th></th>\n",
       "      <th></th>\n",
       "      <th></th>\n",
       "      <th></th>\n",
       "      <th></th>\n",
       "      <th></th>\n",
       "      <th></th>\n",
       "      <th></th>\n",
       "      <th></th>\n",
       "      <th></th>\n",
       "      <th></th>\n",
       "      <th></th>\n",
       "      <th></th>\n",
       "      <th></th>\n",
       "      <th></th>\n",
       "      <th></th>\n",
       "      <th></th>\n",
       "      <th></th>\n",
       "      <th></th>\n",
       "      <th></th>\n",
       "      <th></th>\n",
       "    </tr>\n",
       "  </thead>\n",
       "  <tbody>\n",
       "    <tr>\n",
       "      <th>0</th>\n",
       "      <td>767</td>\n",
       "      <td>466</td>\n",
       "      <td>304</td>\n",
       "      <td>627</td>\n",
       "      <td>977</td>\n",
       "      <td>1514</td>\n",
       "      <td>2688</td>\n",
       "      <td>3287</td>\n",
       "      <td>3012</td>\n",
       "      <td>2294</td>\n",
       "      <td>...</td>\n",
       "      <td>3821</td>\n",
       "      <td>4514</td>\n",
       "      <td>5055</td>\n",
       "      <td>5466</td>\n",
       "      <td>4237</td>\n",
       "      <td>3654</td>\n",
       "      <td>3715</td>\n",
       "      <td>3681</td>\n",
       "      <td>2435</td>\n",
       "      <td>1429</td>\n",
       "    </tr>\n",
       "    <tr>\n",
       "      <th>1</th>\n",
       "      <td>715</td>\n",
       "      <td>431</td>\n",
       "      <td>303</td>\n",
       "      <td>543</td>\n",
       "      <td>864</td>\n",
       "      <td>1631</td>\n",
       "      <td>3416</td>\n",
       "      <td>4401</td>\n",
       "      <td>3616</td>\n",
       "      <td>2647</td>\n",
       "      <td>...</td>\n",
       "      <td>4192</td>\n",
       "      <td>5247</td>\n",
       "      <td>6169</td>\n",
       "      <td>6713</td>\n",
       "      <td>5344</td>\n",
       "      <td>4712</td>\n",
       "      <td>4980</td>\n",
       "      <td>4503</td>\n",
       "      <td>3149</td>\n",
       "      <td>1759</td>\n",
       "    </tr>\n",
       "    <tr>\n",
       "      <th>2</th>\n",
       "      <td>838</td>\n",
       "      <td>477</td>\n",
       "      <td>334</td>\n",
       "      <td>573</td>\n",
       "      <td>846</td>\n",
       "      <td>1547</td>\n",
       "      <td>3618</td>\n",
       "      <td>4864</td>\n",
       "      <td>4046</td>\n",
       "      <td>2872</td>\n",
       "      <td>...</td>\n",
       "      <td>5016</td>\n",
       "      <td>6211</td>\n",
       "      <td>7287</td>\n",
       "      <td>7808</td>\n",
       "      <td>7138</td>\n",
       "      <td>5902</td>\n",
       "      <td>6015</td>\n",
       "      <td>5782</td>\n",
       "      <td>3839</td>\n",
       "      <td>2041</td>\n",
       "    </tr>\n",
       "    <tr>\n",
       "      <th>3</th>\n",
       "      <td>1426</td>\n",
       "      <td>831</td>\n",
       "      <td>584</td>\n",
       "      <td>849</td>\n",
       "      <td>1291</td>\n",
       "      <td>2425</td>\n",
       "      <td>5080</td>\n",
       "      <td>6697</td>\n",
       "      <td>6318</td>\n",
       "      <td>4550</td>\n",
       "      <td>...</td>\n",
       "      <td>6357</td>\n",
       "      <td>7852</td>\n",
       "      <td>9046</td>\n",
       "      <td>10686</td>\n",
       "      <td>9738</td>\n",
       "      <td>8424</td>\n",
       "      <td>8474</td>\n",
       "      <td>9023</td>\n",
       "      <td>7143</td>\n",
       "      <td>3930</td>\n",
       "    </tr>\n",
       "    <tr>\n",
       "      <th>4</th>\n",
       "      <td>2004</td>\n",
       "      <td>1156</td>\n",
       "      <td>758</td>\n",
       "      <td>1005</td>\n",
       "      <td>1286</td>\n",
       "      <td>2025</td>\n",
       "      <td>4327</td>\n",
       "      <td>5665</td>\n",
       "      <td>5072</td>\n",
       "      <td>3806</td>\n",
       "      <td>...</td>\n",
       "      <td>6789</td>\n",
       "      <td>8384</td>\n",
       "      <td>9010</td>\n",
       "      <td>9543</td>\n",
       "      <td>11081</td>\n",
       "      <td>10395</td>\n",
       "      <td>8847</td>\n",
       "      <td>9392</td>\n",
       "      <td>8859</td>\n",
       "      <td>6774</td>\n",
       "    </tr>\n",
       "    <tr>\n",
       "      <th>5</th>\n",
       "      <td>3878</td>\n",
       "      <td>2249</td>\n",
       "      <td>1524</td>\n",
       "      <td>1205</td>\n",
       "      <td>958</td>\n",
       "      <td>1027</td>\n",
       "      <td>1203</td>\n",
       "      <td>1588</td>\n",
       "      <td>2144</td>\n",
       "      <td>2579</td>\n",
       "      <td>...</td>\n",
       "      <td>4950</td>\n",
       "      <td>7104</td>\n",
       "      <td>8472</td>\n",
       "      <td>7518</td>\n",
       "      <td>8145</td>\n",
       "      <td>6419</td>\n",
       "      <td>5918</td>\n",
       "      <td>7027</td>\n",
       "      <td>7901</td>\n",
       "      <td>7416</td>\n",
       "    </tr>\n",
       "    <tr>\n",
       "      <th>6</th>\n",
       "      <td>4247</td>\n",
       "      <td>2576</td>\n",
       "      <td>1565</td>\n",
       "      <td>1144</td>\n",
       "      <td>723</td>\n",
       "      <td>620</td>\n",
       "      <td>683</td>\n",
       "      <td>911</td>\n",
       "      <td>1252</td>\n",
       "      <td>1759</td>\n",
       "      <td>...</td>\n",
       "      <td>3238</td>\n",
       "      <td>3775</td>\n",
       "      <td>4088</td>\n",
       "      <td>3774</td>\n",
       "      <td>3282</td>\n",
       "      <td>2881</td>\n",
       "      <td>2782</td>\n",
       "      <td>2809</td>\n",
       "      <td>2230</td>\n",
       "      <td>1487</td>\n",
       "    </tr>\n",
       "  </tbody>\n",
       "</table>\n",
       "<p>7 rows × 24 columns</p>\n",
       "</div>"
      ],
      "text/plain": [
       "hour       0     1     2     3     4     5     6     7     8     9   ...  \\\n",
       "weekday                                                              ...   \n",
       "0         767   466   304   627   977  1514  2688  3287  3012  2294  ...   \n",
       "1         715   431   303   543   864  1631  3416  4401  3616  2647  ...   \n",
       "2         838   477   334   573   846  1547  3618  4864  4046  2872  ...   \n",
       "3        1426   831   584   849  1291  2425  5080  6697  6318  4550  ...   \n",
       "4        2004  1156   758  1005  1286  2025  4327  5665  5072  3806  ...   \n",
       "5        3878  2249  1524  1205   958  1027  1203  1588  2144  2579  ...   \n",
       "6        4247  2576  1565  1144   723   620   683   911  1252  1759  ...   \n",
       "\n",
       "hour       14    15    16     17     18     19    20    21    22    23  \n",
       "weekday                                                                 \n",
       "0        3821  4514  5055   5466   4237   3654  3715  3681  2435  1429  \n",
       "1        4192  5247  6169   6713   5344   4712  4980  4503  3149  1759  \n",
       "2        5016  6211  7287   7808   7138   5902  6015  5782  3839  2041  \n",
       "3        6357  7852  9046  10686   9738   8424  8474  9023  7143  3930  \n",
       "4        6789  8384  9010   9543  11081  10395  8847  9392  8859  6774  \n",
       "5        4950  7104  8472   7518   8145   6419  5918  7027  7901  7416  \n",
       "6        3238  3775  4088   3774   3282   2881  2782  2809  2230  1487  \n",
       "\n",
       "[7 rows x 24 columns]"
      ]
     },
     "execution_count": 27,
     "metadata": {},
     "output_type": "execute_result"
    }
   ],
   "source": [
    "by_cross"
   ]
  },
  {
   "cell_type": "code",
   "execution_count": 28,
   "metadata": {},
   "outputs": [
    {
     "data": {
      "text/plain": [
       "<matplotlib.axes._subplots.AxesSubplot at 0x218f5df5d68>"
      ]
     },
     "execution_count": 28,
     "metadata": {},
     "output_type": "execute_result"
    },
    {
     "data": {
      "image/png": "[encoded data removed]",
      "text/plain": [
       "<Figure size 432x288 with 2 Axes>"
      ]
     },
     "metadata": {
      "needs_background": "light"
     },
     "output_type": "display_data"
    }
   ],
   "source": [
    "seaborn.heatmap(by_cross)"
   ]
  },
  {
   "cell_type": "markdown",
   "metadata": {},
   "source": [
    "# by long and lat"
   ]
  },
  {
   "cell_type": "code",
   "execution_count": null,
   "metadata": {},
   "outputs": [],
   "source": []
  },
  {
   "cell_type": "code",
   "execution_count": 31,
   "metadata": {},
   "outputs": [
    {
     "data": {
      "text/plain": [
       "''"
      ]
     },
     "execution_count": 31,
     "metadata": {},
     "output_type": "execute_result"
    },
    {
     "data": {
      "image/png": "[encoded data removed]",
      "text/plain": [
       "<Figure size 432x288 with 1 Axes>"
      ]
     },
     "metadata": {
      "needs_background": "light"
     },
     "output_type": "display_data"
    }
   ],
   "source": [
    "hist(data['Lat'], bins=100)\n",
    ";"
   ]
  },
  {
   "cell_type": "code",
   "execution_count": 32,
   "metadata": {},
   "outputs": [
    {
     "data": {
      "text/plain": [
       "''"
      ]
     },
     "execution_count": 32,
     "metadata": {},
     "output_type": "execute_result"
    },
    {
     "data": {
      "image/png": "[encoded data removed]",
      "text/plain": [
       "<Figure size 432x288 with 1 Axes>"
      ]
     },
     "metadata": {
      "needs_background": "light"
     },
     "output_type": "display_data"
    }
   ],
   "source": [
    "hist(data['Lat'], bins=100, range=(40.5,41.0))\n",
    ";"
   ]
  },
  {
   "cell_type": "code",
   "execution_count": 34,
   "metadata": {},
   "outputs": [
    {
     "data": {
      "text/plain": [
       "''"
      ]
     },
     "execution_count": 34,
     "metadata": {},
     "output_type": "execute_result"
    },
    {
     "data": {
      "image/png": "[encoded data removed]",
      "text/plain": [
       "<Figure size 432x288 with 1 Axes>"
      ]
     },
     "metadata": {
      "needs_background": "light"
     },
     "output_type": "display_data"
    }
   ],
   "source": [
    "hist(data['Lon'], bins=100)\n",
    ";"
   ]
  },
  {
   "cell_type": "code",
   "execution_count": 35,
   "metadata": {},
   "outputs": [
    {
     "data": {
      "image/png": "[encoded data removed]",
      "text/plain": [
       "<Figure size 432x288 with 1 Axes>"
      ]
     },
     "metadata": {
      "needs_background": "light"
     },
     "output_type": "display_data"
    }
   ],
   "source": [
    "hist(data['Lon'], bins=100, range = (-74.5, -73.5));"
   ]
  },
  {
   "cell_type": "code",
   "execution_count": null,
   "metadata": {},
   "outputs": [],
   "source": [
    "#comparision of both longitude and latitude "
   ]
  },
  {
   "cell_type": "code",
   "execution_count": 36,
   "metadata": {},
   "outputs": [
    {
     "data": {
      "text/plain": [
       "''"
      ]
     },
     "execution_count": 36,
     "metadata": {},
     "output_type": "execute_result"
    },
    {
     "data": {
      "image/png": "[encoded data removed]",
      "text/plain": [
       "<Figure size 432x288 with 2 Axes>"
      ]
     },
     "metadata": {
      "needs_background": "light"
     },
     "output_type": "display_data"
    }
   ],
   "source": [
    "\n",
    "hist(data['Lon'], bins=100, range = (-74.5, -73.5), color='g', alpha=.5, label = 'longitude')\n",
    "grid()\n",
    "legend(loc='upper left')\n",
    "twiny()\n",
    "hist(data['Lat'], bins=100, range = (40.5,41.0), color='r', alpha=.5, label = 'latitude')\n",
    "legend(loc='best')\n",
    ";"
   ]
  },
  {
   "cell_type": "code",
   "execution_count": null,
   "metadata": {},
   "outputs": [],
   "source": [
    "#scatter plot of both longitude and latitude"
   ]
  },
  {
   "cell_type": "code",
   "execution_count": 40,
   "metadata": {},
   "outputs": [
    {
     "data": {
      "text/plain": [
       "(40.7, 41)"
      ]
     },
     "execution_count": 40,
     "metadata": {},
     "output_type": "execute_result"
    },
    {
     "data": {
      "image/png": "[encoded data removed]",
      "text/plain": [
       "<Figure size 504x504 with 1 Axes>"
      ]
     },
     "metadata": {
      "needs_background": "light"
     },
     "output_type": "display_data"
    }
   ],
   "source": [
    "figure(figsize=(7, 7))\n",
    "plot(data['Lon'], data['Lat'], '.', ms=1, alpha=.5)\n",
    "xlim(-74.2, -73.7)\n",
    "ylim(40.7, 41)"
   ]
  },
  {
   "cell_type": "code",
   "execution_count": 1,
   "metadata": {},
   "outputs": [
    {
     "ename": "NameError",
     "evalue": "name 'data' is not defined",
     "output_type": "error",
     "traceback": [
      "\u001b[1;31m---------------------------------------------------------------------------\u001b[0m",
      "\u001b[1;31mNameError\u001b[0m                                 Traceback (most recent call last)",
      "\u001b[1;32m<ipython-input-1-304fa4ce4ebd>\u001b[0m in \u001b[0;36m<module>\u001b[1;34m\u001b[0m\n\u001b[1;32m----> 1\u001b[1;33m \u001b[0mdata\u001b[0m\u001b[1;33m.\u001b[0m\u001b[0mhead\u001b[0m\u001b[1;33m(\u001b[0m\u001b[1;33m)\u001b[0m\u001b[1;33m\u001b[0m\u001b[1;33m\u001b[0m\u001b[0m\n\u001b[0m",
      "\u001b[1;31mNameError\u001b[0m: name 'data' is not defined"
     ]
    }
   ],
   "source": []
  },
  {
   "cell_type": "code",
   "execution_count": null,
   "metadata": {},
   "outputs": [],
   "source": []
  }
 ],
 "metadata": {
  "kernelspec": {
   "display_name": "Python 3",
   "language": "python",
   "name": "python3"
  },
  "language_info": {
   "codemirror_mode": {
    "name": "ipython",
    "version": 3
   },
   "file_extension": ".py",
   "mimetype": "text/x-python",
   "name": "python",
   "nbconvert_exporter": "python",
   "pygments_lexer": "ipython3",
   "version": "3.7.3"
  }
 },
 "nbformat": 4,
 "nbformat_minor": 2
}
