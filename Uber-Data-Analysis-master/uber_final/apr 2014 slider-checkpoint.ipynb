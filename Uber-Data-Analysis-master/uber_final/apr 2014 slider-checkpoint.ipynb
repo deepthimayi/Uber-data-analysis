{
 "cells": [
  {
   "cell_type": "code",
   "execution_count": 1,
   "metadata": {
    "extensions": {
     "jupyter_dashboards": {
      "version": 1,
      "views": {
       "grid_default": {},
       "report_default": {
        "hidden": false
       }
      }
     }
    }
   },
   "outputs": [
    {
     "name": "stdout",
     "output_type": "stream",
     "text": [
      "Populating the interactive namespace from numpy and matplotlib\n"
     ]
    }
   ],
   "source": [
    "%pylab inline\n",
    "import pandas\n",
    "import seaborn"
   ]
  },
  {
   "cell_type": "code",
   "execution_count": 2,
   "metadata": {},
   "outputs": [],
   "source": [
    "import ipywidgets as widgets\n",
    "from IPython.display import display\n",
    "import matplotlib.pyplot as plt\n",
    "import numpy as np\n",
    "\n",
    "%matplotlib nbagg"
   ]
  },
  {
   "cell_type": "markdown",
   "metadata": {},
   "source": [
    "$A = amplitude$\n",
    "\n",
    "$\\phi = phase$\n",
    "\n",
    "$\\nu = frequency$"
   ]
  },
  {
   "cell_type": "code",
   "execution_count": 3,
   "metadata": {
    "extensions": {
     "jupyter_dashboards": {
      "version": 1,
      "views": {
       "grid_default": {},
       "report_default": {
        "hidden": false
       }
      }
     }
    }
   },
   "outputs": [],
   "source": [
    "data = pandas.read_csv('uber-raw-data-apr14.csv')\n"
   ]
  },
  {
   "cell_type": "code",
   "execution_count": 49,
   "metadata": {
    "extensions": {
     "jupyter_dashboards": {
      "version": 1,
      "views": {
       "grid_default": {},
       "report_default": {
        "hidden": true
       }
      }
     }
    }
   },
   "outputs": [
    {
     "data": {
      "text/html": [
       "<div>\n",
       "<style scoped>\n",
       "    .dataframe tbody tr th:only-of-type {\n",
       "        vertical-align: middle;\n",
       "    }\n",
       "\n",
       "    .dataframe tbody tr th {\n",
       "        vertical-align: top;\n",
       "    }\n",
       "\n",
       "    .dataframe thead th {\n",
       "        text-align: right;\n",
       "    }\n",
       "</style>\n",
       "<table border=\"1\" class=\"dataframe\">\n",
       "  <thead>\n",
       "    <tr style=\"text-align: right;\">\n",
       "      <th></th>\n",
       "      <th>Date/Time</th>\n",
       "      <th>Lat</th>\n",
       "      <th>Lon</th>\n",
       "      <th>Base</th>\n",
       "    </tr>\n",
       "  </thead>\n",
       "  <tbody>\n",
       "    <tr>\n",
       "      <th>564511</th>\n",
       "      <td>4/30/2014 23:22:00</td>\n",
       "      <td>40.7640</td>\n",
       "      <td>-73.9744</td>\n",
       "      <td>B02764</td>\n",
       "    </tr>\n",
       "    <tr>\n",
       "      <th>564512</th>\n",
       "      <td>4/30/2014 23:26:00</td>\n",
       "      <td>40.7629</td>\n",
       "      <td>-73.9672</td>\n",
       "      <td>B02764</td>\n",
       "    </tr>\n",
       "    <tr>\n",
       "      <th>564513</th>\n",
       "      <td>4/30/2014 23:31:00</td>\n",
       "      <td>40.7443</td>\n",
       "      <td>-73.9889</td>\n",
       "      <td>B02764</td>\n",
       "    </tr>\n",
       "    <tr>\n",
       "      <th>564514</th>\n",
       "      <td>4/30/2014 23:32:00</td>\n",
       "      <td>40.6756</td>\n",
       "      <td>-73.9405</td>\n",
       "      <td>B02764</td>\n",
       "    </tr>\n",
       "    <tr>\n",
       "      <th>564515</th>\n",
       "      <td>4/30/2014 23:48:00</td>\n",
       "      <td>40.6880</td>\n",
       "      <td>-73.9608</td>\n",
       "      <td>B02764</td>\n",
       "    </tr>\n",
       "  </tbody>\n",
       "</table>\n",
       "</div>"
      ],
      "text/plain": [
       "                 Date/Time      Lat      Lon    Base\n",
       "564511  4/30/2014 23:22:00  40.7640 -73.9744  B02764\n",
       "564512  4/30/2014 23:26:00  40.7629 -73.9672  B02764\n",
       "564513  4/30/2014 23:31:00  40.7443 -73.9889  B02764\n",
       "564514  4/30/2014 23:32:00  40.6756 -73.9405  B02764\n",
       "564515  4/30/2014 23:48:00  40.6880 -73.9608  B02764"
      ]
     },
     "execution_count": 49,
     "metadata": {},
     "output_type": "execute_result"
    }
   ],
   "source": [
    "data.tail()\n"
   ]
  },
  {
   "cell_type": "code",
   "execution_count": null,
   "metadata": {
    "extensions": {
     "jupyter_dashboards": {
      "version": 1,
      "views": {
       "grid_default": {},
       "report_default": {
        "hidden": false
       }
      }
     }
    }
   },
   "outputs": [],
   "source": [
    "data['Date/Time'] = data['Date/Time'].map(pandas.to_datetime)"
   ]
  },
  {
   "cell_type": "code",
   "execution_count": 51,
   "metadata": {
    "extensions": {
     "jupyter_dashboards": {
      "version": 1,
      "views": {
       "grid_default": {},
       "report_default": {
        "hidden": true
       }
      }
     }
    }
   },
   "outputs": [
    {
     "data": {
      "text/html": [
       "<div>\n",
       "<style scoped>\n",
       "    .dataframe tbody tr th:only-of-type {\n",
       "        vertical-align: middle;\n",
       "    }\n",
       "\n",
       "    .dataframe tbody tr th {\n",
       "        vertical-align: top;\n",
       "    }\n",
       "\n",
       "    .dataframe thead th {\n",
       "        text-align: right;\n",
       "    }\n",
       "</style>\n",
       "<table border=\"1\" class=\"dataframe\">\n",
       "  <thead>\n",
       "    <tr style=\"text-align: right;\">\n",
       "      <th></th>\n",
       "      <th>Date/Time</th>\n",
       "      <th>Lat</th>\n",
       "      <th>Lon</th>\n",
       "      <th>Base</th>\n",
       "    </tr>\n",
       "  </thead>\n",
       "  <tbody>\n",
       "    <tr>\n",
       "      <th>564511</th>\n",
       "      <td>2014-04-30 23:22:00</td>\n",
       "      <td>40.7640</td>\n",
       "      <td>-73.9744</td>\n",
       "      <td>B02764</td>\n",
       "    </tr>\n",
       "    <tr>\n",
       "      <th>564512</th>\n",
       "      <td>2014-04-30 23:26:00</td>\n",
       "      <td>40.7629</td>\n",
       "      <td>-73.9672</td>\n",
       "      <td>B02764</td>\n",
       "    </tr>\n",
       "    <tr>\n",
       "      <th>564513</th>\n",
       "      <td>2014-04-30 23:31:00</td>\n",
       "      <td>40.7443</td>\n",
       "      <td>-73.9889</td>\n",
       "      <td>B02764</td>\n",
       "    </tr>\n",
       "    <tr>\n",
       "      <th>564514</th>\n",
       "      <td>2014-04-30 23:32:00</td>\n",
       "      <td>40.6756</td>\n",
       "      <td>-73.9405</td>\n",
       "      <td>B02764</td>\n",
       "    </tr>\n",
       "    <tr>\n",
       "      <th>564515</th>\n",
       "      <td>2014-04-30 23:48:00</td>\n",
       "      <td>40.6880</td>\n",
       "      <td>-73.9608</td>\n",
       "      <td>B02764</td>\n",
       "    </tr>\n",
       "  </tbody>\n",
       "</table>\n",
       "</div>"
      ],
      "text/plain": [
       "                 Date/Time      Lat      Lon    Base\n",
       "564511 2014-04-30 23:22:00  40.7640 -73.9744  B02764\n",
       "564512 2014-04-30 23:26:00  40.7629 -73.9672  B02764\n",
       "564513 2014-04-30 23:31:00  40.7443 -73.9889  B02764\n",
       "564514 2014-04-30 23:32:00  40.6756 -73.9405  B02764\n",
       "564515 2014-04-30 23:48:00  40.6880 -73.9608  B02764"
      ]
     },
     "execution_count": 51,
     "metadata": {},
     "output_type": "execute_result"
    }
   ],
   "source": [
    "data.tail()"
   ]
  },
  {
   "cell_type": "code",
   "execution_count": 52,
   "metadata": {
    "extensions": {
     "jupyter_dashboards": {
      "version": 1,
      "views": {
       "grid_default": {},
       "report_default": {
        "hidden": false
       }
      }
     }
    }
   },
   "outputs": [],
   "source": [
    "def get_dom(dt):\n",
    "    return dt.day\n",
    "\n",
    "data['dom'] = data['Date/Time'].map(get_dom)"
   ]
  },
  {
   "cell_type": "code",
   "execution_count": 53,
   "metadata": {
    "extensions": {
     "jupyter_dashboards": {
      "version": 1,
      "views": {
       "grid_default": {},
       "report_default": {
        "hidden": true
       }
      }
     }
    }
   },
   "outputs": [
    {
     "data": {
      "text/html": [
       "<div>\n",
       "<style scoped>\n",
       "    .dataframe tbody tr th:only-of-type {\n",
       "        vertical-align: middle;\n",
       "    }\n",
       "\n",
       "    .dataframe tbody tr th {\n",
       "        vertical-align: top;\n",
       "    }\n",
       "\n",
       "    .dataframe thead th {\n",
       "        text-align: right;\n",
       "    }\n",
       "</style>\n",
       "<table border=\"1\" class=\"dataframe\">\n",
       "  <thead>\n",
       "    <tr style=\"text-align: right;\">\n",
       "      <th></th>\n",
       "      <th>Date/Time</th>\n",
       "      <th>Lat</th>\n",
       "      <th>Lon</th>\n",
       "      <th>Base</th>\n",
       "      <th>dom</th>\n",
       "    </tr>\n",
       "  </thead>\n",
       "  <tbody>\n",
       "    <tr>\n",
       "      <th>564511</th>\n",
       "      <td>2014-04-30 23:22:00</td>\n",
       "      <td>40.7640</td>\n",
       "      <td>-73.9744</td>\n",
       "      <td>B02764</td>\n",
       "      <td>30</td>\n",
       "    </tr>\n",
       "    <tr>\n",
       "      <th>564512</th>\n",
       "      <td>2014-04-30 23:26:00</td>\n",
       "      <td>40.7629</td>\n",
       "      <td>-73.9672</td>\n",
       "      <td>B02764</td>\n",
       "      <td>30</td>\n",
       "    </tr>\n",
       "    <tr>\n",
       "      <th>564513</th>\n",
       "      <td>2014-04-30 23:31:00</td>\n",
       "      <td>40.7443</td>\n",
       "      <td>-73.9889</td>\n",
       "      <td>B02764</td>\n",
       "      <td>30</td>\n",
       "    </tr>\n",
       "    <tr>\n",
       "      <th>564514</th>\n",
       "      <td>2014-04-30 23:32:00</td>\n",
       "      <td>40.6756</td>\n",
       "      <td>-73.9405</td>\n",
       "      <td>B02764</td>\n",
       "      <td>30</td>\n",
       "    </tr>\n",
       "    <tr>\n",
       "      <th>564515</th>\n",
       "      <td>2014-04-30 23:48:00</td>\n",
       "      <td>40.6880</td>\n",
       "      <td>-73.9608</td>\n",
       "      <td>B02764</td>\n",
       "      <td>30</td>\n",
       "    </tr>\n",
       "  </tbody>\n",
       "</table>\n",
       "</div>"
      ],
      "text/plain": [
       "                 Date/Time      Lat      Lon    Base  dom\n",
       "564511 2014-04-30 23:22:00  40.7640 -73.9744  B02764   30\n",
       "564512 2014-04-30 23:26:00  40.7629 -73.9672  B02764   30\n",
       "564513 2014-04-30 23:31:00  40.7443 -73.9889  B02764   30\n",
       "564514 2014-04-30 23:32:00  40.6756 -73.9405  B02764   30\n",
       "564515 2014-04-30 23:48:00  40.6880 -73.9608  B02764   30"
      ]
     },
     "execution_count": 53,
     "metadata": {},
     "output_type": "execute_result"
    }
   ],
   "source": [
    "data.tail()"
   ]
  },
  {
   "cell_type": "code",
   "execution_count": 54,
   "metadata": {
    "extensions": {
     "jupyter_dashboards": {
      "version": 1,
      "views": {
       "grid_default": {},
       "report_default": {
        "hidden": true
       }
      }
     }
    }
   },
   "outputs": [
    {
     "data": {
      "text/html": [
       "<div>\n",
       "<style scoped>\n",
       "    .dataframe tbody tr th:only-of-type {\n",
       "        vertical-align: middle;\n",
       "    }\n",
       "\n",
       "    .dataframe tbody tr th {\n",
       "        vertical-align: top;\n",
       "    }\n",
       "\n",
       "    .dataframe thead th {\n",
       "        text-align: right;\n",
       "    }\n",
       "</style>\n",
       "<table border=\"1\" class=\"dataframe\">\n",
       "  <thead>\n",
       "    <tr style=\"text-align: right;\">\n",
       "      <th></th>\n",
       "      <th>Date/Time</th>\n",
       "      <th>Lat</th>\n",
       "      <th>Lon</th>\n",
       "      <th>Base</th>\n",
       "      <th>dom</th>\n",
       "      <th>weekday</th>\n",
       "      <th>hour</th>\n",
       "    </tr>\n",
       "  </thead>\n",
       "  <tbody>\n",
       "    <tr>\n",
       "      <th>564511</th>\n",
       "      <td>2014-04-30 23:22:00</td>\n",
       "      <td>40.7640</td>\n",
       "      <td>-73.9744</td>\n",
       "      <td>B02764</td>\n",
       "      <td>30</td>\n",
       "      <td>2</td>\n",
       "      <td>23</td>\n",
       "    </tr>\n",
       "    <tr>\n",
       "      <th>564512</th>\n",
       "      <td>2014-04-30 23:26:00</td>\n",
       "      <td>40.7629</td>\n",
       "      <td>-73.9672</td>\n",
       "      <td>B02764</td>\n",
       "      <td>30</td>\n",
       "      <td>2</td>\n",
       "      <td>23</td>\n",
       "    </tr>\n",
       "    <tr>\n",
       "      <th>564513</th>\n",
       "      <td>2014-04-30 23:31:00</td>\n",
       "      <td>40.7443</td>\n",
       "      <td>-73.9889</td>\n",
       "      <td>B02764</td>\n",
       "      <td>30</td>\n",
       "      <td>2</td>\n",
       "      <td>23</td>\n",
       "    </tr>\n",
       "    <tr>\n",
       "      <th>564514</th>\n",
       "      <td>2014-04-30 23:32:00</td>\n",
       "      <td>40.6756</td>\n",
       "      <td>-73.9405</td>\n",
       "      <td>B02764</td>\n",
       "      <td>30</td>\n",
       "      <td>2</td>\n",
       "      <td>23</td>\n",
       "    </tr>\n",
       "    <tr>\n",
       "      <th>564515</th>\n",
       "      <td>2014-04-30 23:48:00</td>\n",
       "      <td>40.6880</td>\n",
       "      <td>-73.9608</td>\n",
       "      <td>B02764</td>\n",
       "      <td>30</td>\n",
       "      <td>2</td>\n",
       "      <td>23</td>\n",
       "    </tr>\n",
       "  </tbody>\n",
       "</table>\n",
       "</div>"
      ],
      "text/plain": [
       "                 Date/Time      Lat      Lon    Base  dom  weekday  hour\n",
       "564511 2014-04-30 23:22:00  40.7640 -73.9744  B02764   30        2    23\n",
       "564512 2014-04-30 23:26:00  40.7629 -73.9672  B02764   30        2    23\n",
       "564513 2014-04-30 23:31:00  40.7443 -73.9889  B02764   30        2    23\n",
       "564514 2014-04-30 23:32:00  40.6756 -73.9405  B02764   30        2    23\n",
       "564515 2014-04-30 23:48:00  40.6880 -73.9608  B02764   30        2    23"
      ]
     },
     "execution_count": 54,
     "metadata": {},
     "output_type": "execute_result"
    }
   ],
   "source": [
    "def get_weekday(dt):\n",
    "    return dt.weekday()\n",
    "\n",
    "data['weekday'] = data['Date/Time'].map(get_weekday)\n",
    "\n",
    "def get_hour(dt):\n",
    "    return dt.hour\n",
    "\n",
    "data['hour'] = data['Date/Time'].map(get_hour)\n",
    "\n",
    "data.tail()"
   ]
  },
  {
   "cell_type": "code",
   "execution_count": 55,
   "metadata": {
    "extensions": {
     "jupyter_dashboards": {
      "version": 1,
      "views": {
       "grid_default": {},
       "report_default": {
        "hidden": false
       }
      }
     }
    }
   },
   "outputs": [],
   "source": [
    "def timezone(x):\n",
    "    if x>=datetime.time(4, 0, 1) and x <=datetime.time(10, 0, 0):\n",
    "        return 'morning'\n",
    "    elif x>=datetime.time(10, 0, 1) and x <=datetime.time(16, 0, 0):\n",
    "        return 'midday'\n",
    "    elif x>=datetime.time(16, 0, 1) and x <=datetime.time(22, 0, 0):\n",
    "        return 'evening'\n",
    "    elif x>=datetime.time(22, 0, 1) or x <=datetime.time(4, 0, 0):\n",
    "        return 'late night'\n",
    "    \n",
    "#data['Date/Time']=data['Date/Time'].apply(lambda x :timezone(datetime.datetime.strptime(str(x), \"%Y-%m-%d %H:%M:%S\").time()) )"
   ]
  },
  {
   "cell_type": "code",
   "execution_count": 56,
   "metadata": {},
   "outputs": [],
   "source": [
    "from bqplot import pyplot as plt"
   ]
  },
  {
   "cell_type": "code",
   "execution_count": 12,
   "metadata": {
    "extensions": {
     "jupyter_dashboards": {
      "version": 1,
      "views": {
       "grid_default": {},
       "report_default": {
        "hidden": false
       }
      }
     }
    },
    "scrolled": true
   },
   "outputs": [
    {
     "data": {
      "application/javascript": [
       "/* Put everything inside the global mpl namespace */\n",
       "window.mpl = {};\n",
       "\n",
       "\n",
       "mpl.get_websocket_type = function() {\n",
       "    if (typeof(WebSocket) !== 'undefined') {\n",
       "        return WebSocket;\n",
       "    } else if (typeof(MozWebSocket) !== 'undefined') {\n",
       "        return MozWebSocket;\n",
       "    } else {\n",
       "        alert('Your browser does not have WebSocket support. ' +\n",
       "              'Please try Chrome, Safari or Firefox ≥ 6. ' +\n",
       "              'Firefox 4 and 5 are also supported but you ' +\n",
       "              'have to enable WebSockets in about:config.');\n",
       "    };\n",
       "}\n",
       "\n",
       "mpl.figure = function(figure_id, websocket, ondownload, parent_element) {\n",
       "    this.id = figure_id;\n",
       "\n",
       "    this.ws = websocket;\n",
       "\n",
       "    this.supports_binary = (this.ws.binaryType != undefined);\n",
       "\n",
       "    if (!this.supports_binary) {\n",
       "        var warnings = document.getElementById(\"mpl-warnings\");\n",
       "        if (warnings) {\n",
       "            warnings.style.display = 'block';\n",
       "            warnings.textContent = (\n",
       "                \"This browser does not support binary websocket messages. \" +\n",
       "                    \"Performance may be slow.\");\n",
       "        }\n",
       "    }\n",
       "\n",
       "    this.imageObj = new Image();\n",
       "\n",
       "    this.context = undefined;\n",
       "    this.message = undefined;\n",
       "    this.canvas = undefined;\n",
       "    this.rubberband_canvas = undefined;\n",
       "    this.rubberband_context = undefined;\n",
       "    this.format_dropdown = undefined;\n",
       "\n",
       "    this.image_mode = 'full';\n",
       "\n",
       "    this.root = $('<div/>');\n",
       "    this._root_extra_style(this.root)\n",
       "    this.root.attr('style', 'display: inline-block');\n",
       "\n",
       "    $(parent_element).append(this.root);\n",
       "\n",
       "    this._init_header(this);\n",
       "    this._init_canvas(this);\n",
       "    this._init_toolbar(this);\n",
       "\n",
       "    var fig = this;\n",
       "\n",
       "    this.waiting = false;\n",
       "\n",
       "    this.ws.onopen =  function () {\n",
       "            fig.send_message(\"supports_binary\", {value: fig.supports_binary});\n",
       "            fig.send_message(\"send_image_mode\", {});\n",
       "            if (mpl.ratio != 1) {\n",
       "                fig.send_message(\"set_dpi_ratio\", {'dpi_ratio': mpl.ratio});\n",
       "            }\n",
       "            fig.send_message(\"refresh\", {});\n",
       "        }\n",
       "\n",
       "    this.imageObj.onload = function() {\n",
       "            if (fig.image_mode == 'full') {\n",
       "                // Full images could contain transparency (where diff images\n",
       "                // almost always do), so we need to clear the canvas so that\n",
       "                // there is no ghosting.\n",
       "                fig.context.clearRect(0, 0, fig.canvas.width, fig.canvas.height);\n",
       "            }\n",
       "            fig.context.drawImage(fig.imageObj, 0, 0);\n",
       "        };\n",
       "\n",
       "    this.imageObj.onunload = function() {\n",
       "        fig.ws.close();\n",
       "    }\n",
       "\n",
       "    this.ws.onmessage = this._make_on_message_function(this);\n",
       "\n",
       "    this.ondownload = ondownload;\n",
       "}\n",
       "\n",
       "mpl.figure.prototype._init_header = function() {\n",
       "    var titlebar = $(\n",
       "        '<div class=\"ui-dialog-titlebar ui-widget-header ui-corner-all ' +\n",
       "        'ui-helper-clearfix\"/>');\n",
       "    var titletext = $(\n",
       "        '<div class=\"ui-dialog-title\" style=\"width: 100%; ' +\n",
       "        'text-align: center; padding: 3px;\"/>');\n",
       "    titlebar.append(titletext)\n",
       "    this.root.append(titlebar);\n",
       "    this.header = titletext[0];\n",
       "}\n",
       "\n",
       "\n",
       "\n",
       "mpl.figure.prototype._canvas_extra_style = function(canvas_div) {\n",
       "\n",
       "}\n",
       "\n",
       "\n",
       "mpl.figure.prototype._root_extra_style = function(canvas_div) {\n",
       "\n",
       "}\n",
       "\n",
       "mpl.figure.prototype._init_canvas = function() {\n",
       "    var fig = this;\n",
       "\n",
       "    var canvas_div = $('<div/>');\n",
       "\n",
       "    canvas_div.attr('style', 'position: relative; clear: both; outline: 0');\n",
       "\n",
       "    function canvas_keyboard_event(event) {\n",
       "        return fig.key_event(event, event['data']);\n",
       "    }\n",
       "\n",
       "    canvas_div.keydown('key_press', canvas_keyboard_event);\n",
       "    canvas_div.keyup('key_release', canvas_keyboard_event);\n",
       "    this.canvas_div = canvas_div\n",
       "    this._canvas_extra_style(canvas_div)\n",
       "    this.root.append(canvas_div);\n",
       "\n",
       "    var canvas = $('<canvas/>');\n",
       "    canvas.addClass('mpl-canvas');\n",
       "    canvas.attr('style', \"left: 0; top: 0; z-index: 0; outline: 0\")\n",
       "\n",
       "    this.canvas = canvas[0];\n",
       "    this.context = canvas[0].getContext(\"2d\");\n",
       "\n",
       "    var backingStore = this.context.backingStorePixelRatio ||\n",
       "\tthis.context.webkitBackingStorePixelRatio ||\n",
       "\tthis.context.mozBackingStorePixelRatio ||\n",
       "\tthis.context.msBackingStorePixelRatio ||\n",
       "\tthis.context.oBackingStorePixelRatio ||\n",
       "\tthis.context.backingStorePixelRatio || 1;\n",
       "\n",
       "    mpl.ratio = (window.devicePixelRatio || 1) / backingStore;\n",
       "\n",
       "    var rubberband = $('<canvas/>');\n",
       "    rubberband.attr('style', \"position: absolute; left: 0; top: 0; z-index: 1;\")\n",
       "\n",
       "    var pass_mouse_events = true;\n",
       "\n",
       "    canvas_div.resizable({\n",
       "        start: function(event, ui) {\n",
       "            pass_mouse_events = false;\n",
       "        },\n",
       "        resize: function(event, ui) {\n",
       "            fig.request_resize(ui.size.width, ui.size.height);\n",
       "        },\n",
       "        stop: function(event, ui) {\n",
       "            pass_mouse_events = true;\n",
       "            fig.request_resize(ui.size.width, ui.size.height);\n",
       "        },\n",
       "    });\n",
       "\n",
       "    function mouse_event_fn(event) {\n",
       "        if (pass_mouse_events)\n",
       "            return fig.mouse_event(event, event['data']);\n",
       "    }\n",
       "\n",
       "    rubberband.mousedown('button_press', mouse_event_fn);\n",
       "    rubberband.mouseup('button_release', mouse_event_fn);\n",
       "    // Throttle sequential mouse events to 1 every 20ms.\n",
       "    rubberband.mousemove('motion_notify', mouse_event_fn);\n",
       "\n",
       "    rubberband.mouseenter('figure_enter', mouse_event_fn);\n",
       "    rubberband.mouseleave('figure_leave', mouse_event_fn);\n",
       "\n",
       "    canvas_div.on(\"wheel\", function (event) {\n",
       "        event = event.originalEvent;\n",
       "        event['data'] = 'scroll'\n",
       "        if (event.deltaY < 0) {\n",
       "            event.step = 1;\n",
       "        } else {\n",
       "            event.step = -1;\n",
       "        }\n",
       "        mouse_event_fn(event);\n",
       "    });\n",
       "\n",
       "    canvas_div.append(canvas);\n",
       "    canvas_div.append(rubberband);\n",
       "\n",
       "    this.rubberband = rubberband;\n",
       "    this.rubberband_canvas = rubberband[0];\n",
       "    this.rubberband_context = rubberband[0].getContext(\"2d\");\n",
       "    this.rubberband_context.strokeStyle = \"#000000\";\n",
       "\n",
       "    this._resize_canvas = function(width, height) {\n",
       "        // Keep the size of the canvas, canvas container, and rubber band\n",
       "        // canvas in synch.\n",
       "        canvas_div.css('width', width)\n",
       "        canvas_div.css('height', height)\n",
       "\n",
       "        canvas.attr('width', width * mpl.ratio);\n",
       "        canvas.attr('height', height * mpl.ratio);\n",
       "        canvas.attr('style', 'width: ' + width + 'px; height: ' + height + 'px;');\n",
       "\n",
       "        rubberband.attr('width', width);\n",
       "        rubberband.attr('height', height);\n",
       "    }\n",
       "\n",
       "    // Set the figure to an initial 600x600px, this will subsequently be updated\n",
       "    // upon first draw.\n",
       "    this._resize_canvas(600, 600);\n",
       "\n",
       "    // Disable right mouse context menu.\n",
       "    $(this.rubberband_canvas).bind(\"contextmenu\",function(e){\n",
       "        return false;\n",
       "    });\n",
       "\n",
       "    function set_focus () {\n",
       "        canvas.focus();\n",
       "        canvas_div.focus();\n",
       "    }\n",
       "\n",
       "    window.setTimeout(set_focus, 100);\n",
       "}\n",
       "\n",
       "mpl.figure.prototype._init_toolbar = function() {\n",
       "    var fig = this;\n",
       "\n",
       "    var nav_element = $('<div/>');\n",
       "    nav_element.attr('style', 'width: 100%');\n",
       "    this.root.append(nav_element);\n",
       "\n",
       "    // Define a callback function for later on.\n",
       "    function toolbar_event(event) {\n",
       "        return fig.toolbar_button_onclick(event['data']);\n",
       "    }\n",
       "    function toolbar_mouse_event(event) {\n",
       "        return fig.toolbar_button_onmouseover(event['data']);\n",
       "    }\n",
       "\n",
       "    for(var toolbar_ind in mpl.toolbar_items) {\n",
       "        var name = mpl.toolbar_items[toolbar_ind][0];\n",
       "        var tooltip = mpl.toolbar_items[toolbar_ind][1];\n",
       "        var image = mpl.toolbar_items[toolbar_ind][2];\n",
       "        var method_name = mpl.toolbar_items[toolbar_ind][3];\n",
       "\n",
       "        if (!name) {\n",
       "            // put a spacer in here.\n",
       "            continue;\n",
       "        }\n",
       "        var button = $('<button/>');\n",
       "        button.addClass('ui-button ui-widget ui-state-default ui-corner-all ' +\n",
       "                        'ui-button-icon-only');\n",
       "        button.attr('role', 'button');\n",
       "        button.attr('aria-disabled', 'false');\n",
       "        button.click(method_name, toolbar_event);\n",
       "        button.mouseover(tooltip, toolbar_mouse_event);\n",
       "\n",
       "        var icon_img = $('<span/>');\n",
       "        icon_img.addClass('ui-button-icon-primary ui-icon');\n",
       "        icon_img.addClass(image);\n",
       "        icon_img.addClass('ui-corner-all');\n",
       "\n",
       "        var tooltip_span = $('<span/>');\n",
       "        tooltip_span.addClass('ui-button-text');\n",
       "        tooltip_span.html(tooltip);\n",
       "\n",
       "        button.append(icon_img);\n",
       "        button.append(tooltip_span);\n",
       "\n",
       "        nav_element.append(button);\n",
       "    }\n",
       "\n",
       "    var fmt_picker_span = $('<span/>');\n",
       "\n",
       "    var fmt_picker = $('<select/>');\n",
       "    fmt_picker.addClass('mpl-toolbar-option ui-widget ui-widget-content');\n",
       "    fmt_picker_span.append(fmt_picker);\n",
       "    nav_element.append(fmt_picker_span);\n",
       "    this.format_dropdown = fmt_picker[0];\n",
       "\n",
       "    for (var ind in mpl.extensions) {\n",
       "        var fmt = mpl.extensions[ind];\n",
       "        var option = $(\n",
       "            '<option/>', {selected: fmt === mpl.default_extension}).html(fmt);\n",
       "        fmt_picker.append(option);\n",
       "    }\n",
       "\n",
       "    // Add hover states to the ui-buttons\n",
       "    $( \".ui-button\" ).hover(\n",
       "        function() { $(this).addClass(\"ui-state-hover\");},\n",
       "        function() { $(this).removeClass(\"ui-state-hover\");}\n",
       "    );\n",
       "\n",
       "    var status_bar = $('<span class=\"mpl-message\"/>');\n",
       "    nav_element.append(status_bar);\n",
       "    this.message = status_bar[0];\n",
       "}\n",
       "\n",
       "mpl.figure.prototype.request_resize = function(x_pixels, y_pixels) {\n",
       "    // Request matplotlib to resize the figure. Matplotlib will then trigger a resize in the client,\n",
       "    // which will in turn request a refresh of the image.\n",
       "    this.send_message('resize', {'width': x_pixels, 'height': y_pixels});\n",
       "}\n",
       "\n",
       "mpl.figure.prototype.send_message = function(type, properties) {\n",
       "    properties['type'] = type;\n",
       "    properties['figure_id'] = this.id;\n",
       "    this.ws.send(JSON.stringify(properties));\n",
       "}\n",
       "\n",
       "mpl.figure.prototype.send_draw_message = function() {\n",
       "    if (!this.waiting) {\n",
       "        this.waiting = true;\n",
       "        this.ws.send(JSON.stringify({type: \"draw\", figure_id: this.id}));\n",
       "    }\n",
       "}\n",
       "\n",
       "\n",
       "mpl.figure.prototype.handle_save = function(fig, msg) {\n",
       "    var format_dropdown = fig.format_dropdown;\n",
       "    var format = format_dropdown.options[format_dropdown.selectedIndex].value;\n",
       "    fig.ondownload(fig, format);\n",
       "}\n",
       "\n",
       "\n",
       "mpl.figure.prototype.handle_resize = function(fig, msg) {\n",
       "    var size = msg['size'];\n",
       "    if (size[0] != fig.canvas.width || size[1] != fig.canvas.height) {\n",
       "        fig._resize_canvas(size[0], size[1]);\n",
       "        fig.send_message(\"refresh\", {});\n",
       "    };\n",
       "}\n",
       "\n",
       "mpl.figure.prototype.handle_rubberband = function(fig, msg) {\n",
       "    var x0 = msg['x0'] / mpl.ratio;\n",
       "    var y0 = (fig.canvas.height - msg['y0']) / mpl.ratio;\n",
       "    var x1 = msg['x1'] / mpl.ratio;\n",
       "    var y1 = (fig.canvas.height - msg['y1']) / mpl.ratio;\n",
       "    x0 = Math.floor(x0) + 0.5;\n",
       "    y0 = Math.floor(y0) + 0.5;\n",
       "    x1 = Math.floor(x1) + 0.5;\n",
       "    y1 = Math.floor(y1) + 0.5;\n",
       "    var min_x = Math.min(x0, x1);\n",
       "    var min_y = Math.min(y0, y1);\n",
       "    var width = Math.abs(x1 - x0);\n",
       "    var height = Math.abs(y1 - y0);\n",
       "\n",
       "    fig.rubberband_context.clearRect(\n",
       "        0, 0, fig.canvas.width / mpl.ratio, fig.canvas.height / mpl.ratio);\n",
       "\n",
       "    fig.rubberband_context.strokeRect(min_x, min_y, width, height);\n",
       "}\n",
       "\n",
       "mpl.figure.prototype.handle_figure_label = function(fig, msg) {\n",
       "    // Updates the figure title.\n",
       "    fig.header.textContent = msg['label'];\n",
       "}\n",
       "\n",
       "mpl.figure.prototype.handle_cursor = function(fig, msg) {\n",
       "    var cursor = msg['cursor'];\n",
       "    switch(cursor)\n",
       "    {\n",
       "    case 0:\n",
       "        cursor = 'pointer';\n",
       "        break;\n",
       "    case 1:\n",
       "        cursor = 'default';\n",
       "        break;\n",
       "    case 2:\n",
       "        cursor = 'crosshair';\n",
       "        break;\n",
       "    case 3:\n",
       "        cursor = 'move';\n",
       "        break;\n",
       "    }\n",
       "    fig.rubberband_canvas.style.cursor = cursor;\n",
       "}\n",
       "\n",
       "mpl.figure.prototype.handle_message = function(fig, msg) {\n",
       "    fig.message.textContent = msg['message'];\n",
       "}\n",
       "\n",
       "mpl.figure.prototype.handle_draw = function(fig, msg) {\n",
       "    // Request the server to send over a new figure.\n",
       "    fig.send_draw_message();\n",
       "}\n",
       "\n",
       "mpl.figure.prototype.handle_image_mode = function(fig, msg) {\n",
       "    fig.image_mode = msg['mode'];\n",
       "}\n",
       "\n",
       "mpl.figure.prototype.updated_canvas_event = function() {\n",
       "    // Called whenever the canvas gets updated.\n",
       "    this.send_message(\"ack\", {});\n",
       "}\n",
       "\n",
       "// A function to construct a web socket function for onmessage handling.\n",
       "// Called in the figure constructor.\n",
       "mpl.figure.prototype._make_on_message_function = function(fig) {\n",
       "    return function socket_on_message(evt) {\n",
       "        if (evt.data instanceof Blob) {\n",
       "            /* FIXME: We get \"Resource interpreted as Image but\n",
       "             * transferred with MIME type text/plain:\" errors on\n",
       "             * Chrome.  But how to set the MIME type?  It doesn't seem\n",
       "             * to be part of the websocket stream */\n",
       "            evt.data.type = \"image/png\";\n",
       "\n",
       "            /* Free the memory for the previous frames */\n",
       "            if (fig.imageObj.src) {\n",
       "                (window.URL || window.webkitURL).revokeObjectURL(\n",
       "                    fig.imageObj.src);\n",
       "            }\n",
       "\n",
       "            fig.imageObj.src = (window.URL || window.webkitURL).createObjectURL(\n",
       "                evt.data);\n",
       "            fig.updated_canvas_event();\n",
       "            fig.waiting = false;\n",
       "            return;\n",
       "        }\n",
       "        else if (typeof evt.data === 'string' && evt.data.slice(0, 21) == \"data:image/png;base64\") {\n",
       "            fig.imageObj.src = evt.data;\n",
       "            fig.updated_canvas_event();\n",
       "            fig.waiting = false;\n",
       "            return;\n",
       "        }\n",
       "\n",
       "        var msg = JSON.parse(evt.data);\n",
       "        var msg_type = msg['type'];\n",
       "\n",
       "        // Call the  \"handle_{type}\" callback, which takes\n",
       "        // the figure and JSON message as its only arguments.\n",
       "        try {\n",
       "            var callback = fig[\"handle_\" + msg_type];\n",
       "        } catch (e) {\n",
       "            console.log(\"No handler for the '\" + msg_type + \"' message type: \", msg);\n",
       "            return;\n",
       "        }\n",
       "\n",
       "        if (callback) {\n",
       "            try {\n",
       "                // console.log(\"Handling '\" + msg_type + \"' message: \", msg);\n",
       "                callback(fig, msg);\n",
       "            } catch (e) {\n",
       "                console.log(\"Exception inside the 'handler_\" + msg_type + \"' callback:\", e, e.stack, msg);\n",
       "            }\n",
       "        }\n",
       "    };\n",
       "}\n",
       "\n",
       "// from http://stackoverflow.com/questions/1114465/getting-mouse-location-in-canvas\n",
       "mpl.findpos = function(e) {\n",
       "    //this section is from http://www.quirksmode.org/js/events_properties.html\n",
       "    var targ;\n",
       "    if (!e)\n",
       "        e = window.event;\n",
       "    if (e.target)\n",
       "        targ = e.target;\n",
       "    else if (e.srcElement)\n",
       "        targ = e.srcElement;\n",
       "    if (targ.nodeType == 3) // defeat Safari bug\n",
       "        targ = targ.parentNode;\n",
       "\n",
       "    // jQuery normalizes the pageX and pageY\n",
       "    // pageX,Y are the mouse positions relative to the document\n",
       "    // offset() returns the position of the element relative to the document\n",
       "    var x = e.pageX - $(targ).offset().left;\n",
       "    var y = e.pageY - $(targ).offset().top;\n",
       "\n",
       "    return {\"x\": x, \"y\": y};\n",
       "};\n",
       "\n",
       "/*\n",
       " * return a copy of an object with only non-object keys\n",
       " * we need this to avoid circular references\n",
       " * http://stackoverflow.com/a/24161582/3208463\n",
       " */\n",
       "function simpleKeys (original) {\n",
       "  return Object.keys(original).reduce(function (obj, key) {\n",
       "    if (typeof original[key] !== 'object')\n",
       "        obj[key] = original[key]\n",
       "    return obj;\n",
       "  }, {});\n",
       "}\n",
       "\n",
       "mpl.figure.prototype.mouse_event = function(event, name) {\n",
       "    var canvas_pos = mpl.findpos(event)\n",
       "\n",
       "    if (name === 'button_press')\n",
       "    {\n",
       "        this.canvas.focus();\n",
       "        this.canvas_div.focus();\n",
       "    }\n",
       "\n",
       "    var x = canvas_pos.x * mpl.ratio;\n",
       "    var y = canvas_pos.y * mpl.ratio;\n",
       "\n",
       "    this.send_message(name, {x: x, y: y, button: event.button,\n",
       "                             step: event.step,\n",
       "                             guiEvent: simpleKeys(event)});\n",
       "\n",
       "    /* This prevents the web browser from automatically changing to\n",
       "     * the text insertion cursor when the button is pressed.  We want\n",
       "     * to control all of the cursor setting manually through the\n",
       "     * 'cursor' event from matplotlib */\n",
       "    event.preventDefault();\n",
       "    return false;\n",
       "}\n",
       "\n",
       "mpl.figure.prototype._key_event_extra = function(event, name) {\n",
       "    // Handle any extra behaviour associated with a key event\n",
       "}\n",
       "\n",
       "mpl.figure.prototype.key_event = function(event, name) {\n",
       "\n",
       "    // Prevent repeat events\n",
       "    if (name == 'key_press')\n",
       "    {\n",
       "        if (event.which === this._key)\n",
       "            return;\n",
       "        else\n",
       "            this._key = event.which;\n",
       "    }\n",
       "    if (name == 'key_release')\n",
       "        this._key = null;\n",
       "\n",
       "    var value = '';\n",
       "    if (event.ctrlKey && event.which != 17)\n",
       "        value += \"ctrl+\";\n",
       "    if (event.altKey && event.which != 18)\n",
       "        value += \"alt+\";\n",
       "    if (event.shiftKey && event.which != 16)\n",
       "        value += \"shift+\";\n",
       "\n",
       "    value += 'k';\n",
       "    value += event.which.toString();\n",
       "\n",
       "    this._key_event_extra(event, name);\n",
       "\n",
       "    this.send_message(name, {key: value,\n",
       "                             guiEvent: simpleKeys(event)});\n",
       "    return false;\n",
       "}\n",
       "\n",
       "mpl.figure.prototype.toolbar_button_onclick = function(name) {\n",
       "    if (name == 'download') {\n",
       "        this.handle_save(this, null);\n",
       "    } else {\n",
       "        this.send_message(\"toolbar_button\", {name: name});\n",
       "    }\n",
       "};\n",
       "\n",
       "mpl.figure.prototype.toolbar_button_onmouseover = function(tooltip) {\n",
       "    this.message.textContent = tooltip;\n",
       "};\n",
       "mpl.toolbar_items = [[\"Home\", \"Reset original view\", \"fa fa-home icon-home\", \"home\"], [\"Back\", \"Back to previous view\", \"fa fa-arrow-left icon-arrow-left\", \"back\"], [\"Forward\", \"Forward to next view\", \"fa fa-arrow-right icon-arrow-right\", \"forward\"], [\"\", \"\", \"\", \"\"], [\"Pan\", \"Pan axes with left mouse, zoom with right\", \"fa fa-arrows icon-move\", \"pan\"], [\"Zoom\", \"Zoom to rectangle\", \"fa fa-square-o icon-check-empty\", \"zoom\"], [\"\", \"\", \"\", \"\"], [\"Download\", \"Download plot\", \"fa fa-floppy-o icon-save\", \"download\"]];\n",
       "\n",
       "mpl.extensions = [\"eps\", \"jpeg\", \"pdf\", \"png\", \"ps\", \"raw\", \"svg\", \"tif\"];\n",
       "\n",
       "mpl.default_extension = \"png\";var comm_websocket_adapter = function(comm) {\n",
       "    // Create a \"websocket\"-like object which calls the given IPython comm\n",
       "    // object with the appropriate methods. Currently this is a non binary\n",
       "    // socket, so there is still some room for performance tuning.\n",
       "    var ws = {};\n",
       "\n",
       "    ws.close = function() {\n",
       "        comm.close()\n",
       "    };\n",
       "    ws.send = function(m) {\n",
       "        //console.log('sending', m);\n",
       "        comm.send(m);\n",
       "    };\n",
       "    // Register the callback with on_msg.\n",
       "    comm.on_msg(function(msg) {\n",
       "        //console.log('receiving', msg['content']['data'], msg);\n",
       "        // Pass the mpl event to the overridden (by mpl) onmessage function.\n",
       "        ws.onmessage(msg['content']['data'])\n",
       "    });\n",
       "    return ws;\n",
       "}\n",
       "\n",
       "mpl.mpl_figure_comm = function(comm, msg) {\n",
       "    // This is the function which gets called when the mpl process\n",
       "    // starts-up an IPython Comm through the \"matplotlib\" channel.\n",
       "\n",
       "    var id = msg.content.data.id;\n",
       "    // Get hold of the div created by the display call when the Comm\n",
       "    // socket was opened in Python.\n",
       "    var element = $(\"#\" + id);\n",
       "    var ws_proxy = comm_websocket_adapter(comm)\n",
       "\n",
       "    function ondownload(figure, format) {\n",
       "        window.open(figure.imageObj.src);\n",
       "    }\n",
       "\n",
       "    var fig = new mpl.figure(id, ws_proxy,\n",
       "                           ondownload,\n",
       "                           element.get(0));\n",
       "\n",
       "    // Call onopen now - mpl needs it, as it is assuming we've passed it a real\n",
       "    // web socket which is closed, not our websocket->open comm proxy.\n",
       "    ws_proxy.onopen();\n",
       "\n",
       "    fig.parent_element = element.get(0);\n",
       "    fig.cell_info = mpl.find_output_cell(\"<div id='\" + id + \"'></div>\");\n",
       "    if (!fig.cell_info) {\n",
       "        console.error(\"Failed to find cell for figure\", id, fig);\n",
       "        return;\n",
       "    }\n",
       "\n",
       "    var output_index = fig.cell_info[2]\n",
       "    var cell = fig.cell_info[0];\n",
       "\n",
       "};\n",
       "\n",
       "mpl.figure.prototype.handle_close = function(fig, msg) {\n",
       "    var width = fig.canvas.width/mpl.ratio\n",
       "    fig.root.unbind('remove')\n",
       "\n",
       "    // Update the output cell to use the data from the current canvas.\n",
       "    fig.push_to_output();\n",
       "    var dataURL = fig.canvas.toDataURL();\n",
       "    // Re-enable the keyboard manager in IPython - without this line, in FF,\n",
       "    // the notebook keyboard shortcuts fail.\n",
       "    IPython.keyboard_manager.enable()\n",
       "    $(fig.parent_element).html('<img src=\"' + dataURL + '\" width=\"' + width + '\">');\n",
       "    fig.close_ws(fig, msg);\n",
       "}\n",
       "\n",
       "mpl.figure.prototype.close_ws = function(fig, msg){\n",
       "    fig.send_message('closing', msg);\n",
       "    // fig.ws.close()\n",
       "}\n",
       "\n",
       "mpl.figure.prototype.push_to_output = function(remove_interactive) {\n",
       "    // Turn the data on the canvas into data in the output cell.\n",
       "    var width = this.canvas.width/mpl.ratio\n",
       "    var dataURL = this.canvas.toDataURL();\n",
       "    this.cell_info[1]['text/html'] = '<img src=\"' + dataURL + '\" width=\"' + width + '\">';\n",
       "}\n",
       "\n",
       "mpl.figure.prototype.updated_canvas_event = function() {\n",
       "    // Tell IPython that the notebook contents must change.\n",
       "    IPython.notebook.set_dirty(true);\n",
       "    this.send_message(\"ack\", {});\n",
       "    var fig = this;\n",
       "    // Wait a second, then push the new image to the DOM so\n",
       "    // that it is saved nicely (might be nice to debounce this).\n",
       "    setTimeout(function () { fig.push_to_output() }, 1000);\n",
       "}\n",
       "\n",
       "mpl.figure.prototype._init_toolbar = function() {\n",
       "    var fig = this;\n",
       "\n",
       "    var nav_element = $('<div/>');\n",
       "    nav_element.attr('style', 'width: 100%');\n",
       "    this.root.append(nav_element);\n",
       "\n",
       "    // Define a callback function for later on.\n",
       "    function toolbar_event(event) {\n",
       "        return fig.toolbar_button_onclick(event['data']);\n",
       "    }\n",
       "    function toolbar_mouse_event(event) {\n",
       "        return fig.toolbar_button_onmouseover(event['data']);\n",
       "    }\n",
       "\n",
       "    for(var toolbar_ind in mpl.toolbar_items){\n",
       "        var name = mpl.toolbar_items[toolbar_ind][0];\n",
       "        var tooltip = mpl.toolbar_items[toolbar_ind][1];\n",
       "        var image = mpl.toolbar_items[toolbar_ind][2];\n",
       "        var method_name = mpl.toolbar_items[toolbar_ind][3];\n",
       "\n",
       "        if (!name) { continue; };\n",
       "\n",
       "        var button = $('<button class=\"btn btn-default\" href=\"#\" title=\"' + name + '\"><i class=\"fa ' + image + ' fa-lg\"></i></button>');\n",
       "        button.click(method_name, toolbar_event);\n",
       "        button.mouseover(tooltip, toolbar_mouse_event);\n",
       "        nav_element.append(button);\n",
       "    }\n",
       "\n",
       "    // Add the status bar.\n",
       "    var status_bar = $('<span class=\"mpl-message\" style=\"text-align:right; float: right;\"/>');\n",
       "    nav_element.append(status_bar);\n",
       "    this.message = status_bar[0];\n",
       "\n",
       "    // Add the close button to the window.\n",
       "    var buttongrp = $('<div class=\"btn-group inline pull-right\"></div>');\n",
       "    var button = $('<button class=\"btn btn-mini btn-primary\" href=\"#\" title=\"Stop Interaction\"><i class=\"fa fa-power-off icon-remove icon-large\"></i></button>');\n",
       "    button.click(function (evt) { fig.handle_close(fig, {}); } );\n",
       "    button.mouseover('Stop Interaction', toolbar_mouse_event);\n",
       "    buttongrp.append(button);\n",
       "    var titlebar = this.root.find($('.ui-dialog-titlebar'));\n",
       "    titlebar.prepend(buttongrp);\n",
       "}\n",
       "\n",
       "mpl.figure.prototype._root_extra_style = function(el){\n",
       "    var fig = this\n",
       "    el.on(\"remove\", function(){\n",
       "\tfig.close_ws(fig, {});\n",
       "    });\n",
       "}\n",
       "\n",
       "mpl.figure.prototype._canvas_extra_style = function(el){\n",
       "    // this is important to make the div 'focusable\n",
       "    el.attr('tabindex', 0)\n",
       "    // reach out to IPython and tell the keyboard manager to turn it's self\n",
       "    // off when our div gets focus\n",
       "\n",
       "    // location in version 3\n",
       "    if (IPython.notebook.keyboard_manager) {\n",
       "        IPython.notebook.keyboard_manager.register_events(el);\n",
       "    }\n",
       "    else {\n",
       "        // location in version 2\n",
       "        IPython.keyboard_manager.register_events(el);\n",
       "    }\n",
       "\n",
       "}\n",
       "\n",
       "mpl.figure.prototype._key_event_extra = function(event, name) {\n",
       "    var manager = IPython.notebook.keyboard_manager;\n",
       "    if (!manager)\n",
       "        manager = IPython.keyboard_manager;\n",
       "\n",
       "    // Check for shift+enter\n",
       "    if (event.shiftKey && event.which == 13) {\n",
       "        this.canvas_div.blur();\n",
       "        // select the cell after this one\n",
       "        var index = IPython.notebook.find_cell_index(this.cell_info[0]);\n",
       "        IPython.notebook.select(index + 1);\n",
       "    }\n",
       "}\n",
       "\n",
       "mpl.figure.prototype.handle_save = function(fig, msg) {\n",
       "    fig.ondownload(fig, null);\n",
       "}\n",
       "\n",
       "\n",
       "mpl.find_output_cell = function(html_output) {\n",
       "    // Return the cell and output element which can be found *uniquely* in the notebook.\n",
       "    // Note - this is a bit hacky, but it is done because the \"notebook_saving.Notebook\"\n",
       "    // IPython event is triggered only after the cells have been serialised, which for\n",
       "    // our purposes (turning an active figure into a static one), is too late.\n",
       "    var cells = IPython.notebook.get_cells();\n",
       "    var ncells = cells.length;\n",
       "    for (var i=0; i<ncells; i++) {\n",
       "        var cell = cells[i];\n",
       "        if (cell.cell_type === 'code'){\n",
       "            for (var j=0; j<cell.output_area.outputs.length; j++) {\n",
       "                var data = cell.output_area.outputs[j];\n",
       "                if (data.data) {\n",
       "                    // IPython >= 3 moved mimebundle to data attribute of output\n",
       "                    data = data.data;\n",
       "                }\n",
       "                if (data['text/html'] == html_output) {\n",
       "                    return [cell, data, j];\n",
       "                }\n",
       "            }\n",
       "        }\n",
       "    }\n",
       "}\n",
       "\n",
       "// Register the function which deals with the matplotlib target/channel.\n",
       "// The kernel may be null if the page has been refreshed.\n",
       "if (IPython.notebook.kernel != null) {\n",
       "    IPython.notebook.kernel.comm_manager.register_target('matplotlib', mpl.mpl_figure_comm);\n",
       "}\n"
      ],
      "text/plain": [
       "<IPython.core.display.Javascript object>"
      ]
     },
     "metadata": {},
     "output_type": "display_data"
    },
    {
     "data": {
      "text/html": [
       "<img src=\"data:image/png;base64,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\" width=\"720\">"
      ],
      "text/plain": [
       "<IPython.core.display.HTML object>"
      ]
     },
     "metadata": {},
     "output_type": "display_data"
    },
    {
     "data": {
      "text/plain": [
       "Text(0.5, 1.0, 'The distribution of number of pickups on each part of the day')"
      ]
     },
     "execution_count": 12,
     "metadata": {},
     "output_type": "execute_result"
    }
   ],
   "source": [
    "figure,ax=plt.subplots(ncols=2,figsize=(10,5))\n",
    "seaborn.countplot(x='Date/Time',data=data,ax=ax[0])\n",
    "ax[0].set_title('The distribution of number of pickups on each part of the day')"
   ]
  },
  {
   "cell_type": "code",
   "execution_count": 57,
   "metadata": {
    "extensions": {
     "jupyter_dashboards": {
      "version": 1,
      "views": {
       "grid_default": {},
       "report_default": {
        "hidden": false
       }
      }
     }
    }
   },
   "outputs": [
    {
     "data": {
      "application/javascript": [
       "/* Put everything inside the global mpl namespace */\n",
       "window.mpl = {};\n",
       "\n",
       "\n",
       "mpl.get_websocket_type = function() {\n",
       "    if (typeof(WebSocket) !== 'undefined') {\n",
       "        return WebSocket;\n",
       "    } else if (typeof(MozWebSocket) !== 'undefined') {\n",
       "        return MozWebSocket;\n",
       "    } else {\n",
       "        alert('Your browser does not have WebSocket support. ' +\n",
       "              'Please try Chrome, Safari or Firefox ≥ 6. ' +\n",
       "              'Firefox 4 and 5 are also supported but you ' +\n",
       "              'have to enable WebSockets in about:config.');\n",
       "    };\n",
       "}\n",
       "\n",
       "mpl.figure = function(figure_id, websocket, ondownload, parent_element) {\n",
       "    this.id = figure_id;\n",
       "\n",
       "    this.ws = websocket;\n",
       "\n",
       "    this.supports_binary = (this.ws.binaryType != undefined);\n",
       "\n",
       "    if (!this.supports_binary) {\n",
       "        var warnings = document.getElementById(\"mpl-warnings\");\n",
       "        if (warnings) {\n",
       "            warnings.style.display = 'block';\n",
       "            warnings.textContent = (\n",
       "                \"This browser does not support binary websocket messages. \" +\n",
       "                    \"Performance may be slow.\");\n",
       "        }\n",
       "    }\n",
       "\n",
       "    this.imageObj = new Image();\n",
       "\n",
       "    this.context = undefined;\n",
       "    this.message = undefined;\n",
       "    this.canvas = undefined;\n",
       "    this.rubberband_canvas = undefined;\n",
       "    this.rubberband_context = undefined;\n",
       "    this.format_dropdown = undefined;\n",
       "\n",
       "    this.image_mode = 'full';\n",
       "\n",
       "    this.root = $('<div/>');\n",
       "    this._root_extra_style(this.root)\n",
       "    this.root.attr('style', 'display: inline-block');\n",
       "\n",
       "    $(parent_element).append(this.root);\n",
       "\n",
       "    this._init_header(this);\n",
       "    this._init_canvas(this);\n",
       "    this._init_toolbar(this);\n",
       "\n",
       "    var fig = this;\n",
       "\n",
       "    this.waiting = false;\n",
       "\n",
       "    this.ws.onopen =  function () {\n",
       "            fig.send_message(\"supports_binary\", {value: fig.supports_binary});\n",
       "            fig.send_message(\"send_image_mode\", {});\n",
       "            if (mpl.ratio != 1) {\n",
       "                fig.send_message(\"set_dpi_ratio\", {'dpi_ratio': mpl.ratio});\n",
       "            }\n",
       "            fig.send_message(\"refresh\", {});\n",
       "        }\n",
       "\n",
       "    this.imageObj.onload = function() {\n",
       "            if (fig.image_mode == 'full') {\n",
       "                // Full images could contain transparency (where diff images\n",
       "                // almost always do), so we need to clear the canvas so that\n",
       "                // there is no ghosting.\n",
       "                fig.context.clearRect(0, 0, fig.canvas.width, fig.canvas.height);\n",
       "            }\n",
       "            fig.context.drawImage(fig.imageObj, 0, 0);\n",
       "        };\n",
       "\n",
       "    this.imageObj.onunload = function() {\n",
       "        fig.ws.close();\n",
       "    }\n",
       "\n",
       "    this.ws.onmessage = this._make_on_message_function(this);\n",
       "\n",
       "    this.ondownload = ondownload;\n",
       "}\n",
       "\n",
       "mpl.figure.prototype._init_header = function() {\n",
       "    var titlebar = $(\n",
       "        '<div class=\"ui-dialog-titlebar ui-widget-header ui-corner-all ' +\n",
       "        'ui-helper-clearfix\"/>');\n",
       "    var titletext = $(\n",
       "        '<div class=\"ui-dialog-title\" style=\"width: 100%; ' +\n",
       "        'text-align: center; padding: 3px;\"/>');\n",
       "    titlebar.append(titletext)\n",
       "    this.root.append(titlebar);\n",
       "    this.header = titletext[0];\n",
       "}\n",
       "\n",
       "\n",
       "\n",
       "mpl.figure.prototype._canvas_extra_style = function(canvas_div) {\n",
       "\n",
       "}\n",
       "\n",
       "\n",
       "mpl.figure.prototype._root_extra_style = function(canvas_div) {\n",
       "\n",
       "}\n",
       "\n",
       "mpl.figure.prototype._init_canvas = function() {\n",
       "    var fig = this;\n",
       "\n",
       "    var canvas_div = $('<div/>');\n",
       "\n",
       "    canvas_div.attr('style', 'position: relative; clear: both; outline: 0');\n",
       "\n",
       "    function canvas_keyboard_event(event) {\n",
       "        return fig.key_event(event, event['data']);\n",
       "    }\n",
       "\n",
       "    canvas_div.keydown('key_press', canvas_keyboard_event);\n",
       "    canvas_div.keyup('key_release', canvas_keyboard_event);\n",
       "    this.canvas_div = canvas_div\n",
       "    this._canvas_extra_style(canvas_div)\n",
       "    this.root.append(canvas_div);\n",
       "\n",
       "    var canvas = $('<canvas/>');\n",
       "    canvas.addClass('mpl-canvas');\n",
       "    canvas.attr('style', \"left: 0; top: 0; z-index: 0; outline: 0\")\n",
       "\n",
       "    this.canvas = canvas[0];\n",
       "    this.context = canvas[0].getContext(\"2d\");\n",
       "\n",
       "    var backingStore = this.context.backingStorePixelRatio ||\n",
       "\tthis.context.webkitBackingStorePixelRatio ||\n",
       "\tthis.context.mozBackingStorePixelRatio ||\n",
       "\tthis.context.msBackingStorePixelRatio ||\n",
       "\tthis.context.oBackingStorePixelRatio ||\n",
       "\tthis.context.backingStorePixelRatio || 1;\n",
       "\n",
       "    mpl.ratio = (window.devicePixelRatio || 1) / backingStore;\n",
       "\n",
       "    var rubberband = $('<canvas/>');\n",
       "    rubberband.attr('style', \"position: absolute; left: 0; top: 0; z-index: 1;\")\n",
       "\n",
       "    var pass_mouse_events = true;\n",
       "\n",
       "    canvas_div.resizable({\n",
       "        start: function(event, ui) {\n",
       "            pass_mouse_events = false;\n",
       "        },\n",
       "        resize: function(event, ui) {\n",
       "            fig.request_resize(ui.size.width, ui.size.height);\n",
       "        },\n",
       "        stop: function(event, ui) {\n",
       "            pass_mouse_events = true;\n",
       "            fig.request_resize(ui.size.width, ui.size.height);\n",
       "        },\n",
       "    });\n",
       "\n",
       "    function mouse_event_fn(event) {\n",
       "        if (pass_mouse_events)\n",
       "            return fig.mouse_event(event, event['data']);\n",
       "    }\n",
       "\n",
       "    rubberband.mousedown('button_press', mouse_event_fn);\n",
       "    rubberband.mouseup('button_release', mouse_event_fn);\n",
       "    // Throttle sequential mouse events to 1 every 20ms.\n",
       "    rubberband.mousemove('motion_notify', mouse_event_fn);\n",
       "\n",
       "    rubberband.mouseenter('figure_enter', mouse_event_fn);\n",
       "    rubberband.mouseleave('figure_leave', mouse_event_fn);\n",
       "\n",
       "    canvas_div.on(\"wheel\", function (event) {\n",
       "        event = event.originalEvent;\n",
       "        event['data'] = 'scroll'\n",
       "        if (event.deltaY < 0) {\n",
       "            event.step = 1;\n",
       "        } else {\n",
       "            event.step = -1;\n",
       "        }\n",
       "        mouse_event_fn(event);\n",
       "    });\n",
       "\n",
       "    canvas_div.append(canvas);\n",
       "    canvas_div.append(rubberband);\n",
       "\n",
       "    this.rubberband = rubberband;\n",
       "    this.rubberband_canvas = rubberband[0];\n",
       "    this.rubberband_context = rubberband[0].getContext(\"2d\");\n",
       "    this.rubberband_context.strokeStyle = \"#000000\";\n",
       "\n",
       "    this._resize_canvas = function(width, height) {\n",
       "        // Keep the size of the canvas, canvas container, and rubber band\n",
       "        // canvas in synch.\n",
       "        canvas_div.css('width', width)\n",
       "        canvas_div.css('height', height)\n",
       "\n",
       "        canvas.attr('width', width * mpl.ratio);\n",
       "        canvas.attr('height', height * mpl.ratio);\n",
       "        canvas.attr('style', 'width: ' + width + 'px; height: ' + height + 'px;');\n",
       "\n",
       "        rubberband.attr('width', width);\n",
       "        rubberband.attr('height', height);\n",
       "    }\n",
       "\n",
       "    // Set the figure to an initial 600x600px, this will subsequently be updated\n",
       "    // upon first draw.\n",
       "    this._resize_canvas(600, 600);\n",
       "\n",
       "    // Disable right mouse context menu.\n",
       "    $(this.rubberband_canvas).bind(\"contextmenu\",function(e){\n",
       "        return false;\n",
       "    });\n",
       "\n",
       "    function set_focus () {\n",
       "        canvas.focus();\n",
       "        canvas_div.focus();\n",
       "    }\n",
       "\n",
       "    window.setTimeout(set_focus, 100);\n",
       "}\n",
       "\n",
       "mpl.figure.prototype._init_toolbar = function() {\n",
       "    var fig = this;\n",
       "\n",
       "    var nav_element = $('<div/>');\n",
       "    nav_element.attr('style', 'width: 100%');\n",
       "    this.root.append(nav_element);\n",
       "\n",
       "    // Define a callback function for later on.\n",
       "    function toolbar_event(event) {\n",
       "        return fig.toolbar_button_onclick(event['data']);\n",
       "    }\n",
       "    function toolbar_mouse_event(event) {\n",
       "        return fig.toolbar_button_onmouseover(event['data']);\n",
       "    }\n",
       "\n",
       "    for(var toolbar_ind in mpl.toolbar_items) {\n",
       "        var name = mpl.toolbar_items[toolbar_ind][0];\n",
       "        var tooltip = mpl.toolbar_items[toolbar_ind][1];\n",
       "        var image = mpl.toolbar_items[toolbar_ind][2];\n",
       "        var method_name = mpl.toolbar_items[toolbar_ind][3];\n",
       "\n",
       "        if (!name) {\n",
       "            // put a spacer in here.\n",
       "            continue;\n",
       "        }\n",
       "        var button = $('<button/>');\n",
       "        button.addClass('ui-button ui-widget ui-state-default ui-corner-all ' +\n",
       "                        'ui-button-icon-only');\n",
       "        button.attr('role', 'button');\n",
       "        button.attr('aria-disabled', 'false');\n",
       "        button.click(method_name, toolbar_event);\n",
       "        button.mouseover(tooltip, toolbar_mouse_event);\n",
       "\n",
       "        var icon_img = $('<span/>');\n",
       "        icon_img.addClass('ui-button-icon-primary ui-icon');\n",
       "        icon_img.addClass(image);\n",
       "        icon_img.addClass('ui-corner-all');\n",
       "\n",
       "        var tooltip_span = $('<span/>');\n",
       "        tooltip_span.addClass('ui-button-text');\n",
       "        tooltip_span.html(tooltip);\n",
       "\n",
       "        button.append(icon_img);\n",
       "        button.append(tooltip_span);\n",
       "\n",
       "        nav_element.append(button);\n",
       "    }\n",
       "\n",
       "    var fmt_picker_span = $('<span/>');\n",
       "\n",
       "    var fmt_picker = $('<select/>');\n",
       "    fmt_picker.addClass('mpl-toolbar-option ui-widget ui-widget-content');\n",
       "    fmt_picker_span.append(fmt_picker);\n",
       "    nav_element.append(fmt_picker_span);\n",
       "    this.format_dropdown = fmt_picker[0];\n",
       "\n",
       "    for (var ind in mpl.extensions) {\n",
       "        var fmt = mpl.extensions[ind];\n",
       "        var option = $(\n",
       "            '<option/>', {selected: fmt === mpl.default_extension}).html(fmt);\n",
       "        fmt_picker.append(option);\n",
       "    }\n",
       "\n",
       "    // Add hover states to the ui-buttons\n",
       "    $( \".ui-button\" ).hover(\n",
       "        function() { $(this).addClass(\"ui-state-hover\");},\n",
       "        function() { $(this).removeClass(\"ui-state-hover\");}\n",
       "    );\n",
       "\n",
       "    var status_bar = $('<span class=\"mpl-message\"/>');\n",
       "    nav_element.append(status_bar);\n",
       "    this.message = status_bar[0];\n",
       "}\n",
       "\n",
       "mpl.figure.prototype.request_resize = function(x_pixels, y_pixels) {\n",
       "    // Request matplotlib to resize the figure. Matplotlib will then trigger a resize in the client,\n",
       "    // which will in turn request a refresh of the image.\n",
       "    this.send_message('resize', {'width': x_pixels, 'height': y_pixels});\n",
       "}\n",
       "\n",
       "mpl.figure.prototype.send_message = function(type, properties) {\n",
       "    properties['type'] = type;\n",
       "    properties['figure_id'] = this.id;\n",
       "    this.ws.send(JSON.stringify(properties));\n",
       "}\n",
       "\n",
       "mpl.figure.prototype.send_draw_message = function() {\n",
       "    if (!this.waiting) {\n",
       "        this.waiting = true;\n",
       "        this.ws.send(JSON.stringify({type: \"draw\", figure_id: this.id}));\n",
       "    }\n",
       "}\n",
       "\n",
       "\n",
       "mpl.figure.prototype.handle_save = function(fig, msg) {\n",
       "    var format_dropdown = fig.format_dropdown;\n",
       "    var format = format_dropdown.options[format_dropdown.selectedIndex].value;\n",
       "    fig.ondownload(fig, format);\n",
       "}\n",
       "\n",
       "\n",
       "mpl.figure.prototype.handle_resize = function(fig, msg) {\n",
       "    var size = msg['size'];\n",
       "    if (size[0] != fig.canvas.width || size[1] != fig.canvas.height) {\n",
       "        fig._resize_canvas(size[0], size[1]);\n",
       "        fig.send_message(\"refresh\", {});\n",
       "    };\n",
       "}\n",
       "\n",
       "mpl.figure.prototype.handle_rubberband = function(fig, msg) {\n",
       "    var x0 = msg['x0'] / mpl.ratio;\n",
       "    var y0 = (fig.canvas.height - msg['y0']) / mpl.ratio;\n",
       "    var x1 = msg['x1'] / mpl.ratio;\n",
       "    var y1 = (fig.canvas.height - msg['y1']) / mpl.ratio;\n",
       "    x0 = Math.floor(x0) + 0.5;\n",
       "    y0 = Math.floor(y0) + 0.5;\n",
       "    x1 = Math.floor(x1) + 0.5;\n",
       "    y1 = Math.floor(y1) + 0.5;\n",
       "    var min_x = Math.min(x0, x1);\n",
       "    var min_y = Math.min(y0, y1);\n",
       "    var width = Math.abs(x1 - x0);\n",
       "    var height = Math.abs(y1 - y0);\n",
       "\n",
       "    fig.rubberband_context.clearRect(\n",
       "        0, 0, fig.canvas.width / mpl.ratio, fig.canvas.height / mpl.ratio);\n",
       "\n",
       "    fig.rubberband_context.strokeRect(min_x, min_y, width, height);\n",
       "}\n",
       "\n",
       "mpl.figure.prototype.handle_figure_label = function(fig, msg) {\n",
       "    // Updates the figure title.\n",
       "    fig.header.textContent = msg['label'];\n",
       "}\n",
       "\n",
       "mpl.figure.prototype.handle_cursor = function(fig, msg) {\n",
       "    var cursor = msg['cursor'];\n",
       "    switch(cursor)\n",
       "    {\n",
       "    case 0:\n",
       "        cursor = 'pointer';\n",
       "        break;\n",
       "    case 1:\n",
       "        cursor = 'default';\n",
       "        break;\n",
       "    case 2:\n",
       "        cursor = 'crosshair';\n",
       "        break;\n",
       "    case 3:\n",
       "        cursor = 'move';\n",
       "        break;\n",
       "    }\n",
       "    fig.rubberband_canvas.style.cursor = cursor;\n",
       "}\n",
       "\n",
       "mpl.figure.prototype.handle_message = function(fig, msg) {\n",
       "    fig.message.textContent = msg['message'];\n",
       "}\n",
       "\n",
       "mpl.figure.prototype.handle_draw = function(fig, msg) {\n",
       "    // Request the server to send over a new figure.\n",
       "    fig.send_draw_message();\n",
       "}\n",
       "\n",
       "mpl.figure.prototype.handle_image_mode = function(fig, msg) {\n",
       "    fig.image_mode = msg['mode'];\n",
       "}\n",
       "\n",
       "mpl.figure.prototype.updated_canvas_event = function() {\n",
       "    // Called whenever the canvas gets updated.\n",
       "    this.send_message(\"ack\", {});\n",
       "}\n",
       "\n",
       "// A function to construct a web socket function for onmessage handling.\n",
       "// Called in the figure constructor.\n",
       "mpl.figure.prototype._make_on_message_function = function(fig) {\n",
       "    return function socket_on_message(evt) {\n",
       "        if (evt.data instanceof Blob) {\n",
       "            /* FIXME: We get \"Resource interpreted as Image but\n",
       "             * transferred with MIME type text/plain:\" errors on\n",
       "             * Chrome.  But how to set the MIME type?  It doesn't seem\n",
       "             * to be part of the websocket stream */\n",
       "            evt.data.type = \"image/png\";\n",
       "\n",
       "            /* Free the memory for the previous frames */\n",
       "            if (fig.imageObj.src) {\n",
       "                (window.URL || window.webkitURL).revokeObjectURL(\n",
       "                    fig.imageObj.src);\n",
       "            }\n",
       "\n",
       "            fig.imageObj.src = (window.URL || window.webkitURL).createObjectURL(\n",
       "                evt.data);\n",
       "            fig.updated_canvas_event();\n",
       "            fig.waiting = false;\n",
       "            return;\n",
       "        }\n",
       "        else if (typeof evt.data === 'string' && evt.data.slice(0, 21) == \"data:image/png;base64\") {\n",
       "            fig.imageObj.src = evt.data;\n",
       "            fig.updated_canvas_event();\n",
       "            fig.waiting = false;\n",
       "            return;\n",
       "        }\n",
       "\n",
       "        var msg = JSON.parse(evt.data);\n",
       "        var msg_type = msg['type'];\n",
       "\n",
       "        // Call the  \"handle_{type}\" callback, which takes\n",
       "        // the figure and JSON message as its only arguments.\n",
       "        try {\n",
       "            var callback = fig[\"handle_\" + msg_type];\n",
       "        } catch (e) {\n",
       "            console.log(\"No handler for the '\" + msg_type + \"' message type: \", msg);\n",
       "            return;\n",
       "        }\n",
       "\n",
       "        if (callback) {\n",
       "            try {\n",
       "                // console.log(\"Handling '\" + msg_type + \"' message: \", msg);\n",
       "                callback(fig, msg);\n",
       "            } catch (e) {\n",
       "                console.log(\"Exception inside the 'handler_\" + msg_type + \"' callback:\", e, e.stack, msg);\n",
       "            }\n",
       "        }\n",
       "    };\n",
       "}\n",
       "\n",
       "// from http://stackoverflow.com/questions/1114465/getting-mouse-location-in-canvas\n",
       "mpl.findpos = function(e) {\n",
       "    //this section is from http://www.quirksmode.org/js/events_properties.html\n",
       "    var targ;\n",
       "    if (!e)\n",
       "        e = window.event;\n",
       "    if (e.target)\n",
       "        targ = e.target;\n",
       "    else if (e.srcElement)\n",
       "        targ = e.srcElement;\n",
       "    if (targ.nodeType == 3) // defeat Safari bug\n",
       "        targ = targ.parentNode;\n",
       "\n",
       "    // jQuery normalizes the pageX and pageY\n",
       "    // pageX,Y are the mouse positions relative to the document\n",
       "    // offset() returns the position of the element relative to the document\n",
       "    var x = e.pageX - $(targ).offset().left;\n",
       "    var y = e.pageY - $(targ).offset().top;\n",
       "\n",
       "    return {\"x\": x, \"y\": y};\n",
       "};\n",
       "\n",
       "/*\n",
       " * return a copy of an object with only non-object keys\n",
       " * we need this to avoid circular references\n",
       " * http://stackoverflow.com/a/24161582/3208463\n",
       " */\n",
       "function simpleKeys (original) {\n",
       "  return Object.keys(original).reduce(function (obj, key) {\n",
       "    if (typeof original[key] !== 'object')\n",
       "        obj[key] = original[key]\n",
       "    return obj;\n",
       "  }, {});\n",
       "}\n",
       "\n",
       "mpl.figure.prototype.mouse_event = function(event, name) {\n",
       "    var canvas_pos = mpl.findpos(event)\n",
       "\n",
       "    if (name === 'button_press')\n",
       "    {\n",
       "        this.canvas.focus();\n",
       "        this.canvas_div.focus();\n",
       "    }\n",
       "\n",
       "    var x = canvas_pos.x * mpl.ratio;\n",
       "    var y = canvas_pos.y * mpl.ratio;\n",
       "\n",
       "    this.send_message(name, {x: x, y: y, button: event.button,\n",
       "                             step: event.step,\n",
       "                             guiEvent: simpleKeys(event)});\n",
       "\n",
       "    /* This prevents the web browser from automatically changing to\n",
       "     * the text insertion cursor when the button is pressed.  We want\n",
       "     * to control all of the cursor setting manually through the\n",
       "     * 'cursor' event from matplotlib */\n",
       "    event.preventDefault();\n",
       "    return false;\n",
       "}\n",
       "\n",
       "mpl.figure.prototype._key_event_extra = function(event, name) {\n",
       "    // Handle any extra behaviour associated with a key event\n",
       "}\n",
       "\n",
       "mpl.figure.prototype.key_event = function(event, name) {\n",
       "\n",
       "    // Prevent repeat events\n",
       "    if (name == 'key_press')\n",
       "    {\n",
       "        if (event.which === this._key)\n",
       "            return;\n",
       "        else\n",
       "            this._key = event.which;\n",
       "    }\n",
       "    if (name == 'key_release')\n",
       "        this._key = null;\n",
       "\n",
       "    var value = '';\n",
       "    if (event.ctrlKey && event.which != 17)\n",
       "        value += \"ctrl+\";\n",
       "    if (event.altKey && event.which != 18)\n",
       "        value += \"alt+\";\n",
       "    if (event.shiftKey && event.which != 16)\n",
       "        value += \"shift+\";\n",
       "\n",
       "    value += 'k';\n",
       "    value += event.which.toString();\n",
       "\n",
       "    this._key_event_extra(event, name);\n",
       "\n",
       "    this.send_message(name, {key: value,\n",
       "                             guiEvent: simpleKeys(event)});\n",
       "    return false;\n",
       "}\n",
       "\n",
       "mpl.figure.prototype.toolbar_button_onclick = function(name) {\n",
       "    if (name == 'download') {\n",
       "        this.handle_save(this, null);\n",
       "    } else {\n",
       "        this.send_message(\"toolbar_button\", {name: name});\n",
       "    }\n",
       "};\n",
       "\n",
       "mpl.figure.prototype.toolbar_button_onmouseover = function(tooltip) {\n",
       "    this.message.textContent = tooltip;\n",
       "};\n",
       "mpl.toolbar_items = [[\"Home\", \"Reset original view\", \"fa fa-home icon-home\", \"home\"], [\"Back\", \"Back to previous view\", \"fa fa-arrow-left icon-arrow-left\", \"back\"], [\"Forward\", \"Forward to next view\", \"fa fa-arrow-right icon-arrow-right\", \"forward\"], [\"\", \"\", \"\", \"\"], [\"Pan\", \"Pan axes with left mouse, zoom with right\", \"fa fa-arrows icon-move\", \"pan\"], [\"Zoom\", \"Zoom to rectangle\", \"fa fa-square-o icon-check-empty\", \"zoom\"], [\"\", \"\", \"\", \"\"], [\"Download\", \"Download plot\", \"fa fa-floppy-o icon-save\", \"download\"]];\n",
       "\n",
       "mpl.extensions = [\"eps\", \"jpeg\", \"pdf\", \"png\", \"ps\", \"raw\", \"svg\", \"tif\"];\n",
       "\n",
       "mpl.default_extension = \"png\";var comm_websocket_adapter = function(comm) {\n",
       "    // Create a \"websocket\"-like object which calls the given IPython comm\n",
       "    // object with the appropriate methods. Currently this is a non binary\n",
       "    // socket, so there is still some room for performance tuning.\n",
       "    var ws = {};\n",
       "\n",
       "    ws.close = function() {\n",
       "        comm.close()\n",
       "    };\n",
       "    ws.send = function(m) {\n",
       "        //console.log('sending', m);\n",
       "        comm.send(m);\n",
       "    };\n",
       "    // Register the callback with on_msg.\n",
       "    comm.on_msg(function(msg) {\n",
       "        //console.log('receiving', msg['content']['data'], msg);\n",
       "        // Pass the mpl event to the overridden (by mpl) onmessage function.\n",
       "        ws.onmessage(msg['content']['data'])\n",
       "    });\n",
       "    return ws;\n",
       "}\n",
       "\n",
       "mpl.mpl_figure_comm = function(comm, msg) {\n",
       "    // This is the function which gets called when the mpl process\n",
       "    // starts-up an IPython Comm through the \"matplotlib\" channel.\n",
       "\n",
       "    var id = msg.content.data.id;\n",
       "    // Get hold of the div created by the display call when the Comm\n",
       "    // socket was opened in Python.\n",
       "    var element = $(\"#\" + id);\n",
       "    var ws_proxy = comm_websocket_adapter(comm)\n",
       "\n",
       "    function ondownload(figure, format) {\n",
       "        window.open(figure.imageObj.src);\n",
       "    }\n",
       "\n",
       "    var fig = new mpl.figure(id, ws_proxy,\n",
       "                           ondownload,\n",
       "                           element.get(0));\n",
       "\n",
       "    // Call onopen now - mpl needs it, as it is assuming we've passed it a real\n",
       "    // web socket which is closed, not our websocket->open comm proxy.\n",
       "    ws_proxy.onopen();\n",
       "\n",
       "    fig.parent_element = element.get(0);\n",
       "    fig.cell_info = mpl.find_output_cell(\"<div id='\" + id + \"'></div>\");\n",
       "    if (!fig.cell_info) {\n",
       "        console.error(\"Failed to find cell for figure\", id, fig);\n",
       "        return;\n",
       "    }\n",
       "\n",
       "    var output_index = fig.cell_info[2]\n",
       "    var cell = fig.cell_info[0];\n",
       "\n",
       "};\n",
       "\n",
       "mpl.figure.prototype.handle_close = function(fig, msg) {\n",
       "    var width = fig.canvas.width/mpl.ratio\n",
       "    fig.root.unbind('remove')\n",
       "\n",
       "    // Update the output cell to use the data from the current canvas.\n",
       "    fig.push_to_output();\n",
       "    var dataURL = fig.canvas.toDataURL();\n",
       "    // Re-enable the keyboard manager in IPython - without this line, in FF,\n",
       "    // the notebook keyboard shortcuts fail.\n",
       "    IPython.keyboard_manager.enable()\n",
       "    $(fig.parent_element).html('<img src=\"' + dataURL + '\" width=\"' + width + '\">');\n",
       "    fig.close_ws(fig, msg);\n",
       "}\n",
       "\n",
       "mpl.figure.prototype.close_ws = function(fig, msg){\n",
       "    fig.send_message('closing', msg);\n",
       "    // fig.ws.close()\n",
       "}\n",
       "\n",
       "mpl.figure.prototype.push_to_output = function(remove_interactive) {\n",
       "    // Turn the data on the canvas into data in the output cell.\n",
       "    var width = this.canvas.width/mpl.ratio\n",
       "    var dataURL = this.canvas.toDataURL();\n",
       "    this.cell_info[1]['text/html'] = '<img src=\"' + dataURL + '\" width=\"' + width + '\">';\n",
       "}\n",
       "\n",
       "mpl.figure.prototype.updated_canvas_event = function() {\n",
       "    // Tell IPython that the notebook contents must change.\n",
       "    IPython.notebook.set_dirty(true);\n",
       "    this.send_message(\"ack\", {});\n",
       "    var fig = this;\n",
       "    // Wait a second, then push the new image to the DOM so\n",
       "    // that it is saved nicely (might be nice to debounce this).\n",
       "    setTimeout(function () { fig.push_to_output() }, 1000);\n",
       "}\n",
       "\n",
       "mpl.figure.prototype._init_toolbar = function() {\n",
       "    var fig = this;\n",
       "\n",
       "    var nav_element = $('<div/>');\n",
       "    nav_element.attr('style', 'width: 100%');\n",
       "    this.root.append(nav_element);\n",
       "\n",
       "    // Define a callback function for later on.\n",
       "    function toolbar_event(event) {\n",
       "        return fig.toolbar_button_onclick(event['data']);\n",
       "    }\n",
       "    function toolbar_mouse_event(event) {\n",
       "        return fig.toolbar_button_onmouseover(event['data']);\n",
       "    }\n",
       "\n",
       "    for(var toolbar_ind in mpl.toolbar_items){\n",
       "        var name = mpl.toolbar_items[toolbar_ind][0];\n",
       "        var tooltip = mpl.toolbar_items[toolbar_ind][1];\n",
       "        var image = mpl.toolbar_items[toolbar_ind][2];\n",
       "        var method_name = mpl.toolbar_items[toolbar_ind][3];\n",
       "\n",
       "        if (!name) { continue; };\n",
       "\n",
       "        var button = $('<button class=\"btn btn-default\" href=\"#\" title=\"' + name + '\"><i class=\"fa ' + image + ' fa-lg\"></i></button>');\n",
       "        button.click(method_name, toolbar_event);\n",
       "        button.mouseover(tooltip, toolbar_mouse_event);\n",
       "        nav_element.append(button);\n",
       "    }\n",
       "\n",
       "    // Add the status bar.\n",
       "    var status_bar = $('<span class=\"mpl-message\" style=\"text-align:right; float: right;\"/>');\n",
       "    nav_element.append(status_bar);\n",
       "    this.message = status_bar[0];\n",
       "\n",
       "    // Add the close button to the window.\n",
       "    var buttongrp = $('<div class=\"btn-group inline pull-right\"></div>');\n",
       "    var button = $('<button class=\"btn btn-mini btn-primary\" href=\"#\" title=\"Stop Interaction\"><i class=\"fa fa-power-off icon-remove icon-large\"></i></button>');\n",
       "    button.click(function (evt) { fig.handle_close(fig, {}); } );\n",
       "    button.mouseover('Stop Interaction', toolbar_mouse_event);\n",
       "    buttongrp.append(button);\n",
       "    var titlebar = this.root.find($('.ui-dialog-titlebar'));\n",
       "    titlebar.prepend(buttongrp);\n",
       "}\n",
       "\n",
       "mpl.figure.prototype._root_extra_style = function(el){\n",
       "    var fig = this\n",
       "    el.on(\"remove\", function(){\n",
       "\tfig.close_ws(fig, {});\n",
       "    });\n",
       "}\n",
       "\n",
       "mpl.figure.prototype._canvas_extra_style = function(el){\n",
       "    // this is important to make the div 'focusable\n",
       "    el.attr('tabindex', 0)\n",
       "    // reach out to IPython and tell the keyboard manager to turn it's self\n",
       "    // off when our div gets focus\n",
       "\n",
       "    // location in version 3\n",
       "    if (IPython.notebook.keyboard_manager) {\n",
       "        IPython.notebook.keyboard_manager.register_events(el);\n",
       "    }\n",
       "    else {\n",
       "        // location in version 2\n",
       "        IPython.keyboard_manager.register_events(el);\n",
       "    }\n",
       "\n",
       "}\n",
       "\n",
       "mpl.figure.prototype._key_event_extra = function(event, name) {\n",
       "    var manager = IPython.notebook.keyboard_manager;\n",
       "    if (!manager)\n",
       "        manager = IPython.keyboard_manager;\n",
       "\n",
       "    // Check for shift+enter\n",
       "    if (event.shiftKey && event.which == 13) {\n",
       "        this.canvas_div.blur();\n",
       "        // select the cell after this one\n",
       "        var index = IPython.notebook.find_cell_index(this.cell_info[0]);\n",
       "        IPython.notebook.select(index + 1);\n",
       "    }\n",
       "}\n",
       "\n",
       "mpl.figure.prototype.handle_save = function(fig, msg) {\n",
       "    fig.ondownload(fig, null);\n",
       "}\n",
       "\n",
       "\n",
       "mpl.find_output_cell = function(html_output) {\n",
       "    // Return the cell and output element which can be found *uniquely* in the notebook.\n",
       "    // Note - this is a bit hacky, but it is done because the \"notebook_saving.Notebook\"\n",
       "    // IPython event is triggered only after the cells have been serialised, which for\n",
       "    // our purposes (turning an active figure into a static one), is too late.\n",
       "    var cells = IPython.notebook.get_cells();\n",
       "    var ncells = cells.length;\n",
       "    for (var i=0; i<ncells; i++) {\n",
       "        var cell = cells[i];\n",
       "        if (cell.cell_type === 'code'){\n",
       "            for (var j=0; j<cell.output_area.outputs.length; j++) {\n",
       "                var data = cell.output_area.outputs[j];\n",
       "                if (data.data) {\n",
       "                    // IPython >= 3 moved mimebundle to data attribute of output\n",
       "                    data = data.data;\n",
       "                }\n",
       "                if (data['text/html'] == html_output) {\n",
       "                    return [cell, data, j];\n",
       "                }\n",
       "            }\n",
       "        }\n",
       "    }\n",
       "}\n",
       "\n",
       "// Register the function which deals with the matplotlib target/channel.\n",
       "// The kernel may be null if the page has been refreshed.\n",
       "if (IPython.notebook.kernel != null) {\n",
       "    IPython.notebook.kernel.comm_manager.register_target('matplotlib', mpl.mpl_figure_comm);\n",
       "}\n"
      ],
      "text/plain": [
       "<IPython.core.display.Javascript object>"
      ]
     },
     "metadata": {},
     "output_type": "display_data"
    },
    {
     "data": {
      "text/html": [
       "<img src=\"data:image/png;base64,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\" width=\"432\">"
      ],
      "text/plain": [
       "<IPython.core.display.HTML object>"
      ]
     },
     "metadata": {},
     "output_type": "display_data"
    },
    {
     "data": {
      "text/plain": [
       "Text(0.5, 1.0, 'Frequency by Date of month  - uber - apr 2014')"
      ]
     },
     "execution_count": 57,
     "metadata": {},
     "output_type": "execute_result"
    }
   ],
   "source": [
    "hist=hist(data.dom, bins=30, rwidth=0.8, range=(0.5, 30.5))\n",
    "xlabel('date of the month')\n",
    "ylabel('frequency')\n",
    "title('Frequency by Date of month  - uber - apr 2014')"
   ]
  },
  {
   "cell_type": "code",
   "execution_count": 58,
   "metadata": {},
   "outputs": [
    {
     "data": {
      "application/vnd.jupyter.widget-view+json": {
       "model_id": "70d797957e1444e2b187967884d8fc7a",
       "version_major": 2,
       "version_minor": 0
      },
      "text/plain": [
       "Figure(axes=[Axis(orientation='vertical', scale=LinearScale()), Axis(scale=LinearScale())], fig_margin={'top':…"
      ]
     },
     "metadata": {},
     "output_type": "display_data"
    }
   ],
   "source": [
    "fig_hist = plt.figure( title='Frequency by Date of month  - uber - apr 2014')\n",
    "hist = plt.hist(data.dom, bins=25)\n",
    "xlabel('date of the month')\n",
    "ylabel('frequency')\n",
    "fig_hist"
   ]
  },
  {
   "cell_type": "code",
   "execution_count": 59,
   "metadata": {},
   "outputs": [
    {
     "data": {
      "application/vnd.jupyter.widget-view+json": {
       "model_id": "d1326669a2ce481aa2f1fef985d18aad",
       "version_major": 2,
       "version_minor": 0
      },
      "text/plain": [
       "IntSlider(value=1, min=1)"
      ]
     },
     "metadata": {},
     "output_type": "display_data"
    }
   ],
   "source": [
    "slider = widgets.IntSlider(min=1, max=100, v_model=30)\n",
    "slider"
   ]
  },
  {
   "cell_type": "code",
   "execution_count": 60,
   "metadata": {},
   "outputs": [
    {
     "data": {
      "text/plain": [
       "1"
      ]
     },
     "execution_count": 60,
     "metadata": {},
     "output_type": "execute_result"
    }
   ],
   "source": [
    "slider.value"
   ]
  },
  {
   "cell_type": "code",
   "execution_count": 61,
   "metadata": {},
   "outputs": [],
   "source": [
    "widgets.link((hist, 'bins'), (slider, 'value'));"
   ]
  },
  {
   "cell_type": "code",
   "execution_count": null,
   "metadata": {},
   "outputs": [],
   "source": []
  },
  {
   "cell_type": "code",
   "execution_count": 62,
   "metadata": {
    "extensions": {
     "jupyter_dashboards": {
      "version": 1,
      "views": {
       "grid_default": {},
       "report_default": {
        "hidden": false
       }
      }
     }
    }
   },
   "outputs": [
    {
     "data": {
      "text/plain": [
       "dom\n",
       "1     14546\n",
       "2     17474\n",
       "3     20701\n",
       "4     26714\n",
       "5     19521\n",
       "6     13445\n",
       "7     19550\n",
       "8     16188\n",
       "9     16843\n",
       "10    20041\n",
       "11    20420\n",
       "12    18170\n",
       "13    12112\n",
       "14    12674\n",
       "15    20641\n",
       "16    17717\n",
       "17    20973\n",
       "18    18074\n",
       "19    14602\n",
       "20    11017\n",
       "21    13162\n",
       "22    16975\n",
       "23    20346\n",
       "24    23352\n",
       "25    25095\n",
       "26    24925\n",
       "27    14677\n",
       "28    15475\n",
       "29    22835\n",
       "30    36251\n",
       "dtype: int64"
      ]
     },
     "execution_count": 62,
     "metadata": {},
     "output_type": "execute_result"
    }
   ],
   "source": [
    "def count_rows(rows):\n",
    "    return len(rows)\n",
    "\n",
    "by_date = data.groupby('dom').apply(count_rows)\n",
    "by_date"
   ]
  },
  {
   "cell_type": "code",
   "execution_count": 63,
   "metadata": {
    "extensions": {
     "jupyter_dashboards": {
      "version": 1,
      "views": {
       "grid_default": {},
       "report_default": {
        "hidden": false
       }
      }
     }
    }
   },
   "outputs": [
    {
     "data": {
      "text/plain": [
       "<BarContainer object of 30 artists>"
      ]
     },
     "execution_count": 63,
     "metadata": {},
     "output_type": "execute_result"
    }
   ],
   "source": [
    "bar(range(1, 31), by_date)"
   ]
  },
  {
   "cell_type": "code",
   "execution_count": 65,
   "metadata": {
    "extensions": {
     "jupyter_dashboards": {
      "version": 1,
      "views": {
       "grid_default": {},
       "report_default": {
        "hidden": false
       }
      }
     }
    }
   },
   "outputs": [
    {
     "data": {
      "text/plain": [
       "dom\n",
       "20    11017\n",
       "13    12112\n",
       "14    12674\n",
       "21    13162\n",
       "6     13445\n",
       "1     14546\n",
       "19    14602\n",
       "27    14677\n",
       "28    15475\n",
       "8     16188\n",
       "9     16843\n",
       "22    16975\n",
       "2     17474\n",
       "16    17717\n",
       "18    18074\n",
       "12    18170\n",
       "5     19521\n",
       "7     19550\n",
       "10    20041\n",
       "23    20346\n",
       "11    20420\n",
       "15    20641\n",
       "3     20701\n",
       "17    20973\n",
       "29    22835\n",
       "24    23352\n",
       "26    24925\n",
       "25    25095\n",
       "4     26714\n",
       "30    36251\n",
       "dtype: int64"
      ]
     },
     "execution_count": 65,
     "metadata": {},
     "output_type": "execute_result"
    }
   ],
   "source": [
    "by_date_sorted = by_date.sort_values()\n",
    "by_date_sorted"
   ]
  },
  {
   "cell_type": "code",
   "execution_count": 66,
   "metadata": {
    "extensions": {
     "jupyter_dashboards": {
      "version": 1,
      "views": {
       "grid_default": {},
       "report_default": {
        "hidden": false
       }
      }
     }
    }
   },
   "outputs": [
    {
     "data": {
      "text/plain": [
       "''"
      ]
     },
     "execution_count": 66,
     "metadata": {},
     "output_type": "execute_result"
    }
   ],
   "source": [
    "bar(range(1, 31), by_date_sorted)\n",
    "xticks(range(1,31), by_date_sorted.index)\n",
    "xlabel('date of the month')\n",
    "ylabel('frequency')\n",
    "title('Frequency by DoM - uber - apr 2014 in ascending order')\n",
    ";"
   ]
  },
  {
   "cell_type": "code",
   "execution_count": 67,
   "metadata": {
    "extensions": {
     "jupyter_dashboards": {
      "version": 1,
      "views": {
       "grid_default": {},
       "report_default": {
        "hidden": false
       }
      }
     }
    }
   },
   "outputs": [],
   "source": [
    "#15 june 2014 was father's day(it was on sunday)so most poeple must have gone to their homez on 13 (friday) which goves 2 days t spend time with their family"
   ]
  },
  {
   "cell_type": "code",
   "execution_count": 78,
   "metadata": {},
   "outputs": [
    {
     "data": {
      "application/vnd.jupyter.widget-view+json": {
       "model_id": "54a771028adf4558a26748598c63896f",
       "version_major": 2,
       "version_minor": 0
      },
      "text/plain": [
       "Figure(axes=[Axis(orientation='vertical', scale=LinearScale()), Axis(scale=LinearScale())], fig_margin={'top':…"
      ]
     },
     "metadata": {},
     "output_type": "display_data"
    }
   ],
   "source": [
    "fig_hist = plt.figure( title='frequency of pick ups based on hours:uber-april-2014')\n",
    "hist = plt.hist(data.hour, bins=25)\n",
    "xlabel('date of the month')\n",
    "ylabel('frequency')\n",
    "fig_hist"
   ]
  },
  {
   "cell_type": "code",
   "execution_count": 79,
   "metadata": {},
   "outputs": [
    {
     "data": {
      "application/vnd.jupyter.widget-view+json": {
       "model_id": "6890c293dd0a49daa08a12a24a142530",
       "version_major": 2,
       "version_minor": 0
      },
      "text/plain": [
       "IntSlider(value=1, min=1)"
      ]
     },
     "metadata": {},
     "output_type": "display_data"
    }
   ],
   "source": [
    "slider = widgets.IntSlider(min=1, max=100, v_model=30)\n",
    "slider"
   ]
  },
  {
   "cell_type": "code",
   "execution_count": 80,
   "metadata": {},
   "outputs": [
    {
     "data": {
      "text/plain": [
       "1"
      ]
     },
     "execution_count": 80,
     "metadata": {},
     "output_type": "execute_result"
    }
   ],
   "source": [
    "slider.value"
   ]
  },
  {
   "cell_type": "code",
   "execution_count": 81,
   "metadata": {},
   "outputs": [],
   "source": [
    "widgets.link((hist, 'bins'), (slider, 'value'));"
   ]
  },
  {
   "cell_type": "code",
   "execution_count": 71,
   "metadata": {
    "extensions": {
     "jupyter_dashboards": {
      "version": 1,
      "views": {
       "grid_default": {},
       "report_default": {
        "hidden": false
       }
      }
     }
    }
   },
   "outputs": [
    {
     "ename": "TypeError",
     "evalue": "'Hist' object is not callable",
     "output_type": "error",
     "traceback": [
      "\u001b[1;31m---------------------------------------------------------------------------\u001b[0m",
      "\u001b[1;31mTypeError\u001b[0m                                 Traceback (most recent call last)",
      "\u001b[1;32m<ipython-input-71-21b55127a3f5>\u001b[0m in \u001b[0;36m<module>\u001b[1;34m\u001b[0m\n\u001b[1;32m----> 1\u001b[1;33m \u001b[0mhist\u001b[0m\u001b[1;33m(\u001b[0m\u001b[0mdata\u001b[0m\u001b[1;33m.\u001b[0m\u001b[0mweekday\u001b[0m\u001b[1;33m,\u001b[0m \u001b[0mbins\u001b[0m\u001b[1;33m=\u001b[0m\u001b[1;36m7\u001b[0m\u001b[1;33m,\u001b[0m \u001b[0mrange\u001b[0m \u001b[1;33m=\u001b[0m\u001b[1;33m(\u001b[0m\u001b[1;33m-\u001b[0m\u001b[1;36m.5\u001b[0m\u001b[1;33m,\u001b[0m\u001b[1;36m6.5\u001b[0m\u001b[1;33m)\u001b[0m\u001b[1;33m,\u001b[0m \u001b[0mrwidth\u001b[0m\u001b[1;33m=\u001b[0m\u001b[1;36m.8\u001b[0m\u001b[1;33m,\u001b[0m \u001b[0mcolor\u001b[0m\u001b[1;33m=\u001b[0m\u001b[1;34m'#AA6666'\u001b[0m\u001b[1;33m,\u001b[0m \u001b[0malpha\u001b[0m\u001b[1;33m=\u001b[0m\u001b[1;36m.4\u001b[0m\u001b[1;33m)\u001b[0m\u001b[1;33m\u001b[0m\u001b[1;33m\u001b[0m\u001b[0m\n\u001b[0m\u001b[0;32m      2\u001b[0m \u001b[0mxticks\u001b[0m\u001b[1;33m(\u001b[0m\u001b[0mrange\u001b[0m\u001b[1;33m(\u001b[0m\u001b[1;36m7\u001b[0m\u001b[1;33m)\u001b[0m\u001b[1;33m,\u001b[0m \u001b[1;34m'Mon Tue Wed Thu Fri Sat Sun'\u001b[0m\u001b[1;33m.\u001b[0m\u001b[0msplit\u001b[0m\u001b[1;33m(\u001b[0m\u001b[1;33m)\u001b[0m\u001b[1;33m)\u001b[0m\u001b[1;33m\u001b[0m\u001b[1;33m\u001b[0m\u001b[0m\n\u001b[0;32m      3\u001b[0m \u001b[0mxlabel\u001b[0m\u001b[1;33m(\u001b[0m\u001b[1;34m'days'\u001b[0m\u001b[1;33m)\u001b[0m\u001b[1;33m\u001b[0m\u001b[1;33m\u001b[0m\u001b[0m\n\u001b[0;32m      4\u001b[0m \u001b[0mylabel\u001b[0m\u001b[1;33m(\u001b[0m\u001b[1;34m'frequency'\u001b[0m\u001b[1;33m)\u001b[0m\u001b[1;33m\u001b[0m\u001b[1;33m\u001b[0m\u001b[0m\n\u001b[0;32m      5\u001b[0m \u001b[0mtitle\u001b[0m\u001b[1;33m(\u001b[0m\u001b[1;34m'frequency of pick ups based on days:uber-april 2014'\u001b[0m\u001b[1;33m)\u001b[0m\u001b[1;33m\u001b[0m\u001b[1;33m\u001b[0m\u001b[0m\n",
      "\u001b[1;31mTypeError\u001b[0m: 'Hist' object is not callable"
     ]
    }
   ],
   "source": [
    "hist(data.weekday, bins=7, range =(-.5,6.5), rwidth=.8, color='#AA6666', alpha=.4)\n",
    "xticks(range(7), 'Mon Tue Wed Thu Fri Sat Sun'.split())\n",
    "xlabel('days')\n",
    "ylabel('frequency')\n",
    "title('frequency of pick ups based on days:uber-april 2014')"
   ]
  },
  {
   "cell_type": "code",
   "execution_count": 90,
   "metadata": {},
   "outputs": [
    {
     "data": {
      "application/vnd.jupyter.widget-view+json": {
       "model_id": "f7301318f3094c16980fd25e0ed3b84b",
       "version_major": 2,
       "version_minor": 0
      },
      "text/plain": [
       "Figure(axes=[Axis(orientation='vertical', scale=LinearScale()), Axis(scale=LinearScale())], fig_margin={'top':…"
      ]
     },
     "metadata": {},
     "output_type": "display_data"
    }
   ],
   "source": [
    "fig_hist = plt.figure( title='frequency of pick ups based on days:uber-april 2014')\n",
    "hist = plt.hist(data.weekday, bins=7)\n",
    "xlabel('days')\n",
    "ylabel('frequency')\n",
    "fig_hist"
   ]
  },
  {
   "cell_type": "code",
   "execution_count": 86,
   "metadata": {},
   "outputs": [
    {
     "data": {
      "application/vnd.jupyter.widget-view+json": {
       "model_id": "3aebd2d865b44c4d85af4d1bd7a12f2f",
       "version_major": 2,
       "version_minor": 0
      },
      "text/plain": [
       "IntSlider(value=1, min=1)"
      ]
     },
     "metadata": {},
     "output_type": "display_data"
    }
   ],
   "source": [
    "slider = widgets.IntSlider(min=1, max=100, v_model=30)\n",
    "slider"
   ]
  },
  {
   "cell_type": "code",
   "execution_count": 85,
   "metadata": {},
   "outputs": [
    {
     "data": {
      "text/plain": [
       "31"
      ]
     },
     "execution_count": 85,
     "metadata": {},
     "output_type": "execute_result"
    }
   ],
   "source": [
    "slider.value"
   ]
  },
  {
   "cell_type": "code",
   "execution_count": 87,
   "metadata": {},
   "outputs": [],
   "source": [
    "widgets.link((hist, 'bins'), (slider, 'value'));"
   ]
  },
  {
   "cell_type": "code",
   "execution_count": 88,
   "metadata": {
    "extensions": {
     "jupyter_dashboards": {
      "version": 1,
      "views": {
       "grid_default": {},
       "report_default": {
        "hidden": false
       }
      }
     }
    }
   },
   "outputs": [],
   "source": [
    "by_cross = data.groupby('weekday hour'.split()).apply(count_rows).unstack()"
   ]
  },
  {
   "cell_type": "code",
   "execution_count": 89,
   "metadata": {
    "extensions": {
     "jupyter_dashboards": {
      "version": 1,
      "views": {
       "grid_default": {},
       "report_default": {
        "hidden": false
       }
      }
     }
    }
   },
   "outputs": [
    {
     "data": {
      "text/plain": [
       "Text(0.5, 1, 'cross analysis of frequency based on hour and weekday uber-april 2014')"
      ]
     },
     "execution_count": 89,
     "metadata": {},
     "output_type": "execute_result"
    }
   ],
   "source": [
    "seaborn.heatmap(by_cross)\n",
    "yticks(range(7), 'Mon Tue Wed Thu Fri Sat Sun'.split())\n",
    "title('cross analysis of frequency based on hour and weekday uber-april 2014')"
   ]
  },
  {
   "cell_type": "code",
   "execution_count": 105,
   "metadata": {
    "extensions": {
     "jupyter_dashboards": {
      "version": 1,
      "views": {
       "grid_default": {},
       "report_default": {
        "hidden": false
       }
      }
     }
    }
   },
   "outputs": [
    {
     "data": {
      "text/plain": [
       "''"
      ]
     },
     "execution_count": 105,
     "metadata": {},
     "output_type": "execute_result"
    }
   ],
   "source": [
    "plt.hist(data['Lat'], bins=100,range=(40.5,41.1))\n",
    "xlabel('latitude')\n",
    "ylabel('frequency of pick ups')\n",
    "title('frequency of pick ups according to latitud-uber -april -2014')\n",
    ";"
   ]
  },
  {
   "cell_type": "code",
   "execution_count": 95,
   "metadata": {},
   "outputs": [
    {
     "data": {
      "application/vnd.jupyter.widget-view+json": {
       "model_id": "ec88e452da614f6ab2940afa80a767d3",
       "version_major": 2,
       "version_minor": 0
      },
      "text/plain": [
       "Figure(axes=[Axis(orientation='vertical', scale=LinearScale()), Axis(scale=LinearScale())], fig_margin={'top':…"
      ]
     },
     "metadata": {},
     "output_type": "display_data"
    }
   ],
   "source": [
    "fig_hist = plt.figure( title='frequency of pick ups according to latitude-uber -april -2014')\n",
    "hist = plt.hist(data['Lat'], bins=100)\n",
    "xlabel('latitude')\n",
    "ylabel('frequency')\n",
    "fig_hist"
   ]
  },
  {
   "cell_type": "code",
   "execution_count": 97,
   "metadata": {},
   "outputs": [
    {
     "data": {
      "application/vnd.jupyter.widget-view+json": {
       "model_id": "232fc0ee71a842c0b9ed2acc4c162af9",
       "version_major": 2,
       "version_minor": 0
      },
      "text/plain": [
       "IntSlider(value=1, min=1)"
      ]
     },
     "metadata": {},
     "output_type": "display_data"
    }
   ],
   "source": [
    "slider = widgets.IntSlider(min=1, max=100, v_model=30)\n",
    "slider"
   ]
  },
  {
   "cell_type": "code",
   "execution_count": 98,
   "metadata": {},
   "outputs": [
    {
     "data": {
      "text/plain": [
       "1"
      ]
     },
     "execution_count": 98,
     "metadata": {},
     "output_type": "execute_result"
    }
   ],
   "source": [
    "slider.value"
   ]
  },
  {
   "cell_type": "code",
   "execution_count": 99,
   "metadata": {},
   "outputs": [],
   "source": [
    "widgets.link((hist, 'bins'), (slider, 'value'));"
   ]
  },
  {
   "cell_type": "code",
   "execution_count": 107,
   "metadata": {
    "extensions": {
     "jupyter_dashboards": {
      "version": 1,
      "views": {
       "grid_default": {},
       "report_default": {
        "hidden": false
       }
      }
     }
    }
   },
   "outputs": [
    {
     "data": {
      "text/plain": [
       "''"
      ]
     },
     "execution_count": 107,
     "metadata": {},
     "output_type": "execute_result"
    }
   ],
   "source": [
    "plt.hist(data['Lon'], bins=100,range=(-74.2,-73.7))\n",
    "xlabel('longitude')\n",
    "ylabel('frequency')\n",
    "title('frequency of pick ups based on longitude-uber-april 2014')\n",
    ";"
   ]
  },
  {
   "cell_type": "code",
   "execution_count": 106,
   "metadata": {},
   "outputs": [
    {
     "data": {
      "application/vnd.jupyter.widget-view+json": {
       "model_id": "f47b86545f69475489a7a900a5db69c8",
       "version_major": 2,
       "version_minor": 0
      },
      "text/plain": [
       "Figure(axes=[Axis(orientation='vertical', scale=LinearScale()), Axis(scale=LinearScale())], fig_margin={'top':…"
      ]
     },
     "metadata": {},
     "output_type": "display_data"
    }
   ],
   "source": [
    "fig_hist = plt.figure( title='frequency of pick ups according to longitude-uber -april -2014')\n",
    "hist = plt.hist(data['Lon'], bins=100)\n",
    "xlabel('longitude')\n",
    "ylabel('frequency')\n",
    "fig_hist"
   ]
  },
  {
   "cell_type": "code",
   "execution_count": 101,
   "metadata": {},
   "outputs": [
    {
     "data": {
      "application/vnd.jupyter.widget-view+json": {
       "model_id": "d07d2800fbf142f8900bbc08efbf3b8b",
       "version_major": 2,
       "version_minor": 0
      },
      "text/plain": [
       "IntSlider(value=1, min=1)"
      ]
     },
     "metadata": {},
     "output_type": "display_data"
    }
   ],
   "source": [
    "slider = widgets.IntSlider(min=1, max=100, v_model=30)\n",
    "slider"
   ]
  },
  {
   "cell_type": "code",
   "execution_count": 102,
   "metadata": {},
   "outputs": [
    {
     "data": {
      "text/plain": [
       "1"
      ]
     },
     "execution_count": 102,
     "metadata": {},
     "output_type": "execute_result"
    }
   ],
   "source": [
    "slider.value"
   ]
  },
  {
   "cell_type": "code",
   "execution_count": 103,
   "metadata": {},
   "outputs": [],
   "source": [
    "widgets.link((hist, 'bins'), (slider, 'value'));"
   ]
  },
  {
   "cell_type": "code",
   "execution_count": 104,
   "metadata": {
    "extensions": {
     "jupyter_dashboards": {
      "version": 1,
      "views": {
       "grid_default": {},
       "report_default": {
        "hidden": false
       }
      }
     }
    }
   },
   "outputs": [
    {
     "name": "stderr",
     "output_type": "stream",
     "text": [
      "No handles with labels found to put in legend.\n",
      "No handles with labels found to put in legend.\n"
     ]
    },
    {
     "data": {
      "text/plain": [
       "''"
      ]
     },
     "execution_count": 104,
     "metadata": {},
     "output_type": "execute_result"
    }
   ],
   "source": [
    "plt.hist(data['Lon'], bins=100, range = (-74.1, -73.9), color='g', alpha=.5, label = 'longitude')\n",
    "grid()\n",
    "legend(loc='upper left')\n",
    "twiny()\n",
    "plt.hist(data['Lat'], bins=100, range = (40.5, 41), color='r', alpha=.5, label = 'latitude')\n",
    "legend(loc='best')\n",
    ";"
   ]
  },
  {
   "cell_type": "code",
   "execution_count": 77,
   "metadata": {
    "extensions": {
     "jupyter_dashboards": {
      "version": 1,
      "views": {
       "grid_default": {},
       "report_default": {
        "hidden": false
       }
      }
     }
    }
   },
   "outputs": [
    {
     "data": {
      "application/javascript": [
       "/* Put everything inside the global mpl namespace */\n",
       "window.mpl = {};\n",
       "\n",
       "\n",
       "mpl.get_websocket_type = function() {\n",
       "    if (typeof(WebSocket) !== 'undefined') {\n",
       "        return WebSocket;\n",
       "    } else if (typeof(MozWebSocket) !== 'undefined') {\n",
       "        return MozWebSocket;\n",
       "    } else {\n",
       "        alert('Your browser does not have WebSocket support. ' +\n",
       "              'Please try Chrome, Safari or Firefox ≥ 6. ' +\n",
       "              'Firefox 4 and 5 are also supported but you ' +\n",
       "              'have to enable WebSockets in about:config.');\n",
       "    };\n",
       "}\n",
       "\n",
       "mpl.figure = function(figure_id, websocket, ondownload, parent_element) {\n",
       "    this.id = figure_id;\n",
       "\n",
       "    this.ws = websocket;\n",
       "\n",
       "    this.supports_binary = (this.ws.binaryType != undefined);\n",
       "\n",
       "    if (!this.supports_binary) {\n",
       "        var warnings = document.getElementById(\"mpl-warnings\");\n",
       "        if (warnings) {\n",
       "            warnings.style.display = 'block';\n",
       "            warnings.textContent = (\n",
       "                \"This browser does not support binary websocket messages. \" +\n",
       "                    \"Performance may be slow.\");\n",
       "        }\n",
       "    }\n",
       "\n",
       "    this.imageObj = new Image();\n",
       "\n",
       "    this.context = undefined;\n",
       "    this.message = undefined;\n",
       "    this.canvas = undefined;\n",
       "    this.rubberband_canvas = undefined;\n",
       "    this.rubberband_context = undefined;\n",
       "    this.format_dropdown = undefined;\n",
       "\n",
       "    this.image_mode = 'full';\n",
       "\n",
       "    this.root = $('<div/>');\n",
       "    this._root_extra_style(this.root)\n",
       "    this.root.attr('style', 'display: inline-block');\n",
       "\n",
       "    $(parent_element).append(this.root);\n",
       "\n",
       "    this._init_header(this);\n",
       "    this._init_canvas(this);\n",
       "    this._init_toolbar(this);\n",
       "\n",
       "    var fig = this;\n",
       "\n",
       "    this.waiting = false;\n",
       "\n",
       "    this.ws.onopen =  function () {\n",
       "            fig.send_message(\"supports_binary\", {value: fig.supports_binary});\n",
       "            fig.send_message(\"send_image_mode\", {});\n",
       "            if (mpl.ratio != 1) {\n",
       "                fig.send_message(\"set_dpi_ratio\", {'dpi_ratio': mpl.ratio});\n",
       "            }\n",
       "            fig.send_message(\"refresh\", {});\n",
       "        }\n",
       "\n",
       "    this.imageObj.onload = function() {\n",
       "            if (fig.image_mode == 'full') {\n",
       "                // Full images could contain transparency (where diff images\n",
       "                // almost always do), so we need to clear the canvas so that\n",
       "                // there is no ghosting.\n",
       "                fig.context.clearRect(0, 0, fig.canvas.width, fig.canvas.height);\n",
       "            }\n",
       "            fig.context.drawImage(fig.imageObj, 0, 0);\n",
       "        };\n",
       "\n",
       "    this.imageObj.onunload = function() {\n",
       "        fig.ws.close();\n",
       "    }\n",
       "\n",
       "    this.ws.onmessage = this._make_on_message_function(this);\n",
       "\n",
       "    this.ondownload = ondownload;\n",
       "}\n",
       "\n",
       "mpl.figure.prototype._init_header = function() {\n",
       "    var titlebar = $(\n",
       "        '<div class=\"ui-dialog-titlebar ui-widget-header ui-corner-all ' +\n",
       "        'ui-helper-clearfix\"/>');\n",
       "    var titletext = $(\n",
       "        '<div class=\"ui-dialog-title\" style=\"width: 100%; ' +\n",
       "        'text-align: center; padding: 3px;\"/>');\n",
       "    titlebar.append(titletext)\n",
       "    this.root.append(titlebar);\n",
       "    this.header = titletext[0];\n",
       "}\n",
       "\n",
       "\n",
       "\n",
       "mpl.figure.prototype._canvas_extra_style = function(canvas_div) {\n",
       "\n",
       "}\n",
       "\n",
       "\n",
       "mpl.figure.prototype._root_extra_style = function(canvas_div) {\n",
       "\n",
       "}\n",
       "\n",
       "mpl.figure.prototype._init_canvas = function() {\n",
       "    var fig = this;\n",
       "\n",
       "    var canvas_div = $('<div/>');\n",
       "\n",
       "    canvas_div.attr('style', 'position: relative; clear: both; outline: 0');\n",
       "\n",
       "    function canvas_keyboard_event(event) {\n",
       "        return fig.key_event(event, event['data']);\n",
       "    }\n",
       "\n",
       "    canvas_div.keydown('key_press', canvas_keyboard_event);\n",
       "    canvas_div.keyup('key_release', canvas_keyboard_event);\n",
       "    this.canvas_div = canvas_div\n",
       "    this._canvas_extra_style(canvas_div)\n",
       "    this.root.append(canvas_div);\n",
       "\n",
       "    var canvas = $('<canvas/>');\n",
       "    canvas.addClass('mpl-canvas');\n",
       "    canvas.attr('style', \"left: 0; top: 0; z-index: 0; outline: 0\")\n",
       "\n",
       "    this.canvas = canvas[0];\n",
       "    this.context = canvas[0].getContext(\"2d\");\n",
       "\n",
       "    var backingStore = this.context.backingStorePixelRatio ||\n",
       "\tthis.context.webkitBackingStorePixelRatio ||\n",
       "\tthis.context.mozBackingStorePixelRatio ||\n",
       "\tthis.context.msBackingStorePixelRatio ||\n",
       "\tthis.context.oBackingStorePixelRatio ||\n",
       "\tthis.context.backingStorePixelRatio || 1;\n",
       "\n",
       "    mpl.ratio = (window.devicePixelRatio || 1) / backingStore;\n",
       "\n",
       "    var rubberband = $('<canvas/>');\n",
       "    rubberband.attr('style', \"position: absolute; left: 0; top: 0; z-index: 1;\")\n",
       "\n",
       "    var pass_mouse_events = true;\n",
       "\n",
       "    canvas_div.resizable({\n",
       "        start: function(event, ui) {\n",
       "            pass_mouse_events = false;\n",
       "        },\n",
       "        resize: function(event, ui) {\n",
       "            fig.request_resize(ui.size.width, ui.size.height);\n",
       "        },\n",
       "        stop: function(event, ui) {\n",
       "            pass_mouse_events = true;\n",
       "            fig.request_resize(ui.size.width, ui.size.height);\n",
       "        },\n",
       "    });\n",
       "\n",
       "    function mouse_event_fn(event) {\n",
       "        if (pass_mouse_events)\n",
       "            return fig.mouse_event(event, event['data']);\n",
       "    }\n",
       "\n",
       "    rubberband.mousedown('button_press', mouse_event_fn);\n",
       "    rubberband.mouseup('button_release', mouse_event_fn);\n",
       "    // Throttle sequential mouse events to 1 every 20ms.\n",
       "    rubberband.mousemove('motion_notify', mouse_event_fn);\n",
       "\n",
       "    rubberband.mouseenter('figure_enter', mouse_event_fn);\n",
       "    rubberband.mouseleave('figure_leave', mouse_event_fn);\n",
       "\n",
       "    canvas_div.on(\"wheel\", function (event) {\n",
       "        event = event.originalEvent;\n",
       "        event['data'] = 'scroll'\n",
       "        if (event.deltaY < 0) {\n",
       "            event.step = 1;\n",
       "        } else {\n",
       "            event.step = -1;\n",
       "        }\n",
       "        mouse_event_fn(event);\n",
       "    });\n",
       "\n",
       "    canvas_div.append(canvas);\n",
       "    canvas_div.append(rubberband);\n",
       "\n",
       "    this.rubberband = rubberband;\n",
       "    this.rubberband_canvas = rubberband[0];\n",
       "    this.rubberband_context = rubberband[0].getContext(\"2d\");\n",
       "    this.rubberband_context.strokeStyle = \"#000000\";\n",
       "\n",
       "    this._resize_canvas = function(width, height) {\n",
       "        // Keep the size of the canvas, canvas container, and rubber band\n",
       "        // canvas in synch.\n",
       "        canvas_div.css('width', width)\n",
       "        canvas_div.css('height', height)\n",
       "\n",
       "        canvas.attr('width', width * mpl.ratio);\n",
       "        canvas.attr('height', height * mpl.ratio);\n",
       "        canvas.attr('style', 'width: ' + width + 'px; height: ' + height + 'px;');\n",
       "\n",
       "        rubberband.attr('width', width);\n",
       "        rubberband.attr('height', height);\n",
       "    }\n",
       "\n",
       "    // Set the figure to an initial 600x600px, this will subsequently be updated\n",
       "    // upon first draw.\n",
       "    this._resize_canvas(600, 600);\n",
       "\n",
       "    // Disable right mouse context menu.\n",
       "    $(this.rubberband_canvas).bind(\"contextmenu\",function(e){\n",
       "        return false;\n",
       "    });\n",
       "\n",
       "    function set_focus () {\n",
       "        canvas.focus();\n",
       "        canvas_div.focus();\n",
       "    }\n",
       "\n",
       "    window.setTimeout(set_focus, 100);\n",
       "}\n",
       "\n",
       "mpl.figure.prototype._init_toolbar = function() {\n",
       "    var fig = this;\n",
       "\n",
       "    var nav_element = $('<div/>');\n",
       "    nav_element.attr('style', 'width: 100%');\n",
       "    this.root.append(nav_element);\n",
       "\n",
       "    // Define a callback function for later on.\n",
       "    function toolbar_event(event) {\n",
       "        return fig.toolbar_button_onclick(event['data']);\n",
       "    }\n",
       "    function toolbar_mouse_event(event) {\n",
       "        return fig.toolbar_button_onmouseover(event['data']);\n",
       "    }\n",
       "\n",
       "    for(var toolbar_ind in mpl.toolbar_items) {\n",
       "        var name = mpl.toolbar_items[toolbar_ind][0];\n",
       "        var tooltip = mpl.toolbar_items[toolbar_ind][1];\n",
       "        var image = mpl.toolbar_items[toolbar_ind][2];\n",
       "        var method_name = mpl.toolbar_items[toolbar_ind][3];\n",
       "\n",
       "        if (!name) {\n",
       "            // put a spacer in here.\n",
       "            continue;\n",
       "        }\n",
       "        var button = $('<button/>');\n",
       "        button.addClass('ui-button ui-widget ui-state-default ui-corner-all ' +\n",
       "                        'ui-button-icon-only');\n",
       "        button.attr('role', 'button');\n",
       "        button.attr('aria-disabled', 'false');\n",
       "        button.click(method_name, toolbar_event);\n",
       "        button.mouseover(tooltip, toolbar_mouse_event);\n",
       "\n",
       "        var icon_img = $('<span/>');\n",
       "        icon_img.addClass('ui-button-icon-primary ui-icon');\n",
       "        icon_img.addClass(image);\n",
       "        icon_img.addClass('ui-corner-all');\n",
       "\n",
       "        var tooltip_span = $('<span/>');\n",
       "        tooltip_span.addClass('ui-button-text');\n",
       "        tooltip_span.html(tooltip);\n",
       "\n",
       "        button.append(icon_img);\n",
       "        button.append(tooltip_span);\n",
       "\n",
       "        nav_element.append(button);\n",
       "    }\n",
       "\n",
       "    var fmt_picker_span = $('<span/>');\n",
       "\n",
       "    var fmt_picker = $('<select/>');\n",
       "    fmt_picker.addClass('mpl-toolbar-option ui-widget ui-widget-content');\n",
       "    fmt_picker_span.append(fmt_picker);\n",
       "    nav_element.append(fmt_picker_span);\n",
       "    this.format_dropdown = fmt_picker[0];\n",
       "\n",
       "    for (var ind in mpl.extensions) {\n",
       "        var fmt = mpl.extensions[ind];\n",
       "        var option = $(\n",
       "            '<option/>', {selected: fmt === mpl.default_extension}).html(fmt);\n",
       "        fmt_picker.append(option);\n",
       "    }\n",
       "\n",
       "    // Add hover states to the ui-buttons\n",
       "    $( \".ui-button\" ).hover(\n",
       "        function() { $(this).addClass(\"ui-state-hover\");},\n",
       "        function() { $(this).removeClass(\"ui-state-hover\");}\n",
       "    );\n",
       "\n",
       "    var status_bar = $('<span class=\"mpl-message\"/>');\n",
       "    nav_element.append(status_bar);\n",
       "    this.message = status_bar[0];\n",
       "}\n",
       "\n",
       "mpl.figure.prototype.request_resize = function(x_pixels, y_pixels) {\n",
       "    // Request matplotlib to resize the figure. Matplotlib will then trigger a resize in the client,\n",
       "    // which will in turn request a refresh of the image.\n",
       "    this.send_message('resize', {'width': x_pixels, 'height': y_pixels});\n",
       "}\n",
       "\n",
       "mpl.figure.prototype.send_message = function(type, properties) {\n",
       "    properties['type'] = type;\n",
       "    properties['figure_id'] = this.id;\n",
       "    this.ws.send(JSON.stringify(properties));\n",
       "}\n",
       "\n",
       "mpl.figure.prototype.send_draw_message = function() {\n",
       "    if (!this.waiting) {\n",
       "        this.waiting = true;\n",
       "        this.ws.send(JSON.stringify({type: \"draw\", figure_id: this.id}));\n",
       "    }\n",
       "}\n",
       "\n",
       "\n",
       "mpl.figure.prototype.handle_save = function(fig, msg) {\n",
       "    var format_dropdown = fig.format_dropdown;\n",
       "    var format = format_dropdown.options[format_dropdown.selectedIndex].value;\n",
       "    fig.ondownload(fig, format);\n",
       "}\n",
       "\n",
       "\n",
       "mpl.figure.prototype.handle_resize = function(fig, msg) {\n",
       "    var size = msg['size'];\n",
       "    if (size[0] != fig.canvas.width || size[1] != fig.canvas.height) {\n",
       "        fig._resize_canvas(size[0], size[1]);\n",
       "        fig.send_message(\"refresh\", {});\n",
       "    };\n",
       "}\n",
       "\n",
       "mpl.figure.prototype.handle_rubberband = function(fig, msg) {\n",
       "    var x0 = msg['x0'] / mpl.ratio;\n",
       "    var y0 = (fig.canvas.height - msg['y0']) / mpl.ratio;\n",
       "    var x1 = msg['x1'] / mpl.ratio;\n",
       "    var y1 = (fig.canvas.height - msg['y1']) / mpl.ratio;\n",
       "    x0 = Math.floor(x0) + 0.5;\n",
       "    y0 = Math.floor(y0) + 0.5;\n",
       "    x1 = Math.floor(x1) + 0.5;\n",
       "    y1 = Math.floor(y1) + 0.5;\n",
       "    var min_x = Math.min(x0, x1);\n",
       "    var min_y = Math.min(y0, y1);\n",
       "    var width = Math.abs(x1 - x0);\n",
       "    var height = Math.abs(y1 - y0);\n",
       "\n",
       "    fig.rubberband_context.clearRect(\n",
       "        0, 0, fig.canvas.width / mpl.ratio, fig.canvas.height / mpl.ratio);\n",
       "\n",
       "    fig.rubberband_context.strokeRect(min_x, min_y, width, height);\n",
       "}\n",
       "\n",
       "mpl.figure.prototype.handle_figure_label = function(fig, msg) {\n",
       "    // Updates the figure title.\n",
       "    fig.header.textContent = msg['label'];\n",
       "}\n",
       "\n",
       "mpl.figure.prototype.handle_cursor = function(fig, msg) {\n",
       "    var cursor = msg['cursor'];\n",
       "    switch(cursor)\n",
       "    {\n",
       "    case 0:\n",
       "        cursor = 'pointer';\n",
       "        break;\n",
       "    case 1:\n",
       "        cursor = 'default';\n",
       "        break;\n",
       "    case 2:\n",
       "        cursor = 'crosshair';\n",
       "        break;\n",
       "    case 3:\n",
       "        cursor = 'move';\n",
       "        break;\n",
       "    }\n",
       "    fig.rubberband_canvas.style.cursor = cursor;\n",
       "}\n",
       "\n",
       "mpl.figure.prototype.handle_message = function(fig, msg) {\n",
       "    fig.message.textContent = msg['message'];\n",
       "}\n",
       "\n",
       "mpl.figure.prototype.handle_draw = function(fig, msg) {\n",
       "    // Request the server to send over a new figure.\n",
       "    fig.send_draw_message();\n",
       "}\n",
       "\n",
       "mpl.figure.prototype.handle_image_mode = function(fig, msg) {\n",
       "    fig.image_mode = msg['mode'];\n",
       "}\n",
       "\n",
       "mpl.figure.prototype.updated_canvas_event = function() {\n",
       "    // Called whenever the canvas gets updated.\n",
       "    this.send_message(\"ack\", {});\n",
       "}\n",
       "\n",
       "// A function to construct a web socket function for onmessage handling.\n",
       "// Called in the figure constructor.\n",
       "mpl.figure.prototype._make_on_message_function = function(fig) {\n",
       "    return function socket_on_message(evt) {\n",
       "        if (evt.data instanceof Blob) {\n",
       "            /* FIXME: We get \"Resource interpreted as Image but\n",
       "             * transferred with MIME type text/plain:\" errors on\n",
       "             * Chrome.  But how to set the MIME type?  It doesn't seem\n",
       "             * to be part of the websocket stream */\n",
       "            evt.data.type = \"image/png\";\n",
       "\n",
       "            /* Free the memory for the previous frames */\n",
       "            if (fig.imageObj.src) {\n",
       "                (window.URL || window.webkitURL).revokeObjectURL(\n",
       "                    fig.imageObj.src);\n",
       "            }\n",
       "\n",
       "            fig.imageObj.src = (window.URL || window.webkitURL).createObjectURL(\n",
       "                evt.data);\n",
       "            fig.updated_canvas_event();\n",
       "            fig.waiting = false;\n",
       "            return;\n",
       "        }\n",
       "        else if (typeof evt.data === 'string' && evt.data.slice(0, 21) == \"data:image/png;base64\") {\n",
       "            fig.imageObj.src = evt.data;\n",
       "            fig.updated_canvas_event();\n",
       "            fig.waiting = false;\n",
       "            return;\n",
       "        }\n",
       "\n",
       "        var msg = JSON.parse(evt.data);\n",
       "        var msg_type = msg['type'];\n",
       "\n",
       "        // Call the  \"handle_{type}\" callback, which takes\n",
       "        // the figure and JSON message as its only arguments.\n",
       "        try {\n",
       "            var callback = fig[\"handle_\" + msg_type];\n",
       "        } catch (e) {\n",
       "            console.log(\"No handler for the '\" + msg_type + \"' message type: \", msg);\n",
       "            return;\n",
       "        }\n",
       "\n",
       "        if (callback) {\n",
       "            try {\n",
       "                // console.log(\"Handling '\" + msg_type + \"' message: \", msg);\n",
       "                callback(fig, msg);\n",
       "            } catch (e) {\n",
       "                console.log(\"Exception inside the 'handler_\" + msg_type + \"' callback:\", e, e.stack, msg);\n",
       "            }\n",
       "        }\n",
       "    };\n",
       "}\n",
       "\n",
       "// from http://stackoverflow.com/questions/1114465/getting-mouse-location-in-canvas\n",
       "mpl.findpos = function(e) {\n",
       "    //this section is from http://www.quirksmode.org/js/events_properties.html\n",
       "    var targ;\n",
       "    if (!e)\n",
       "        e = window.event;\n",
       "    if (e.target)\n",
       "        targ = e.target;\n",
       "    else if (e.srcElement)\n",
       "        targ = e.srcElement;\n",
       "    if (targ.nodeType == 3) // defeat Safari bug\n",
       "        targ = targ.parentNode;\n",
       "\n",
       "    // jQuery normalizes the pageX and pageY\n",
       "    // pageX,Y are the mouse positions relative to the document\n",
       "    // offset() returns the position of the element relative to the document\n",
       "    var x = e.pageX - $(targ).offset().left;\n",
       "    var y = e.pageY - $(targ).offset().top;\n",
       "\n",
       "    return {\"x\": x, \"y\": y};\n",
       "};\n",
       "\n",
       "/*\n",
       " * return a copy of an object with only non-object keys\n",
       " * we need this to avoid circular references\n",
       " * http://stackoverflow.com/a/24161582/3208463\n",
       " */\n",
       "function simpleKeys (original) {\n",
       "  return Object.keys(original).reduce(function (obj, key) {\n",
       "    if (typeof original[key] !== 'object')\n",
       "        obj[key] = original[key]\n",
       "    return obj;\n",
       "  }, {});\n",
       "}\n",
       "\n",
       "mpl.figure.prototype.mouse_event = function(event, name) {\n",
       "    var canvas_pos = mpl.findpos(event)\n",
       "\n",
       "    if (name === 'button_press')\n",
       "    {\n",
       "        this.canvas.focus();\n",
       "        this.canvas_div.focus();\n",
       "    }\n",
       "\n",
       "    var x = canvas_pos.x * mpl.ratio;\n",
       "    var y = canvas_pos.y * mpl.ratio;\n",
       "\n",
       "    this.send_message(name, {x: x, y: y, button: event.button,\n",
       "                             step: event.step,\n",
       "                             guiEvent: simpleKeys(event)});\n",
       "\n",
       "    /* This prevents the web browser from automatically changing to\n",
       "     * the text insertion cursor when the button is pressed.  We want\n",
       "     * to control all of the cursor setting manually through the\n",
       "     * 'cursor' event from matplotlib */\n",
       "    event.preventDefault();\n",
       "    return false;\n",
       "}\n",
       "\n",
       "mpl.figure.prototype._key_event_extra = function(event, name) {\n",
       "    // Handle any extra behaviour associated with a key event\n",
       "}\n",
       "\n",
       "mpl.figure.prototype.key_event = function(event, name) {\n",
       "\n",
       "    // Prevent repeat events\n",
       "    if (name == 'key_press')\n",
       "    {\n",
       "        if (event.which === this._key)\n",
       "            return;\n",
       "        else\n",
       "            this._key = event.which;\n",
       "    }\n",
       "    if (name == 'key_release')\n",
       "        this._key = null;\n",
       "\n",
       "    var value = '';\n",
       "    if (event.ctrlKey && event.which != 17)\n",
       "        value += \"ctrl+\";\n",
       "    if (event.altKey && event.which != 18)\n",
       "        value += \"alt+\";\n",
       "    if (event.shiftKey && event.which != 16)\n",
       "        value += \"shift+\";\n",
       "\n",
       "    value += 'k';\n",
       "    value += event.which.toString();\n",
       "\n",
       "    this._key_event_extra(event, name);\n",
       "\n",
       "    this.send_message(name, {key: value,\n",
       "                             guiEvent: simpleKeys(event)});\n",
       "    return false;\n",
       "}\n",
       "\n",
       "mpl.figure.prototype.toolbar_button_onclick = function(name) {\n",
       "    if (name == 'download') {\n",
       "        this.handle_save(this, null);\n",
       "    } else {\n",
       "        this.send_message(\"toolbar_button\", {name: name});\n",
       "    }\n",
       "};\n",
       "\n",
       "mpl.figure.prototype.toolbar_button_onmouseover = function(tooltip) {\n",
       "    this.message.textContent = tooltip;\n",
       "};\n",
       "mpl.toolbar_items = [[\"Home\", \"Reset original view\", \"fa fa-home icon-home\", \"home\"], [\"Back\", \"Back to previous view\", \"fa fa-arrow-left icon-arrow-left\", \"back\"], [\"Forward\", \"Forward to next view\", \"fa fa-arrow-right icon-arrow-right\", \"forward\"], [\"\", \"\", \"\", \"\"], [\"Pan\", \"Pan axes with left mouse, zoom with right\", \"fa fa-arrows icon-move\", \"pan\"], [\"Zoom\", \"Zoom to rectangle\", \"fa fa-square-o icon-check-empty\", \"zoom\"], [\"\", \"\", \"\", \"\"], [\"Download\", \"Download plot\", \"fa fa-floppy-o icon-save\", \"download\"]];\n",
       "\n",
       "mpl.extensions = [\"eps\", \"jpeg\", \"pdf\", \"png\", \"ps\", \"raw\", \"svg\", \"tif\"];\n",
       "\n",
       "mpl.default_extension = \"png\";var comm_websocket_adapter = function(comm) {\n",
       "    // Create a \"websocket\"-like object which calls the given IPython comm\n",
       "    // object with the appropriate methods. Currently this is a non binary\n",
       "    // socket, so there is still some room for performance tuning.\n",
       "    var ws = {};\n",
       "\n",
       "    ws.close = function() {\n",
       "        comm.close()\n",
       "    };\n",
       "    ws.send = function(m) {\n",
       "        //console.log('sending', m);\n",
       "        comm.send(m);\n",
       "    };\n",
       "    // Register the callback with on_msg.\n",
       "    comm.on_msg(function(msg) {\n",
       "        //console.log('receiving', msg['content']['data'], msg);\n",
       "        // Pass the mpl event to the overridden (by mpl) onmessage function.\n",
       "        ws.onmessage(msg['content']['data'])\n",
       "    });\n",
       "    return ws;\n",
       "}\n",
       "\n",
       "mpl.mpl_figure_comm = function(comm, msg) {\n",
       "    // This is the function which gets called when the mpl process\n",
       "    // starts-up an IPython Comm through the \"matplotlib\" channel.\n",
       "\n",
       "    var id = msg.content.data.id;\n",
       "    // Get hold of the div created by the display call when the Comm\n",
       "    // socket was opened in Python.\n",
       "    var element = $(\"#\" + id);\n",
       "    var ws_proxy = comm_websocket_adapter(comm)\n",
       "\n",
       "    function ondownload(figure, format) {\n",
       "        window.open(figure.imageObj.src);\n",
       "    }\n",
       "\n",
       "    var fig = new mpl.figure(id, ws_proxy,\n",
       "                           ondownload,\n",
       "                           element.get(0));\n",
       "\n",
       "    // Call onopen now - mpl needs it, as it is assuming we've passed it a real\n",
       "    // web socket which is closed, not our websocket->open comm proxy.\n",
       "    ws_proxy.onopen();\n",
       "\n",
       "    fig.parent_element = element.get(0);\n",
       "    fig.cell_info = mpl.find_output_cell(\"<div id='\" + id + \"'></div>\");\n",
       "    if (!fig.cell_info) {\n",
       "        console.error(\"Failed to find cell for figure\", id, fig);\n",
       "        return;\n",
       "    }\n",
       "\n",
       "    var output_index = fig.cell_info[2]\n",
       "    var cell = fig.cell_info[0];\n",
       "\n",
       "};\n",
       "\n",
       "mpl.figure.prototype.handle_close = function(fig, msg) {\n",
       "    var width = fig.canvas.width/mpl.ratio\n",
       "    fig.root.unbind('remove')\n",
       "\n",
       "    // Update the output cell to use the data from the current canvas.\n",
       "    fig.push_to_output();\n",
       "    var dataURL = fig.canvas.toDataURL();\n",
       "    // Re-enable the keyboard manager in IPython - without this line, in FF,\n",
       "    // the notebook keyboard shortcuts fail.\n",
       "    IPython.keyboard_manager.enable()\n",
       "    $(fig.parent_element).html('<img src=\"' + dataURL + '\" width=\"' + width + '\">');\n",
       "    fig.close_ws(fig, msg);\n",
       "}\n",
       "\n",
       "mpl.figure.prototype.close_ws = function(fig, msg){\n",
       "    fig.send_message('closing', msg);\n",
       "    // fig.ws.close()\n",
       "}\n",
       "\n",
       "mpl.figure.prototype.push_to_output = function(remove_interactive) {\n",
       "    // Turn the data on the canvas into data in the output cell.\n",
       "    var width = this.canvas.width/mpl.ratio\n",
       "    var dataURL = this.canvas.toDataURL();\n",
       "    this.cell_info[1]['text/html'] = '<img src=\"' + dataURL + '\" width=\"' + width + '\">';\n",
       "}\n",
       "\n",
       "mpl.figure.prototype.updated_canvas_event = function() {\n",
       "    // Tell IPython that the notebook contents must change.\n",
       "    IPython.notebook.set_dirty(true);\n",
       "    this.send_message(\"ack\", {});\n",
       "    var fig = this;\n",
       "    // Wait a second, then push the new image to the DOM so\n",
       "    // that it is saved nicely (might be nice to debounce this).\n",
       "    setTimeout(function () { fig.push_to_output() }, 1000);\n",
       "}\n",
       "\n",
       "mpl.figure.prototype._init_toolbar = function() {\n",
       "    var fig = this;\n",
       "\n",
       "    var nav_element = $('<div/>');\n",
       "    nav_element.attr('style', 'width: 100%');\n",
       "    this.root.append(nav_element);\n",
       "\n",
       "    // Define a callback function for later on.\n",
       "    function toolbar_event(event) {\n",
       "        return fig.toolbar_button_onclick(event['data']);\n",
       "    }\n",
       "    function toolbar_mouse_event(event) {\n",
       "        return fig.toolbar_button_onmouseover(event['data']);\n",
       "    }\n",
       "\n",
       "    for(var toolbar_ind in mpl.toolbar_items){\n",
       "        var name = mpl.toolbar_items[toolbar_ind][0];\n",
       "        var tooltip = mpl.toolbar_items[toolbar_ind][1];\n",
       "        var image = mpl.toolbar_items[toolbar_ind][2];\n",
       "        var method_name = mpl.toolbar_items[toolbar_ind][3];\n",
       "\n",
       "        if (!name) { continue; };\n",
       "\n",
       "        var button = $('<button class=\"btn btn-default\" href=\"#\" title=\"' + name + '\"><i class=\"fa ' + image + ' fa-lg\"></i></button>');\n",
       "        button.click(method_name, toolbar_event);\n",
       "        button.mouseover(tooltip, toolbar_mouse_event);\n",
       "        nav_element.append(button);\n",
       "    }\n",
       "\n",
       "    // Add the status bar.\n",
       "    var status_bar = $('<span class=\"mpl-message\" style=\"text-align:right; float: right;\"/>');\n",
       "    nav_element.append(status_bar);\n",
       "    this.message = status_bar[0];\n",
       "\n",
       "    // Add the close button to the window.\n",
       "    var buttongrp = $('<div class=\"btn-group inline pull-right\"></div>');\n",
       "    var button = $('<button class=\"btn btn-mini btn-primary\" href=\"#\" title=\"Stop Interaction\"><i class=\"fa fa-power-off icon-remove icon-large\"></i></button>');\n",
       "    button.click(function (evt) { fig.handle_close(fig, {}); } );\n",
       "    button.mouseover('Stop Interaction', toolbar_mouse_event);\n",
       "    buttongrp.append(button);\n",
       "    var titlebar = this.root.find($('.ui-dialog-titlebar'));\n",
       "    titlebar.prepend(buttongrp);\n",
       "}\n",
       "\n",
       "mpl.figure.prototype._root_extra_style = function(el){\n",
       "    var fig = this\n",
       "    el.on(\"remove\", function(){\n",
       "\tfig.close_ws(fig, {});\n",
       "    });\n",
       "}\n",
       "\n",
       "mpl.figure.prototype._canvas_extra_style = function(el){\n",
       "    // this is important to make the div 'focusable\n",
       "    el.attr('tabindex', 0)\n",
       "    // reach out to IPython and tell the keyboard manager to turn it's self\n",
       "    // off when our div gets focus\n",
       "\n",
       "    // location in version 3\n",
       "    if (IPython.notebook.keyboard_manager) {\n",
       "        IPython.notebook.keyboard_manager.register_events(el);\n",
       "    }\n",
       "    else {\n",
       "        // location in version 2\n",
       "        IPython.keyboard_manager.register_events(el);\n",
       "    }\n",
       "\n",
       "}\n",
       "\n",
       "mpl.figure.prototype._key_event_extra = function(event, name) {\n",
       "    var manager = IPython.notebook.keyboard_manager;\n",
       "    if (!manager)\n",
       "        manager = IPython.keyboard_manager;\n",
       "\n",
       "    // Check for shift+enter\n",
       "    if (event.shiftKey && event.which == 13) {\n",
       "        this.canvas_div.blur();\n",
       "        // select the cell after this one\n",
       "        var index = IPython.notebook.find_cell_index(this.cell_info[0]);\n",
       "        IPython.notebook.select(index + 1);\n",
       "    }\n",
       "}\n",
       "\n",
       "mpl.figure.prototype.handle_save = function(fig, msg) {\n",
       "    fig.ondownload(fig, null);\n",
       "}\n",
       "\n",
       "\n",
       "mpl.find_output_cell = function(html_output) {\n",
       "    // Return the cell and output element which can be found *uniquely* in the notebook.\n",
       "    // Note - this is a bit hacky, but it is done because the \"notebook_saving.Notebook\"\n",
       "    // IPython event is triggered only after the cells have been serialised, which for\n",
       "    // our purposes (turning an active figure into a static one), is too late.\n",
       "    var cells = IPython.notebook.get_cells();\n",
       "    var ncells = cells.length;\n",
       "    for (var i=0; i<ncells; i++) {\n",
       "        var cell = cells[i];\n",
       "        if (cell.cell_type === 'code'){\n",
       "            for (var j=0; j<cell.output_area.outputs.length; j++) {\n",
       "                var data = cell.output_area.outputs[j];\n",
       "                if (data.data) {\n",
       "                    // IPython >= 3 moved mimebundle to data attribute of output\n",
       "                    data = data.data;\n",
       "                }\n",
       "                if (data['text/html'] == html_output) {\n",
       "                    return [cell, data, j];\n",
       "                }\n",
       "            }\n",
       "        }\n",
       "    }\n",
       "}\n",
       "\n",
       "// Register the function which deals with the matplotlib target/channel.\n",
       "// The kernel may be null if the page has been refreshed.\n",
       "if (IPython.notebook.kernel != null) {\n",
       "    IPython.notebook.kernel.comm_manager.register_target('matplotlib', mpl.mpl_figure_comm);\n",
       "}\n"
      ],
      "text/plain": [
       "<IPython.core.display.Javascript object>"
      ]
     },
     "metadata": {},
     "output_type": "display_data"
    },
    {
     "data": {
      "text/html": [
       "<img src=\"data:image/png;base64,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\" width=\"1440\">"
      ],
      "text/plain": [
       "<IPython.core.display.HTML object>"
      ]
     },
     "metadata": {},
     "output_type": "display_data"
    },
    {
     "data": {
      "text/plain": [
       "(40.7, 41)"
      ]
     },
     "execution_count": 77,
     "metadata": {},
     "output_type": "execute_result"
    }
   ],
   "source": [
    "figure(figsize=(20, 20))\n",
    "plot(data['Lon'], data['Lat'], '.', ms=1, alpha=.5)\n",
    "xlim(-74.2, -73.7)\n",
    "ylim(40.7, 41)"
   ]
  },
  {
   "cell_type": "code",
   "execution_count": 22,
   "metadata": {
    "extensions": {
     "jupyter_dashboards": {
      "version": 1,
      "views": {
       "grid_default": {},
       "report_default": {
        "hidden": false
       }
      }
     }
    }
   },
   "outputs": [],
   "source": [
    "import numpy as np\n",
    "import pandas as pd\n",
    "import seaborn as sb\n",
    "import matplotlib.pyplot as plt\n",
    "import pylab as py\n",
    "from sklearn.decomposition import PCA\n",
    "from sklearn.cluster import KMeans\n",
    "from mpl_toolkits.mplot3d import Axes3D\n",
    "from sklearn import metrics\n",
    "from sklearn.cluster import KMeans  \n",
    "from scipy.spatial.distance import cdist \n",
    "from sklearn.datasets import make_blobs \n",
    "from sklearn.cluster import AgglomerativeClustering \n",
    "from matplotlib import pyplot as plt\n",
    "import scipy.cluster.hierarchy as sch\n",
    "from keplergl import KeplerGl\n",
    "import geopandas as gpdo"
   ]
  },
  {
   "cell_type": "code",
   "execution_count": 23,
   "metadata": {
    "extensions": {
     "jupyter_dashboards": {
      "version": 1,
      "views": {
       "grid_default": {},
       "report_default": {
        "hidden": false
       }
      }
     }
    }
   },
   "outputs": [
    {
     "data": {
      "text/plain": [
       "Lat    float64\n",
       "Lon    float64\n",
       "dtype: object"
      ]
     },
     "execution_count": 23,
     "metadata": {},
     "output_type": "execute_result"
    }
   ],
   "source": [
    "cluster = data[['Lat','Lon']]\n",
    "cluster.dtypes"
   ]
  },
  {
   "cell_type": "code",
   "execution_count": 24,
   "metadata": {
    "extensions": {
     "jupyter_dashboards": {
      "version": 1,
      "views": {
       "grid_default": {},
       "report_default": {
        "hidden": false
       }
      }
     }
    }
   },
   "outputs": [
    {
     "data": {
      "text/plain": [
       "KMeans(algorithm='auto', copy_x=True, init='k_means++', max_iter=300,\n",
       "       n_clusters=14, n_init=10, n_jobs=None, precompute_distances='auto',\n",
       "       random_state=None, tol=0.0001, verbose=0)"
      ]
     },
     "execution_count": 24,
     "metadata": {},
     "output_type": "execute_result"
    }
   ],
   "source": [
    "KMeans(algorithm= 'auto', copy_x=True, init='k_means++', max_iter=300,n_clusters=14, n_init=10,n_jobs=None, precompute_distances = 'auto',random_state=None, tol = 0.0001, verbose=0)"
   ]
  },
  {
   "cell_type": "code",
   "execution_count": 25,
   "metadata": {
    "extensions": {
     "jupyter_dashboards": {
      "version": 1,
      "views": {
       "grid_default": {},
       "report_default": {
        "hidden": false
       }
      }
     }
    }
   },
   "outputs": [
    {
     "data": {
      "text/plain": [
       "(564516, 2)"
      ]
     },
     "execution_count": 25,
     "metadata": {},
     "output_type": "execute_result"
    }
   ],
   "source": [
    "pca=PCA(n_components=2)\n",
    "pca.fit(cluster)\n",
    "x_red=pca.transform(cluster)\n",
    "x_red.shape"
   ]
  },
  {
   "cell_type": "code",
   "execution_count": 26,
   "metadata": {
    "extensions": {
     "jupyter_dashboards": {
      "version": 1,
      "views": {
       "grid_default": {},
       "report_default": {
        "hidden": false
       }
      }
     }
    }
   },
   "outputs": [
    {
     "data": {
      "text/plain": [
       "array([[ 0.02363917,  0.02760861],\n",
       "       [-0.0583854 , -0.00977347],\n",
       "       [-0.0109748 , -0.00775228],\n",
       "       ...,\n",
       "       [-0.01179968,  0.0050215 ],\n",
       "       [ 0.03233383, -0.06649411],\n",
       "       [ 0.0128253 , -0.05288282]])"
      ]
     },
     "execution_count": 26,
     "metadata": {},
     "output_type": "execute_result"
    }
   ],
   "source": [
    "x_red"
   ]
  },
  {
   "cell_type": "code",
   "execution_count": 27,
   "metadata": {
    "extensions": {
     "jupyter_dashboards": {
      "version": 1,
      "views": {
       "grid_default": {},
       "report_default": {
        "hidden": false
       }
      }
     }
    }
   },
   "outputs": [
    {
     "data": {
      "image/png": "[encoded data removed]",
      "text/plain": [
       "<Figure size 432x288 with 1 Axes>"
      ]
     },
     "metadata": {
      "needs_background": "light"
     },
     "output_type": "display_data"
    }
   ],
   "source": [
    "py.scatter(x_red[:,0],x_red[:,1],cmap='RdYlBu')\n",
    "py.show()"
   ]
  },
  {
   "cell_type": "code",
   "execution_count": 28,
   "metadata": {
    "extensions": {
     "jupyter_dashboards": {
      "version": 1,
      "views": {
       "grid_default": {},
       "report_default": {
        "hidden": false
       }
      }
     }
    }
   },
   "outputs": [],
   "source": [
    "from sklearn.cluster import KMeans\n",
    "k_means=KMeans(n_clusters=3,random_state=0)\n",
    "k_means.fit(cluster)\n",
    "y_pred=k_means.predict(cluster)"
   ]
  },
  {
   "cell_type": "code",
   "execution_count": 29,
   "metadata": {
    "extensions": {
     "jupyter_dashboards": {
      "version": 1,
      "views": {
       "grid_default": {},
       "report_default": {
        "hidden": false
       }
      }
     }
    }
   },
   "outputs": [
    {
     "data": {
      "text/plain": [
       "<matplotlib.collections.PathCollection at 0x2608d6c3da0>"
      ]
     },
     "execution_count": 29,
     "metadata": {},
     "output_type": "execute_result"
    },
    {
     "data": {
      "image/png": "[encoded data removed]",
      "text/plain": [
       "<Figure size 432x288 with 1 Axes>"
      ]
     },
     "metadata": {
      "needs_background": "light"
     },
     "output_type": "display_data"
    }
   ],
   "source": [
    "py.scatter(x_red[:,0],x_red[:,1],c=y_pred,cmap='RdYlBu')"
   ]
  },
  {
   "cell_type": "code",
   "execution_count": 30,
   "metadata": {
    "extensions": {
     "jupyter_dashboards": {
      "version": 1,
      "views": {
       "grid_default": {},
       "report_default": {
        "hidden": false
       }
      }
     }
    }
   },
   "outputs": [],
   "source": [
    "df = pd.DataFrame(x_red)\n",
    "d = df.to_numpy()"
   ]
  },
  {
   "cell_type": "code",
   "execution_count": 31,
   "metadata": {
    "extensions": {
     "jupyter_dashboards": {
      "version": 1,
      "views": {
       "grid_default": {},
       "report_default": {
        "hidden": false
       }
      }
     }
    }
   },
   "outputs": [],
   "source": [
    "Sum_of_squared_distances = []\n",
    "K = range(1,15)\n",
    "for k in K:\n",
    "    km = KMeans(n_clusters=k)\n",
    "    km = km.fit(cluster)\n",
    "    Sum_of_squared_distances.append(km.inertia_)"
   ]
  },
  {
   "cell_type": "code",
   "execution_count": 32,
   "metadata": {
    "extensions": {
     "jupyter_dashboards": {
      "version": 1,
      "views": {
       "grid_default": {},
       "report_default": {
        "hidden": false
       }
      }
     }
    }
   },
   "outputs": [
    {
     "data": {
      "image/png": "[encoded data removed]",
      "text/plain": [
       "<Figure size 432x288 with 1 Axes>"
      ]
     },
     "metadata": {
      "needs_background": "light"
     },
     "output_type": "display_data"
    }
   ],
   "source": [
    "plt.plot(K, Sum_of_squared_distances, 'bx-')\n",
    "plt.xlabel('k')\n",
    "plt.ylabel('Sum_of_squared_distances')\n",
    "plt.title('Elbow Method For Optimal k')\n",
    "plt.show()\n"
   ]
  },
  {
   "cell_type": "code",
   "execution_count": 33,
   "metadata": {
    "extensions": {
     "jupyter_dashboards": {
      "version": 1,
      "views": {
       "grid_default": {},
       "report_default": {
        "hidden": false
       }
      }
     }
    }
   },
   "outputs": [
    {
     "data": {
      "text/plain": [
       "KMeans(algorithm='auto', copy_x=True, init='k-means++', max_iter=300,\n",
       "       n_clusters=6, n_init=10, n_jobs=None, precompute_distances='auto',\n",
       "       random_state=12345, tol=0.0001, verbose=0)"
      ]
     },
     "execution_count": 33,
     "metadata": {},
     "output_type": "execute_result"
    }
   ],
   "source": [
    "kmeans = KMeans(n_clusters=6, max_iter=300, random_state = 12345)\n",
    "kmeans.fit(cluster)"
   ]
  },
  {
   "cell_type": "code",
   "execution_count": 34,
   "metadata": {
    "extensions": {
     "jupyter_dashboards": {
      "version": 1,
      "views": {
       "grid_default": {},
       "report_default": {
        "hidden": false
       }
      }
     }
    }
   },
   "outputs": [
    {
     "data": {
      "text/plain": [
       "array([[ 40.73110836, -73.99862011],\n",
       "       [ 40.65955489, -73.77408093],\n",
       "       [ 40.79811182, -73.86886974],\n",
       "       [ 40.76553564, -73.97283453],\n",
       "       [ 40.68858812, -73.96552836],\n",
       "       [ 40.7005414 , -74.20167303]])"
      ]
     },
     "execution_count": 34,
     "metadata": {},
     "output_type": "execute_result"
    }
   ],
   "source": [
    "centroids = kmeans.cluster_centers_\n",
    "centroids"
   ]
  },
  {
   "cell_type": "code",
   "execution_count": 35,
   "metadata": {
    "extensions": {
     "jupyter_dashboards": {
      "version": 1,
      "views": {
       "grid_default": {},
       "report_default": {
        "hidden": false
       }
      }
     }
    }
   },
   "outputs": [
    {
     "data": {
      "text/plain": [
       "array([1])"
      ]
     },
     "execution_count": 35,
     "metadata": {},
     "output_type": "execute_result"
    }
   ],
   "source": [
    "new_location = [(40.6556,-73.5631)]\n",
    "kmeans.predict(new_location)"
   ]
  },
  {
   "cell_type": "code",
   "execution_count": 36,
   "metadata": {
    "extensions": {
     "jupyter_dashboards": {
      "version": 1,
      "views": {
       "grid_default": {},
       "report_default": {
        "hidden": false
       }
      }
     }
    }
   },
   "outputs": [
    {
     "data": {
      "text/html": [
       "<div>\n",
       "<style scoped>\n",
       "    .dataframe tbody tr th:only-of-type {\n",
       "        vertical-align: middle;\n",
       "    }\n",
       "\n",
       "    .dataframe tbody tr th {\n",
       "        vertical-align: top;\n",
       "    }\n",
       "\n",
       "    .dataframe thead th {\n",
       "        text-align: right;\n",
       "    }\n",
       "</style>\n",
       "<table border=\"1\" class=\"dataframe\">\n",
       "  <thead>\n",
       "    <tr style=\"text-align: right;\">\n",
       "      <th></th>\n",
       "      <th>Lat</th>\n",
       "      <th>Lon</th>\n",
       "    </tr>\n",
       "  </thead>\n",
       "  <tbody>\n",
       "    <tr>\n",
       "      <th>0</th>\n",
       "      <td>40.731108</td>\n",
       "      <td>-73.998620</td>\n",
       "    </tr>\n",
       "    <tr>\n",
       "      <th>1</th>\n",
       "      <td>40.659555</td>\n",
       "      <td>-73.774081</td>\n",
       "    </tr>\n",
       "    <tr>\n",
       "      <th>2</th>\n",
       "      <td>40.798112</td>\n",
       "      <td>-73.868870</td>\n",
       "    </tr>\n",
       "    <tr>\n",
       "      <th>3</th>\n",
       "      <td>40.765536</td>\n",
       "      <td>-73.972835</td>\n",
       "    </tr>\n",
       "    <tr>\n",
       "      <th>4</th>\n",
       "      <td>40.688588</td>\n",
       "      <td>-73.965528</td>\n",
       "    </tr>\n",
       "    <tr>\n",
       "      <th>5</th>\n",
       "      <td>40.700541</td>\n",
       "      <td>-74.201673</td>\n",
       "    </tr>\n",
       "  </tbody>\n",
       "</table>\n",
       "</div>"
      ],
      "text/plain": [
       "         Lat        Lon\n",
       "0  40.731108 -73.998620\n",
       "1  40.659555 -73.774081\n",
       "2  40.798112 -73.868870\n",
       "3  40.765536 -73.972835\n",
       "4  40.688588 -73.965528\n",
       "5  40.700541 -74.201673"
      ]
     },
     "execution_count": 36,
     "metadata": {},
     "output_type": "execute_result"
    }
   ],
   "source": [
    "clocation = pd.DataFrame(centroids, columns =['Lat', 'Lon'])\n",
    "clocation"
   ]
  },
  {
   "cell_type": "code",
   "execution_count": 37,
   "metadata": {
    "extensions": {
     "jupyter_dashboards": {
      "version": 1,
      "views": {
       "grid_default": {},
       "report_default": {
        "hidden": false
       }
      }
     }
    }
   },
   "outputs": [
    {
     "name": "stderr",
     "output_type": "stream",
     "text": [
      "C:\\Users\\deept\\Anaconda3\\lib\\site-packages\\ipykernel_launcher.py:1: MatplotlibDeprecationWarning: Support for uppercase single-letter colors is deprecated since Matplotlib 3.1 and will be removed in 3.3; please use lowercase instead.\n",
      "  \"\"\"Entry point for launching an IPython kernel.\n"
     ]
    },
    {
     "data": {
      "image/png": "[encoded data removed]",
      "text/plain": [
       "<Figure size 432x288 with 1 Axes>"
      ]
     },
     "metadata": {
      "needs_background": "light"
     },
     "output_type": "display_data"
    }
   ],
   "source": [
    "plt.scatter(clocation['Lat'], clocation['Lon'], marker = \"x\", color = 'R', s = 200)\n",
    "plt.show()"
   ]
  },
  {
   "cell_type": "code",
   "execution_count": 38,
   "metadata": {
    "extensions": {
     "jupyter_dashboards": {
      "version": 1,
      "views": {
       "grid_default": {},
       "report_default": {
        "hidden": false
       }
      }
     }
    }
   },
   "outputs": [
    {
     "data": {
      "text/html": [
       "<div>\n",
       "<style scoped>\n",
       "    .dataframe tbody tr th:only-of-type {\n",
       "        vertical-align: middle;\n",
       "    }\n",
       "\n",
       "    .dataframe tbody tr th {\n",
       "        vertical-align: top;\n",
       "    }\n",
       "\n",
       "    .dataframe thead th {\n",
       "        text-align: right;\n",
       "    }\n",
       "</style>\n",
       "<table border=\"1\" class=\"dataframe\">\n",
       "  <thead>\n",
       "    <tr style=\"text-align: right;\">\n",
       "      <th></th>\n",
       "      <th>longitutde</th>\n",
       "      <th>latitude</th>\n",
       "    </tr>\n",
       "  </thead>\n",
       "  <tbody>\n",
       "    <tr>\n",
       "      <th>0</th>\n",
       "      <td>-73.998620</td>\n",
       "      <td>40.731108</td>\n",
       "    </tr>\n",
       "    <tr>\n",
       "      <th>1</th>\n",
       "      <td>-73.774081</td>\n",
       "      <td>40.659555</td>\n",
       "    </tr>\n",
       "    <tr>\n",
       "      <th>2</th>\n",
       "      <td>-73.868870</td>\n",
       "      <td>40.798112</td>\n",
       "    </tr>\n",
       "    <tr>\n",
       "      <th>3</th>\n",
       "      <td>-73.972835</td>\n",
       "      <td>40.765536</td>\n",
       "    </tr>\n",
       "    <tr>\n",
       "      <th>4</th>\n",
       "      <td>-73.965528</td>\n",
       "      <td>40.688588</td>\n",
       "    </tr>\n",
       "  </tbody>\n",
       "</table>\n",
       "</div>"
      ],
      "text/plain": [
       "   longitutde   latitude\n",
       "0  -73.998620  40.731108\n",
       "1  -73.774081  40.659555\n",
       "2  -73.868870  40.798112\n",
       "3  -73.972835  40.765536\n",
       "4  -73.965528  40.688588"
      ]
     },
     "execution_count": 38,
     "metadata": {},
     "output_type": "execute_result"
    }
   ],
   "source": [
    "import pandas as pd #importing the Pandas Library as 'pd'\n",
    "from keplergl import KeplerGl #importing KeplerGl\n",
    "import geopandas as gpd #importing geopandas as 'gpd'\n",
    "#Pandas in action below\n",
    "df = pd.read_csv('kmean-apr14-loc.csv')#Reading the active construction data set into pandas for processing\n",
    "df.head()#Checking to see if data was properly imported!"
   ]
  },
  {
   "cell_type": "code",
   "execution_count": 1,
   "metadata": {
    "extensions": {
     "jupyter_dashboards": {
      "version": 1,
      "views": {
       "grid_default": {},
       "report_default": {
        "hidden": false
       }
      }
     }
    }
   },
   "outputs": [
    {
     "data": {
      "text/html": [
       "<div>\n",
       "<style scoped>\n",
       "    .dataframe tbody tr th:only-of-type {\n",
       "        vertical-align: middle;\n",
       "    }\n",
       "\n",
       "    .dataframe tbody tr th {\n",
       "        vertical-align: top;\n",
       "    }\n",
       "\n",
       "    .dataframe thead th {\n",
       "        text-align: right;\n",
       "    }\n",
       "</style>\n",
       "<table border=\"1\" class=\"dataframe\">\n",
       "  <thead>\n",
       "    <tr style=\"text-align: right;\">\n",
       "      <th></th>\n",
       "      <th>longitutde</th>\n",
       "      <th>latitude</th>\n",
       "    </tr>\n",
       "  </thead>\n",
       "  <tbody>\n",
       "    <tr>\n",
       "      <th>0</th>\n",
       "      <td>-73.998620</td>\n",
       "      <td>40.731108</td>\n",
       "    </tr>\n",
       "    <tr>\n",
       "      <th>1</th>\n",
       "      <td>-73.774081</td>\n",
       "      <td>40.659555</td>\n",
       "    </tr>\n",
       "    <tr>\n",
       "      <th>2</th>\n",
       "      <td>-73.868870</td>\n",
       "      <td>40.798112</td>\n",
       "    </tr>\n",
       "    <tr>\n",
       "      <th>3</th>\n",
       "      <td>-73.972835</td>\n",
       "      <td>40.765536</td>\n",
       "    </tr>\n",
       "    <tr>\n",
       "      <th>4</th>\n",
       "      <td>-73.965528</td>\n",
       "      <td>40.688588</td>\n",
       "    </tr>\n",
       "  </tbody>\n",
       "</table>\n",
       "</div>"
      ],
      "text/plain": [
       "   longitutde   latitude\n",
       "0  -73.998620  40.731108\n",
       "1  -73.774081  40.659555\n",
       "2  -73.868870  40.798112\n",
       "3  -73.972835  40.765536\n",
       "4  -73.965528  40.688588"
      ]
     },
     "execution_count": 1,
     "metadata": {},
     "output_type": "execute_result"
    }
   ],
   "source": [
    "\n",
    "import pandas as pd #importing the Pandas Library as 'pd'\n",
    "from keplergl import KeplerGl #importing KeplerGl\n",
    "import geopandas as gpd #importing geopandas as 'gpd'\n",
    "#Pandas in action below\n",
    "df = pd.read_csv('kmean-apr14-loc.csv')#Reading the active construction data set into pandas for processing\n",
    "df.head()#Checking to see if data was properly imported!"
   ]
  },
  {
   "cell_type": "code",
   "execution_count": 2,
   "metadata": {
    "extensions": {
     "jupyter_dashboards": {
      "version": 1,
      "views": {
       "grid_default": {},
       "report_default": {
        "hidden": false
       }
      }
     }
    }
   },
   "outputs": [
    {
     "name": "stdout",
     "output_type": "stream",
     "text": [
      "User Guide: https://docs.kepler.gl/docs/keplergl-jupyter\n"
     ]
    },
    {
     "data": {
      "application/vnd.jupyter.widget-view+json": {
       "model_id": "3f3785e9626a451cad3ed4e14abbffd7",
       "version_major": 2,
       "version_minor": 0
      },
      "text/plain": [
       "KeplerGl(height=600)"
      ]
     },
     "metadata": {},
     "output_type": "display_data"
    }
   ],
   "source": [
    "#Create a basemap \n",
    "map = KeplerGl(height=600, width=800)\n",
    "map #show the map"
   ]
  },
  {
   "cell_type": "code",
   "execution_count": 3,
   "metadata": {
    "extensions": {
     "jupyter_dashboards": {
      "version": 1,
      "views": {
       "grid_default": {},
       "report_default": {
        "hidden": false
       }
      }
     }
    }
   },
   "outputs": [],
   "source": [
    "gdf = gpd.GeoDataFrame(df, geometry=gpd.points_from_xy(df.longitutde, df.latitude))"
   ]
  },
  {
   "cell_type": "code",
   "execution_count": 4,
   "metadata": {
    "extensions": {
     "jupyter_dashboards": {
      "version": 1,
      "views": {
       "grid_default": {},
       "report_default": {
        "hidden": false
       }
      }
     }
    }
   },
   "outputs": [],
   "source": [
    "map.add_data(data=gdf, name=\"kmean-apr14\") "
   ]
  },
  {
   "cell_type": "code",
   "execution_count": null,
   "metadata": {
    "extensions": {
     "jupyter_dashboards": {
      "version": 1,
      "views": {
       "grid_default": {},
       "report_default": {
        "hidden": false
       }
      }
     }
    }
   },
   "outputs": [],
   "source": []
  }
 ],
 "metadata": {
  "extensions": {
   "jupyter_dashboards": {
    "activeView": "report_default",
    "version": 1,
    "views": {
     "grid_default": {
      "cellMargin": 10,
      "defaultCellHeight": 20,
      "maxColumns": 12,
      "name": "grid",
      "type": "grid"
     },
     "report_default": {
      "name": "report",
      "type": "report"
     }
    }
   }
  },
  "kernelspec": {
   "display_name": "Python 3",
   "language": "python",
   "name": "python3"
  },
  "language_info": {
   "codemirror_mode": {
    "name": "ipython",
    "version": 3
   },
   "file_extension": ".py",
   "mimetype": "text/x-python",
   "name": "python",
   "nbconvert_exporter": "python",
   "pygments_lexer": "ipython3",
   "version": "3.7.3"
  },
  "widgets": {
   "application/vnd.jupyter.widget-state+json": {
    "state": {
     "3f3785e9626a451cad3ed4e14abbffd7": {
      "model_module": "keplergl-jupyter",
      "model_module_version": "^0.2.0",
      "model_name": "KeplerGlModal",
      "state": {
       "_model_module_version": "^0.2.0",
       "_view_module_version": "^0.2.0",
       "config": {
        "config": {
         "mapState": {
          "bearing": 0,
          "dragRotate": false,
          "isSplit": false,
          "latitude": 40.592547533791084,
          "longitude": -74.0486900596773,
          "pitch": 0,
          "zoom": 8.871733811944722
         },
         "mapStyle": {
          "mapStyles": {},
          "styleType": "dark",
          "threeDBuildingColor": [
           9.665468314072013,
           17.18305478057247,
           31.1442867897876
          ],
          "topLayerGroups": {},
          "visibleLayerGroups": {
           "3d building": false,
           "border": false,
           "building": true,
           "label": true,
           "land": true,
           "road": true,
           "water": true
          }
         },
         "visState": {
          "animationConfig": {
           "currentTime": null,
           "speed": 1
          },
          "filters": [],
          "interactionConfig": {
           "brush": {
            "enabled": false,
            "size": 0.5
           },
           "coordinate": {
            "enabled": false
           },
           "geocoder": {
            "enabled": false
           },
           "tooltip": {
            "enabled": true,
            "fieldsToShow": {
             "kmean-apr14": [
              "longitutde"
             ]
            }
           }
          },
          "layerBlending": "normal",
          "layers": [
           {
            "config": {
             "color": [
              18,
              147,
              154
             ],
             "columns": {
              "geojson": "geometry"
             },
             "dataId": "kmean-apr14",
             "hidden": false,
             "isVisible": true,
             "label": "kmean-apr14",
             "textLabel": [
              {
               "alignment": "center",
               "anchor": "start",
               "color": [
                255,
                255,
                255
               ],
               "field": null,
               "offset": [
                0,
                0
               ],
               "size": 18
              }
             ],
             "visConfig": {
              "colorRange": {
               "category": "Uber",
               "colors": [
                "#5A1846",
                "#900C3F",
                "#C70039",
                "#E3611C",
                "#F1920E",
                "#FFC300"
               ],
               "name": "Global Warming",
               "type": "sequential"
              },
              "elevationScale": 5,
              "enable3d": false,
              "filled": true,
              "heightRange": [
               0,
               500
              ],
              "opacity": 0.8,
              "radius": 10,
              "radiusRange": [
               0,
               50
              ],
              "sizeRange": [
               0,
               10
              ],
              "strokeColor": null,
              "strokeColorRange": {
               "category": "Uber",
               "colors": [
                "#5A1846",
                "#900C3F",
                "#C70039",
                "#E3611C",
                "#F1920E",
                "#FFC300"
               ],
               "name": "Global Warming",
               "type": "sequential"
              },
              "strokeOpacity": 0.8,
              "stroked": false,
              "thickness": 0.5,
              "wireframe": false
             }
            },
            "id": "up7mk87j",
            "type": "geojson",
            "visualChannels": {
             "colorField": null,
             "colorScale": "quantile",
             "heightField": null,
             "heightScale": "linear",
             "radiusField": null,
             "radiusScale": "linear",
             "sizeField": null,
             "sizeScale": "linear",
             "strokeColorField": null,
             "strokeColorScale": "quantile"
            }
           }
          ],
          "splitMaps": []
         }
        },
        "version": "v1"
       },
       "data": {
        "kmean-apr14": {
         "columns": [
          "longitutde",
          "latitude",
          "geometry"
         ],
         "data": [
          [
           -73.99861999999999,
           40.731108,
           "POINT (-73.9986199999999883 40.7311079999999990)"
          ],
          [
           -73.77408100000001,
           40.659555,
           "POINT (-73.7740810000000096 40.6595549999999974)"
          ],
          [
           -73.86887,
           40.798111999999996,
           "POINT (-73.8688700000000011 40.7981119999999962)"
          ],
          [
           -73.972835,
           40.765536,
           "POINT (-73.9728350000000034 40.7655359999999973)"
          ],
          [
           -73.965528,
           40.688588,
           "POINT (-73.9655280000000062 40.6885880000000029)"
          ],
          [
           -74.201673,
           40.700540999999994,
           "POINT (-74.2016729999999995 40.7005409999999941)"
          ]
         ],
         "index": [
          0,
          1,
          2,
          3,
          4,
          5
         ]
        }
       },
       "height": 600,
       "layout": "IPY_MODEL_8ca21ce4a22740d1a7572af1c1fb35cb",
       "value": "Hello World!"
      }
     },
     "8ca21ce4a22740d1a7572af1c1fb35cb": {
      "model_module": "@jupyter-widgets/base",
      "model_module_version": "1.2.0",
      "model_name": "LayoutModel",
      "state": {}
     }
    },
    "version_major": 2,
    "version_minor": 0
   }
  }
 },
 "nbformat": 4,
 "nbformat_minor": 4
}
