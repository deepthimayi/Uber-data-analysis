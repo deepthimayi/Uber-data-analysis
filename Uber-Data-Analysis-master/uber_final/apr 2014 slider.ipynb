{
 "cells": [
  {
   "cell_type": "code",
   "execution_count": 6,
   "metadata": {
    "extensions": {
     "jupyter_dashboards": {
      "version": 1,
      "views": {
       "grid_default": {},
       "report_default": {
        "hidden": false
       }
      }
     }
    }
   },
   "outputs": [
    {
     "name": "stdout",
     "output_type": "stream",
     "text": [
      "Populating the interactive namespace from numpy and matplotlib\n"
     ]
    }
   ],
   "source": [
    "%pylab inline\n",
    "import pandas\n",
    "import seaborn"
   ]
  },
  {
   "cell_type": "code",
   "execution_count": 7,
   "metadata": {
    "extensions": {
     "jupyter_dashboards": {
      "version": 1,
      "views": {
       "grid_default": {},
       "report_default": {
        "hidden": true
       }
      }
     }
    }
   },
   "outputs": [],
   "source": [
    "import ipywidgets as widgets\n",
    "from IPython.display import display\n",
    "import matplotlib.pyplot as plt\n",
    "import numpy as np\n",
    "\n",
    "%matplotlib nbagg"
   ]
  },
  {
   "cell_type": "markdown",
   "metadata": {
    "extensions": {
     "jupyter_dashboards": {
      "version": 1,
      "views": {
       "grid_default": {},
       "report_default": {
        "hidden": false
       }
      }
     }
    }
   },
   "source": [
    "$A = amplitude$\n",
    "\n",
    "$\\phi = phase$\n",
    "\n",
    "$\\nu = frequency$"
   ]
  },
  {
   "cell_type": "code",
   "execution_count": 8,
   "metadata": {
    "extensions": {
     "jupyter_dashboards": {
      "version": 1,
      "views": {
       "grid_default": {},
       "report_default": {
        "hidden": false
       }
      }
     }
    }
   },
   "outputs": [],
   "source": [
    "data = pandas.read_csv('uber-raw-data-apr14.csv')\n"
   ]
  },
  {
   "cell_type": "code",
   "execution_count": 9,
   "metadata": {
    "extensions": {
     "jupyter_dashboards": {
      "version": 1,
      "views": {
       "grid_default": {},
       "report_default": {
        "hidden": true
       }
      }
     }
    }
   },
   "outputs": [
    {
     "data": {
      "text/html": [
       "<div>\n",
       "<style scoped>\n",
       "    .dataframe tbody tr th:only-of-type {\n",
       "        vertical-align: middle;\n",
       "    }\n",
       "\n",
       "    .dataframe tbody tr th {\n",
       "        vertical-align: top;\n",
       "    }\n",
       "\n",
       "    .dataframe thead th {\n",
       "        text-align: right;\n",
       "    }\n",
       "</style>\n",
       "<table border=\"1\" class=\"dataframe\">\n",
       "  <thead>\n",
       "    <tr style=\"text-align: right;\">\n",
       "      <th></th>\n",
       "      <th>Date/Time</th>\n",
       "      <th>Lat</th>\n",
       "      <th>Lon</th>\n",
       "      <th>Base</th>\n",
       "    </tr>\n",
       "  </thead>\n",
       "  <tbody>\n",
       "    <tr>\n",
       "      <th>564511</th>\n",
       "      <td>4/30/2014 23:22:00</td>\n",
       "      <td>40.7640</td>\n",
       "      <td>-73.9744</td>\n",
       "      <td>B02764</td>\n",
       "    </tr>\n",
       "    <tr>\n",
       "      <th>564512</th>\n",
       "      <td>4/30/2014 23:26:00</td>\n",
       "      <td>40.7629</td>\n",
       "      <td>-73.9672</td>\n",
       "      <td>B02764</td>\n",
       "    </tr>\n",
       "    <tr>\n",
       "      <th>564513</th>\n",
       "      <td>4/30/2014 23:31:00</td>\n",
       "      <td>40.7443</td>\n",
       "      <td>-73.9889</td>\n",
       "      <td>B02764</td>\n",
       "    </tr>\n",
       "    <tr>\n",
       "      <th>564514</th>\n",
       "      <td>4/30/2014 23:32:00</td>\n",
       "      <td>40.6756</td>\n",
       "      <td>-73.9405</td>\n",
       "      <td>B02764</td>\n",
       "    </tr>\n",
       "    <tr>\n",
       "      <th>564515</th>\n",
       "      <td>4/30/2014 23:48:00</td>\n",
       "      <td>40.6880</td>\n",
       "      <td>-73.9608</td>\n",
       "      <td>B02764</td>\n",
       "    </tr>\n",
       "  </tbody>\n",
       "</table>\n",
       "</div>"
      ],
      "text/plain": [
       "                 Date/Time      Lat      Lon    Base\n",
       "564511  4/30/2014 23:22:00  40.7640 -73.9744  B02764\n",
       "564512  4/30/2014 23:26:00  40.7629 -73.9672  B02764\n",
       "564513  4/30/2014 23:31:00  40.7443 -73.9889  B02764\n",
       "564514  4/30/2014 23:32:00  40.6756 -73.9405  B02764\n",
       "564515  4/30/2014 23:48:00  40.6880 -73.9608  B02764"
      ]
     },
     "execution_count": 9,
     "metadata": {},
     "output_type": "execute_result"
    }
   ],
   "source": [
    "data.tail()\n"
   ]
  },
  {
   "cell_type": "code",
   "execution_count": 10,
   "metadata": {
    "extensions": {
     "jupyter_dashboards": {
      "version": 1,
      "views": {
       "grid_default": {},
       "report_default": {
        "hidden": false
       }
      }
     }
    }
   },
   "outputs": [],
   "source": [
    "data['Date/Time'] = data['Date/Time'].map(pandas.to_datetime)"
   ]
  },
  {
   "cell_type": "code",
   "execution_count": 11,
   "metadata": {
    "extensions": {
     "jupyter_dashboards": {
      "version": 1,
      "views": {
       "grid_default": {},
       "report_default": {
        "hidden": true
       }
      }
     }
    }
   },
   "outputs": [
    {
     "data": {
      "text/html": [
       "<div>\n",
       "<style scoped>\n",
       "    .dataframe tbody tr th:only-of-type {\n",
       "        vertical-align: middle;\n",
       "    }\n",
       "\n",
       "    .dataframe tbody tr th {\n",
       "        vertical-align: top;\n",
       "    }\n",
       "\n",
       "    .dataframe thead th {\n",
       "        text-align: right;\n",
       "    }\n",
       "</style>\n",
       "<table border=\"1\" class=\"dataframe\">\n",
       "  <thead>\n",
       "    <tr style=\"text-align: right;\">\n",
       "      <th></th>\n",
       "      <th>Date/Time</th>\n",
       "      <th>Lat</th>\n",
       "      <th>Lon</th>\n",
       "      <th>Base</th>\n",
       "    </tr>\n",
       "  </thead>\n",
       "  <tbody>\n",
       "    <tr>\n",
       "      <th>564511</th>\n",
       "      <td>2014-04-30 23:22:00</td>\n",
       "      <td>40.7640</td>\n",
       "      <td>-73.9744</td>\n",
       "      <td>B02764</td>\n",
       "    </tr>\n",
       "    <tr>\n",
       "      <th>564512</th>\n",
       "      <td>2014-04-30 23:26:00</td>\n",
       "      <td>40.7629</td>\n",
       "      <td>-73.9672</td>\n",
       "      <td>B02764</td>\n",
       "    </tr>\n",
       "    <tr>\n",
       "      <th>564513</th>\n",
       "      <td>2014-04-30 23:31:00</td>\n",
       "      <td>40.7443</td>\n",
       "      <td>-73.9889</td>\n",
       "      <td>B02764</td>\n",
       "    </tr>\n",
       "    <tr>\n",
       "      <th>564514</th>\n",
       "      <td>2014-04-30 23:32:00</td>\n",
       "      <td>40.6756</td>\n",
       "      <td>-73.9405</td>\n",
       "      <td>B02764</td>\n",
       "    </tr>\n",
       "    <tr>\n",
       "      <th>564515</th>\n",
       "      <td>2014-04-30 23:48:00</td>\n",
       "      <td>40.6880</td>\n",
       "      <td>-73.9608</td>\n",
       "      <td>B02764</td>\n",
       "    </tr>\n",
       "  </tbody>\n",
       "</table>\n",
       "</div>"
      ],
      "text/plain": [
       "                 Date/Time      Lat      Lon    Base\n",
       "564511 2014-04-30 23:22:00  40.7640 -73.9744  B02764\n",
       "564512 2014-04-30 23:26:00  40.7629 -73.9672  B02764\n",
       "564513 2014-04-30 23:31:00  40.7443 -73.9889  B02764\n",
       "564514 2014-04-30 23:32:00  40.6756 -73.9405  B02764\n",
       "564515 2014-04-30 23:48:00  40.6880 -73.9608  B02764"
      ]
     },
     "execution_count": 11,
     "metadata": {},
     "output_type": "execute_result"
    }
   ],
   "source": [
    "data.tail()"
   ]
  },
  {
   "cell_type": "code",
   "execution_count": 12,
   "metadata": {
    "extensions": {
     "jupyter_dashboards": {
      "version": 1,
      "views": {
       "grid_default": {},
       "report_default": {
        "hidden": false
       }
      }
     }
    }
   },
   "outputs": [],
   "source": [
    "def get_dom(dt):\n",
    "    return dt.day\n",
    "\n",
    "data['dom'] = data['Date/Time'].map(get_dom)"
   ]
  },
  {
   "cell_type": "code",
   "execution_count": 13,
   "metadata": {
    "extensions": {
     "jupyter_dashboards": {
      "version": 1,
      "views": {
       "grid_default": {},
       "report_default": {
        "hidden": true
       }
      }
     }
    }
   },
   "outputs": [
    {
     "data": {
      "text/html": [
       "<div>\n",
       "<style scoped>\n",
       "    .dataframe tbody tr th:only-of-type {\n",
       "        vertical-align: middle;\n",
       "    }\n",
       "\n",
       "    .dataframe tbody tr th {\n",
       "        vertical-align: top;\n",
       "    }\n",
       "\n",
       "    .dataframe thead th {\n",
       "        text-align: right;\n",
       "    }\n",
       "</style>\n",
       "<table border=\"1\" class=\"dataframe\">\n",
       "  <thead>\n",
       "    <tr style=\"text-align: right;\">\n",
       "      <th></th>\n",
       "      <th>Date/Time</th>\n",
       "      <th>Lat</th>\n",
       "      <th>Lon</th>\n",
       "      <th>Base</th>\n",
       "      <th>dom</th>\n",
       "    </tr>\n",
       "  </thead>\n",
       "  <tbody>\n",
       "    <tr>\n",
       "      <th>564511</th>\n",
       "      <td>2014-04-30 23:22:00</td>\n",
       "      <td>40.7640</td>\n",
       "      <td>-73.9744</td>\n",
       "      <td>B02764</td>\n",
       "      <td>30</td>\n",
       "    </tr>\n",
       "    <tr>\n",
       "      <th>564512</th>\n",
       "      <td>2014-04-30 23:26:00</td>\n",
       "      <td>40.7629</td>\n",
       "      <td>-73.9672</td>\n",
       "      <td>B02764</td>\n",
       "      <td>30</td>\n",
       "    </tr>\n",
       "    <tr>\n",
       "      <th>564513</th>\n",
       "      <td>2014-04-30 23:31:00</td>\n",
       "      <td>40.7443</td>\n",
       "      <td>-73.9889</td>\n",
       "      <td>B02764</td>\n",
       "      <td>30</td>\n",
       "    </tr>\n",
       "    <tr>\n",
       "      <th>564514</th>\n",
       "      <td>2014-04-30 23:32:00</td>\n",
       "      <td>40.6756</td>\n",
       "      <td>-73.9405</td>\n",
       "      <td>B02764</td>\n",
       "      <td>30</td>\n",
       "    </tr>\n",
       "    <tr>\n",
       "      <th>564515</th>\n",
       "      <td>2014-04-30 23:48:00</td>\n",
       "      <td>40.6880</td>\n",
       "      <td>-73.9608</td>\n",
       "      <td>B02764</td>\n",
       "      <td>30</td>\n",
       "    </tr>\n",
       "  </tbody>\n",
       "</table>\n",
       "</div>"
      ],
      "text/plain": [
       "                 Date/Time      Lat      Lon    Base  dom\n",
       "564511 2014-04-30 23:22:00  40.7640 -73.9744  B02764   30\n",
       "564512 2014-04-30 23:26:00  40.7629 -73.9672  B02764   30\n",
       "564513 2014-04-30 23:31:00  40.7443 -73.9889  B02764   30\n",
       "564514 2014-04-30 23:32:00  40.6756 -73.9405  B02764   30\n",
       "564515 2014-04-30 23:48:00  40.6880 -73.9608  B02764   30"
      ]
     },
     "execution_count": 13,
     "metadata": {},
     "output_type": "execute_result"
    }
   ],
   "source": [
    "data.tail()"
   ]
  },
  {
   "cell_type": "code",
   "execution_count": 14,
   "metadata": {
    "extensions": {
     "jupyter_dashboards": {
      "version": 1,
      "views": {
       "grid_default": {},
       "report_default": {
        "hidden": true
       }
      }
     }
    }
   },
   "outputs": [
    {
     "data": {
      "text/html": [
       "<div>\n",
       "<style scoped>\n",
       "    .dataframe tbody tr th:only-of-type {\n",
       "        vertical-align: middle;\n",
       "    }\n",
       "\n",
       "    .dataframe tbody tr th {\n",
       "        vertical-align: top;\n",
       "    }\n",
       "\n",
       "    .dataframe thead th {\n",
       "        text-align: right;\n",
       "    }\n",
       "</style>\n",
       "<table border=\"1\" class=\"dataframe\">\n",
       "  <thead>\n",
       "    <tr style=\"text-align: right;\">\n",
       "      <th></th>\n",
       "      <th>Date/Time</th>\n",
       "      <th>Lat</th>\n",
       "      <th>Lon</th>\n",
       "      <th>Base</th>\n",
       "      <th>dom</th>\n",
       "      <th>weekday</th>\n",
       "      <th>hour</th>\n",
       "    </tr>\n",
       "  </thead>\n",
       "  <tbody>\n",
       "    <tr>\n",
       "      <th>564511</th>\n",
       "      <td>2014-04-30 23:22:00</td>\n",
       "      <td>40.7640</td>\n",
       "      <td>-73.9744</td>\n",
       "      <td>B02764</td>\n",
       "      <td>30</td>\n",
       "      <td>2</td>\n",
       "      <td>23</td>\n",
       "    </tr>\n",
       "    <tr>\n",
       "      <th>564512</th>\n",
       "      <td>2014-04-30 23:26:00</td>\n",
       "      <td>40.7629</td>\n",
       "      <td>-73.9672</td>\n",
       "      <td>B02764</td>\n",
       "      <td>30</td>\n",
       "      <td>2</td>\n",
       "      <td>23</td>\n",
       "    </tr>\n",
       "    <tr>\n",
       "      <th>564513</th>\n",
       "      <td>2014-04-30 23:31:00</td>\n",
       "      <td>40.7443</td>\n",
       "      <td>-73.9889</td>\n",
       "      <td>B02764</td>\n",
       "      <td>30</td>\n",
       "      <td>2</td>\n",
       "      <td>23</td>\n",
       "    </tr>\n",
       "    <tr>\n",
       "      <th>564514</th>\n",
       "      <td>2014-04-30 23:32:00</td>\n",
       "      <td>40.6756</td>\n",
       "      <td>-73.9405</td>\n",
       "      <td>B02764</td>\n",
       "      <td>30</td>\n",
       "      <td>2</td>\n",
       "      <td>23</td>\n",
       "    </tr>\n",
       "    <tr>\n",
       "      <th>564515</th>\n",
       "      <td>2014-04-30 23:48:00</td>\n",
       "      <td>40.6880</td>\n",
       "      <td>-73.9608</td>\n",
       "      <td>B02764</td>\n",
       "      <td>30</td>\n",
       "      <td>2</td>\n",
       "      <td>23</td>\n",
       "    </tr>\n",
       "  </tbody>\n",
       "</table>\n",
       "</div>"
      ],
      "text/plain": [
       "                 Date/Time      Lat      Lon    Base  dom  weekday  hour\n",
       "564511 2014-04-30 23:22:00  40.7640 -73.9744  B02764   30        2    23\n",
       "564512 2014-04-30 23:26:00  40.7629 -73.9672  B02764   30        2    23\n",
       "564513 2014-04-30 23:31:00  40.7443 -73.9889  B02764   30        2    23\n",
       "564514 2014-04-30 23:32:00  40.6756 -73.9405  B02764   30        2    23\n",
       "564515 2014-04-30 23:48:00  40.6880 -73.9608  B02764   30        2    23"
      ]
     },
     "execution_count": 14,
     "metadata": {},
     "output_type": "execute_result"
    }
   ],
   "source": [
    "def get_weekday(dt):\n",
    "    return dt.weekday()\n",
    "\n",
    "data['weekday'] = data['Date/Time'].map(get_weekday)\n",
    "\n",
    "def get_hour(dt):\n",
    "    return dt.hour\n",
    "\n",
    "data['hour'] = data['Date/Time'].map(get_hour)\n",
    "\n",
    "data.tail()"
   ]
  },
  {
   "cell_type": "code",
   "execution_count": 15,
   "metadata": {
    "extensions": {
     "jupyter_dashboards": {
      "version": 1,
      "views": {
       "grid_default": {},
       "report_default": {
        "hidden": false
       }
      }
     }
    }
   },
   "outputs": [],
   "source": [
    "def timezone(x):\n",
    "    if x>=datetime.time(4, 0, 1) and x <=datetime.time(10, 0, 0):\n",
    "        return 'morning'\n",
    "    elif x>=datetime.time(10, 0, 1) and x <=datetime.time(16, 0, 0):\n",
    "        return 'midday'\n",
    "    elif x>=datetime.time(16, 0, 1) and x <=datetime.time(22, 0, 0):\n",
    "        return 'evening'\n",
    "    elif x>=datetime.time(22, 0, 1) or x <=datetime.time(4, 0, 0):\n",
    "        return 'late night'\n",
    "    \n",
    "#data['Date/Time']=data['Date/Time'].apply(lambda x :timezone(datetime.datetime.strptime(str(x), \"%Y-%m-%d %H:%M:%S\").time()) )"
   ]
  },
  {
   "cell_type": "code",
   "execution_count": 21,
   "metadata": {
    "extensions": {
     "jupyter_dashboards": {
      "version": 1,
      "views": {
       "grid_default": {},
       "report_default": {
        "hidden": true
       }
      }
     }
    }
   },
   "outputs": [],
   "source": [
    "from bqplot import pyplot as plt"
   ]
  },
  {
   "cell_type": "code",
   "execution_count": 19,
   "metadata": {
    "extensions": {
     "jupyter_dashboards": {
      "version": 1,
      "views": {
       "grid_default": {},
       "report_default": {
        "hidden": false
       }
      }
     }
    },
    "scrolled": true
   },
   "outputs": [
    {
     "ename": "AttributeError",
     "evalue": "module 'bqplot.pyplot' has no attribute 'subplots'",
     "output_type": "error",
     "traceback": [
      "\u001b[1;31m---------------------------------------------------------------------------\u001b[0m",
      "\u001b[1;31mAttributeError\u001b[0m                            Traceback (most recent call last)",
      "\u001b[1;32m<ipython-input-19-7422cdbbc3ff>\u001b[0m in \u001b[0;36m<module>\u001b[1;34m\u001b[0m\n\u001b[1;32m----> 1\u001b[1;33m \u001b[0mfigure\u001b[0m\u001b[1;33m,\u001b[0m\u001b[0max\u001b[0m\u001b[1;33m=\u001b[0m\u001b[0mplt\u001b[0m\u001b[1;33m.\u001b[0m\u001b[0msubplots\u001b[0m\u001b[1;33m(\u001b[0m\u001b[0mncols\u001b[0m\u001b[1;33m=\u001b[0m\u001b[1;36m2\u001b[0m\u001b[1;33m,\u001b[0m\u001b[0mfigsize\u001b[0m\u001b[1;33m=\u001b[0m\u001b[1;33m(\u001b[0m\u001b[1;36m10\u001b[0m\u001b[1;33m,\u001b[0m\u001b[1;36m5\u001b[0m\u001b[1;33m)\u001b[0m\u001b[1;33m)\u001b[0m\u001b[1;33m\u001b[0m\u001b[1;33m\u001b[0m\u001b[0m\n\u001b[0m\u001b[0;32m      2\u001b[0m \u001b[0mseaborn\u001b[0m\u001b[1;33m.\u001b[0m\u001b[0mcountplot\u001b[0m\u001b[1;33m(\u001b[0m\u001b[0mx\u001b[0m\u001b[1;33m=\u001b[0m\u001b[1;34m'Date/Time'\u001b[0m\u001b[1;33m,\u001b[0m\u001b[0mdata\u001b[0m\u001b[1;33m=\u001b[0m\u001b[0mdata\u001b[0m\u001b[1;33m,\u001b[0m\u001b[0max\u001b[0m\u001b[1;33m=\u001b[0m\u001b[0max\u001b[0m\u001b[1;33m[\u001b[0m\u001b[1;36m0\u001b[0m\u001b[1;33m]\u001b[0m\u001b[1;33m)\u001b[0m\u001b[1;33m\u001b[0m\u001b[1;33m\u001b[0m\u001b[0m\n\u001b[0;32m      3\u001b[0m \u001b[0max\u001b[0m\u001b[1;33m[\u001b[0m\u001b[1;36m0\u001b[0m\u001b[1;33m]\u001b[0m\u001b[1;33m.\u001b[0m\u001b[0mset_title\u001b[0m\u001b[1;33m(\u001b[0m\u001b[1;34m'The distribution of number of pickups on each part of the day'\u001b[0m\u001b[1;33m)\u001b[0m\u001b[1;33m\u001b[0m\u001b[1;33m\u001b[0m\u001b[0m\n",
      "\u001b[1;31mAttributeError\u001b[0m: module 'bqplot.pyplot' has no attribute 'subplots'"
     ]
    }
   ],
   "source": [
    "figure,ax=plt.subplots(ncols=2,figsize=(10,5))\n",
    "seaborn.countplot(x='Date/Time',data=data,ax=ax[0])\n",
    "ax[0].set_title('The distribution of number of pickups on each part of the day')"
   ]
  },
  {
   "cell_type": "code",
   "execution_count": 26,
   "metadata": {
    "extensions": {
     "jupyter_dashboards": {
      "version": 1,
      "views": {
       "grid_default": {},
       "report_default": {
        "hidden": false
       }
      }
     }
    }
   },
   "outputs": [
    {
     "ename": "TypeError",
     "evalue": "'Hist' object is not callable",
     "output_type": "error",
     "traceback": [
      "\u001b[1;31m---------------------------------------------------------------------------\u001b[0m",
      "\u001b[1;31mTypeError\u001b[0m                                 Traceback (most recent call last)",
      "\u001b[1;32m<ipython-input-26-6ac22314aa15>\u001b[0m in \u001b[0;36m<module>\u001b[1;34m\u001b[0m\n\u001b[1;32m----> 1\u001b[1;33m \u001b[0mhist\u001b[0m\u001b[1;33m=\u001b[0m\u001b[0mhist\u001b[0m\u001b[1;33m(\u001b[0m\u001b[0mdata\u001b[0m\u001b[1;33m.\u001b[0m\u001b[0mdom\u001b[0m\u001b[1;33m,\u001b[0m \u001b[0mbins\u001b[0m\u001b[1;33m=\u001b[0m\u001b[1;36m30\u001b[0m\u001b[1;33m,\u001b[0m \u001b[0mrwidth\u001b[0m\u001b[1;33m=\u001b[0m\u001b[1;36m0.8\u001b[0m\u001b[1;33m,\u001b[0m \u001b[0mrange\u001b[0m\u001b[1;33m=\u001b[0m\u001b[1;33m(\u001b[0m\u001b[1;36m0.5\u001b[0m\u001b[1;33m,\u001b[0m \u001b[1;36m30.5\u001b[0m\u001b[1;33m)\u001b[0m\u001b[1;33m)\u001b[0m\u001b[1;33m\u001b[0m\u001b[1;33m\u001b[0m\u001b[0m\n\u001b[0m\u001b[0;32m      2\u001b[0m \u001b[0mxlabel\u001b[0m\u001b[1;33m(\u001b[0m\u001b[1;34m'date of the month'\u001b[0m\u001b[1;33m)\u001b[0m\u001b[1;33m\u001b[0m\u001b[1;33m\u001b[0m\u001b[0m\n\u001b[0;32m      3\u001b[0m \u001b[0mylabel\u001b[0m\u001b[1;33m(\u001b[0m\u001b[1;34m'frequency'\u001b[0m\u001b[1;33m)\u001b[0m\u001b[1;33m\u001b[0m\u001b[1;33m\u001b[0m\u001b[0m\n\u001b[0;32m      4\u001b[0m \u001b[0mtitle\u001b[0m\u001b[1;33m(\u001b[0m\u001b[1;34m'Frequency by Date of month  - uber - apr 2014'\u001b[0m\u001b[1;33m)\u001b[0m\u001b[1;33m\u001b[0m\u001b[1;33m\u001b[0m\u001b[0m\n",
      "\u001b[1;31mTypeError\u001b[0m: 'Hist' object is not callable"
     ]
    }
   ],
   "source": [
    "hist=hist(data.dom, bins=30, rwidth=0.8, range=(0.5, 30.5))\n",
    "xlabel('date of the month')\n",
    "ylabel('frequency')\n",
    "title('Frequency by Date of month  - uber - apr 2014')"
   ]
  },
  {
   "cell_type": "code",
   "execution_count": 22,
   "metadata": {
    "extensions": {
     "jupyter_dashboards": {
      "version": 1,
      "views": {
       "grid_default": {},
       "report_default": {
        "hidden": false
       }
      }
     }
    }
   },
   "outputs": [
    {
     "data": {
      "application/javascript": [
       "/* Put everything inside the global mpl namespace */\n",
       "window.mpl = {};\n",
       "\n",
       "\n",
       "mpl.get_websocket_type = function() {\n",
       "    if (typeof(WebSocket) !== 'undefined') {\n",
       "        return WebSocket;\n",
       "    } else if (typeof(MozWebSocket) !== 'undefined') {\n",
       "        return MozWebSocket;\n",
       "    } else {\n",
       "        alert('Your browser does not have WebSocket support. ' +\n",
       "              'Please try Chrome, Safari or Firefox ≥ 6. ' +\n",
       "              'Firefox 4 and 5 are also supported but you ' +\n",
       "              'have to enable WebSockets in about:config.');\n",
       "    };\n",
       "}\n",
       "\n",
       "mpl.figure = function(figure_id, websocket, ondownload, parent_element) {\n",
       "    this.id = figure_id;\n",
       "\n",
       "    this.ws = websocket;\n",
       "\n",
       "    this.supports_binary = (this.ws.binaryType != undefined);\n",
       "\n",
       "    if (!this.supports_binary) {\n",
       "        var warnings = document.getElementById(\"mpl-warnings\");\n",
       "        if (warnings) {\n",
       "            warnings.style.display = 'block';\n",
       "            warnings.textContent = (\n",
       "                \"This browser does not support binary websocket messages. \" +\n",
       "                    \"Performance may be slow.\");\n",
       "        }\n",
       "    }\n",
       "\n",
       "    this.imageObj = new Image();\n",
       "\n",
       "    this.context = undefined;\n",
       "    this.message = undefined;\n",
       "    this.canvas = undefined;\n",
       "    this.rubberband_canvas = undefined;\n",
       "    this.rubberband_context = undefined;\n",
       "    this.format_dropdown = undefined;\n",
       "\n",
       "    this.image_mode = 'full';\n",
       "\n",
       "    this.root = $('<div/>');\n",
       "    this._root_extra_style(this.root)\n",
       "    this.root.attr('style', 'display: inline-block');\n",
       "\n",
       "    $(parent_element).append(this.root);\n",
       "\n",
       "    this._init_header(this);\n",
       "    this._init_canvas(this);\n",
       "    this._init_toolbar(this);\n",
       "\n",
       "    var fig = this;\n",
       "\n",
       "    this.waiting = false;\n",
       "\n",
       "    this.ws.onopen =  function () {\n",
       "            fig.send_message(\"supports_binary\", {value: fig.supports_binary});\n",
       "            fig.send_message(\"send_image_mode\", {});\n",
       "            if (mpl.ratio != 1) {\n",
       "                fig.send_message(\"set_dpi_ratio\", {'dpi_ratio': mpl.ratio});\n",
       "            }\n",
       "            fig.send_message(\"refresh\", {});\n",
       "        }\n",
       "\n",
       "    this.imageObj.onload = function() {\n",
       "            if (fig.image_mode == 'full') {\n",
       "                // Full images could contain transparency (where diff images\n",
       "                // almost always do), so we need to clear the canvas so that\n",
       "                // there is no ghosting.\n",
       "                fig.context.clearRect(0, 0, fig.canvas.width, fig.canvas.height);\n",
       "            }\n",
       "            fig.context.drawImage(fig.imageObj, 0, 0);\n",
       "        };\n",
       "\n",
       "    this.imageObj.onunload = function() {\n",
       "        fig.ws.close();\n",
       "    }\n",
       "\n",
       "    this.ws.onmessage = this._make_on_message_function(this);\n",
       "\n",
       "    this.ondownload = ondownload;\n",
       "}\n",
       "\n",
       "mpl.figure.prototype._init_header = function() {\n",
       "    var titlebar = $(\n",
       "        '<div class=\"ui-dialog-titlebar ui-widget-header ui-corner-all ' +\n",
       "        'ui-helper-clearfix\"/>');\n",
       "    var titletext = $(\n",
       "        '<div class=\"ui-dialog-title\" style=\"width: 100%; ' +\n",
       "        'text-align: center; padding: 3px;\"/>');\n",
       "    titlebar.append(titletext)\n",
       "    this.root.append(titlebar);\n",
       "    this.header = titletext[0];\n",
       "}\n",
       "\n",
       "\n",
       "\n",
       "mpl.figure.prototype._canvas_extra_style = function(canvas_div) {\n",
       "\n",
       "}\n",
       "\n",
       "\n",
       "mpl.figure.prototype._root_extra_style = function(canvas_div) {\n",
       "\n",
       "}\n",
       "\n",
       "mpl.figure.prototype._init_canvas = function() {\n",
       "    var fig = this;\n",
       "\n",
       "    var canvas_div = $('<div/>');\n",
       "\n",
       "    canvas_div.attr('style', 'position: relative; clear: both; outline: 0');\n",
       "\n",
       "    function canvas_keyboard_event(event) {\n",
       "        return fig.key_event(event, event['data']);\n",
       "    }\n",
       "\n",
       "    canvas_div.keydown('key_press', canvas_keyboard_event);\n",
       "    canvas_div.keyup('key_release', canvas_keyboard_event);\n",
       "    this.canvas_div = canvas_div\n",
       "    this._canvas_extra_style(canvas_div)\n",
       "    this.root.append(canvas_div);\n",
       "\n",
       "    var canvas = $('<canvas/>');\n",
       "    canvas.addClass('mpl-canvas');\n",
       "    canvas.attr('style', \"left: 0; top: 0; z-index: 0; outline: 0\")\n",
       "\n",
       "    this.canvas = canvas[0];\n",
       "    this.context = canvas[0].getContext(\"2d\");\n",
       "\n",
       "    var backingStore = this.context.backingStorePixelRatio ||\n",
       "\tthis.context.webkitBackingStorePixelRatio ||\n",
       "\tthis.context.mozBackingStorePixelRatio ||\n",
       "\tthis.context.msBackingStorePixelRatio ||\n",
       "\tthis.context.oBackingStorePixelRatio ||\n",
       "\tthis.context.backingStorePixelRatio || 1;\n",
       "\n",
       "    mpl.ratio = (window.devicePixelRatio || 1) / backingStore;\n",
       "\n",
       "    var rubberband = $('<canvas/>');\n",
       "    rubberband.attr('style', \"position: absolute; left: 0; top: 0; z-index: 1;\")\n",
       "\n",
       "    var pass_mouse_events = true;\n",
       "\n",
       "    canvas_div.resizable({\n",
       "        start: function(event, ui) {\n",
       "            pass_mouse_events = false;\n",
       "        },\n",
       "        resize: function(event, ui) {\n",
       "            fig.request_resize(ui.size.width, ui.size.height);\n",
       "        },\n",
       "        stop: function(event, ui) {\n",
       "            pass_mouse_events = true;\n",
       "            fig.request_resize(ui.size.width, ui.size.height);\n",
       "        },\n",
       "    });\n",
       "\n",
       "    function mouse_event_fn(event) {\n",
       "        if (pass_mouse_events)\n",
       "            return fig.mouse_event(event, event['data']);\n",
       "    }\n",
       "\n",
       "    rubberband.mousedown('button_press', mouse_event_fn);\n",
       "    rubberband.mouseup('button_release', mouse_event_fn);\n",
       "    // Throttle sequential mouse events to 1 every 20ms.\n",
       "    rubberband.mousemove('motion_notify', mouse_event_fn);\n",
       "\n",
       "    rubberband.mouseenter('figure_enter', mouse_event_fn);\n",
       "    rubberband.mouseleave('figure_leave', mouse_event_fn);\n",
       "\n",
       "    canvas_div.on(\"wheel\", function (event) {\n",
       "        event = event.originalEvent;\n",
       "        event['data'] = 'scroll'\n",
       "        if (event.deltaY < 0) {\n",
       "            event.step = 1;\n",
       "        } else {\n",
       "            event.step = -1;\n",
       "        }\n",
       "        mouse_event_fn(event);\n",
       "    });\n",
       "\n",
       "    canvas_div.append(canvas);\n",
       "    canvas_div.append(rubberband);\n",
       "\n",
       "    this.rubberband = rubberband;\n",
       "    this.rubberband_canvas = rubberband[0];\n",
       "    this.rubberband_context = rubberband[0].getContext(\"2d\");\n",
       "    this.rubberband_context.strokeStyle = \"#000000\";\n",
       "\n",
       "    this._resize_canvas = function(width, height) {\n",
       "        // Keep the size of the canvas, canvas container, and rubber band\n",
       "        // canvas in synch.\n",
       "        canvas_div.css('width', width)\n",
       "        canvas_div.css('height', height)\n",
       "\n",
       "        canvas.attr('width', width * mpl.ratio);\n",
       "        canvas.attr('height', height * mpl.ratio);\n",
       "        canvas.attr('style', 'width: ' + width + 'px; height: ' + height + 'px;');\n",
       "\n",
       "        rubberband.attr('width', width);\n",
       "        rubberband.attr('height', height);\n",
       "    }\n",
       "\n",
       "    // Set the figure to an initial 600x600px, this will subsequently be updated\n",
       "    // upon first draw.\n",
       "    this._resize_canvas(600, 600);\n",
       "\n",
       "    // Disable right mouse context menu.\n",
       "    $(this.rubberband_canvas).bind(\"contextmenu\",function(e){\n",
       "        return false;\n",
       "    });\n",
       "\n",
       "    function set_focus () {\n",
       "        canvas.focus();\n",
       "        canvas_div.focus();\n",
       "    }\n",
       "\n",
       "    window.setTimeout(set_focus, 100);\n",
       "}\n",
       "\n",
       "mpl.figure.prototype._init_toolbar = function() {\n",
       "    var fig = this;\n",
       "\n",
       "    var nav_element = $('<div/>');\n",
       "    nav_element.attr('style', 'width: 100%');\n",
       "    this.root.append(nav_element);\n",
       "\n",
       "    // Define a callback function for later on.\n",
       "    function toolbar_event(event) {\n",
       "        return fig.toolbar_button_onclick(event['data']);\n",
       "    }\n",
       "    function toolbar_mouse_event(event) {\n",
       "        return fig.toolbar_button_onmouseover(event['data']);\n",
       "    }\n",
       "\n",
       "    for(var toolbar_ind in mpl.toolbar_items) {\n",
       "        var name = mpl.toolbar_items[toolbar_ind][0];\n",
       "        var tooltip = mpl.toolbar_items[toolbar_ind][1];\n",
       "        var image = mpl.toolbar_items[toolbar_ind][2];\n",
       "        var method_name = mpl.toolbar_items[toolbar_ind][3];\n",
       "\n",
       "        if (!name) {\n",
       "            // put a spacer in here.\n",
       "            continue;\n",
       "        }\n",
       "        var button = $('<button/>');\n",
       "        button.addClass('ui-button ui-widget ui-state-default ui-corner-all ' +\n",
       "                        'ui-button-icon-only');\n",
       "        button.attr('role', 'button');\n",
       "        button.attr('aria-disabled', 'false');\n",
       "        button.click(method_name, toolbar_event);\n",
       "        button.mouseover(tooltip, toolbar_mouse_event);\n",
       "\n",
       "        var icon_img = $('<span/>');\n",
       "        icon_img.addClass('ui-button-icon-primary ui-icon');\n",
       "        icon_img.addClass(image);\n",
       "        icon_img.addClass('ui-corner-all');\n",
       "\n",
       "        var tooltip_span = $('<span/>');\n",
       "        tooltip_span.addClass('ui-button-text');\n",
       "        tooltip_span.html(tooltip);\n",
       "\n",
       "        button.append(icon_img);\n",
       "        button.append(tooltip_span);\n",
       "\n",
       "        nav_element.append(button);\n",
       "    }\n",
       "\n",
       "    var fmt_picker_span = $('<span/>');\n",
       "\n",
       "    var fmt_picker = $('<select/>');\n",
       "    fmt_picker.addClass('mpl-toolbar-option ui-widget ui-widget-content');\n",
       "    fmt_picker_span.append(fmt_picker);\n",
       "    nav_element.append(fmt_picker_span);\n",
       "    this.format_dropdown = fmt_picker[0];\n",
       "\n",
       "    for (var ind in mpl.extensions) {\n",
       "        var fmt = mpl.extensions[ind];\n",
       "        var option = $(\n",
       "            '<option/>', {selected: fmt === mpl.default_extension}).html(fmt);\n",
       "        fmt_picker.append(option);\n",
       "    }\n",
       "\n",
       "    // Add hover states to the ui-buttons\n",
       "    $( \".ui-button\" ).hover(\n",
       "        function() { $(this).addClass(\"ui-state-hover\");},\n",
       "        function() { $(this).removeClass(\"ui-state-hover\");}\n",
       "    );\n",
       "\n",
       "    var status_bar = $('<span class=\"mpl-message\"/>');\n",
       "    nav_element.append(status_bar);\n",
       "    this.message = status_bar[0];\n",
       "}\n",
       "\n",
       "mpl.figure.prototype.request_resize = function(x_pixels, y_pixels) {\n",
       "    // Request matplotlib to resize the figure. Matplotlib will then trigger a resize in the client,\n",
       "    // which will in turn request a refresh of the image.\n",
       "    this.send_message('resize', {'width': x_pixels, 'height': y_pixels});\n",
       "}\n",
       "\n",
       "mpl.figure.prototype.send_message = function(type, properties) {\n",
       "    properties['type'] = type;\n",
       "    properties['figure_id'] = this.id;\n",
       "    this.ws.send(JSON.stringify(properties));\n",
       "}\n",
       "\n",
       "mpl.figure.prototype.send_draw_message = function() {\n",
       "    if (!this.waiting) {\n",
       "        this.waiting = true;\n",
       "        this.ws.send(JSON.stringify({type: \"draw\", figure_id: this.id}));\n",
       "    }\n",
       "}\n",
       "\n",
       "\n",
       "mpl.figure.prototype.handle_save = function(fig, msg) {\n",
       "    var format_dropdown = fig.format_dropdown;\n",
       "    var format = format_dropdown.options[format_dropdown.selectedIndex].value;\n",
       "    fig.ondownload(fig, format);\n",
       "}\n",
       "\n",
       "\n",
       "mpl.figure.prototype.handle_resize = function(fig, msg) {\n",
       "    var size = msg['size'];\n",
       "    if (size[0] != fig.canvas.width || size[1] != fig.canvas.height) {\n",
       "        fig._resize_canvas(size[0], size[1]);\n",
       "        fig.send_message(\"refresh\", {});\n",
       "    };\n",
       "}\n",
       "\n",
       "mpl.figure.prototype.handle_rubberband = function(fig, msg) {\n",
       "    var x0 = msg['x0'] / mpl.ratio;\n",
       "    var y0 = (fig.canvas.height - msg['y0']) / mpl.ratio;\n",
       "    var x1 = msg['x1'] / mpl.ratio;\n",
       "    var y1 = (fig.canvas.height - msg['y1']) / mpl.ratio;\n",
       "    x0 = Math.floor(x0) + 0.5;\n",
       "    y0 = Math.floor(y0) + 0.5;\n",
       "    x1 = Math.floor(x1) + 0.5;\n",
       "    y1 = Math.floor(y1) + 0.5;\n",
       "    var min_x = Math.min(x0, x1);\n",
       "    var min_y = Math.min(y0, y1);\n",
       "    var width = Math.abs(x1 - x0);\n",
       "    var height = Math.abs(y1 - y0);\n",
       "\n",
       "    fig.rubberband_context.clearRect(\n",
       "        0, 0, fig.canvas.width / mpl.ratio, fig.canvas.height / mpl.ratio);\n",
       "\n",
       "    fig.rubberband_context.strokeRect(min_x, min_y, width, height);\n",
       "}\n",
       "\n",
       "mpl.figure.prototype.handle_figure_label = function(fig, msg) {\n",
       "    // Updates the figure title.\n",
       "    fig.header.textContent = msg['label'];\n",
       "}\n",
       "\n",
       "mpl.figure.prototype.handle_cursor = function(fig, msg) {\n",
       "    var cursor = msg['cursor'];\n",
       "    switch(cursor)\n",
       "    {\n",
       "    case 0:\n",
       "        cursor = 'pointer';\n",
       "        break;\n",
       "    case 1:\n",
       "        cursor = 'default';\n",
       "        break;\n",
       "    case 2:\n",
       "        cursor = 'crosshair';\n",
       "        break;\n",
       "    case 3:\n",
       "        cursor = 'move';\n",
       "        break;\n",
       "    }\n",
       "    fig.rubberband_canvas.style.cursor = cursor;\n",
       "}\n",
       "\n",
       "mpl.figure.prototype.handle_message = function(fig, msg) {\n",
       "    fig.message.textContent = msg['message'];\n",
       "}\n",
       "\n",
       "mpl.figure.prototype.handle_draw = function(fig, msg) {\n",
       "    // Request the server to send over a new figure.\n",
       "    fig.send_draw_message();\n",
       "}\n",
       "\n",
       "mpl.figure.prototype.handle_image_mode = function(fig, msg) {\n",
       "    fig.image_mode = msg['mode'];\n",
       "}\n",
       "\n",
       "mpl.figure.prototype.updated_canvas_event = function() {\n",
       "    // Called whenever the canvas gets updated.\n",
       "    this.send_message(\"ack\", {});\n",
       "}\n",
       "\n",
       "// A function to construct a web socket function for onmessage handling.\n",
       "// Called in the figure constructor.\n",
       "mpl.figure.prototype._make_on_message_function = function(fig) {\n",
       "    return function socket_on_message(evt) {\n",
       "        if (evt.data instanceof Blob) {\n",
       "            /* FIXME: We get \"Resource interpreted as Image but\n",
       "             * transferred with MIME type text/plain:\" errors on\n",
       "             * Chrome.  But how to set the MIME type?  It doesn't seem\n",
       "             * to be part of the websocket stream */\n",
       "            evt.data.type = \"image/png\";\n",
       "\n",
       "            /* Free the memory for the previous frames */\n",
       "            if (fig.imageObj.src) {\n",
       "                (window.URL || window.webkitURL).revokeObjectURL(\n",
       "                    fig.imageObj.src);\n",
       "            }\n",
       "\n",
       "            fig.imageObj.src = (window.URL || window.webkitURL).createObjectURL(\n",
       "                evt.data);\n",
       "            fig.updated_canvas_event();\n",
       "            fig.waiting = false;\n",
       "            return;\n",
       "        }\n",
       "        else if (typeof evt.data === 'string' && evt.data.slice(0, 21) == \"data:image/png;base64\") {\n",
       "            fig.imageObj.src = evt.data;\n",
       "            fig.updated_canvas_event();\n",
       "            fig.waiting = false;\n",
       "            return;\n",
       "        }\n",
       "\n",
       "        var msg = JSON.parse(evt.data);\n",
       "        var msg_type = msg['type'];\n",
       "\n",
       "        // Call the  \"handle_{type}\" callback, which takes\n",
       "        // the figure and JSON message as its only arguments.\n",
       "        try {\n",
       "            var callback = fig[\"handle_\" + msg_type];\n",
       "        } catch (e) {\n",
       "            console.log(\"No handler for the '\" + msg_type + \"' message type: \", msg);\n",
       "            return;\n",
       "        }\n",
       "\n",
       "        if (callback) {\n",
       "            try {\n",
       "                // console.log(\"Handling '\" + msg_type + \"' message: \", msg);\n",
       "                callback(fig, msg);\n",
       "            } catch (e) {\n",
       "                console.log(\"Exception inside the 'handler_\" + msg_type + \"' callback:\", e, e.stack, msg);\n",
       "            }\n",
       "        }\n",
       "    };\n",
       "}\n",
       "\n",
       "// from http://stackoverflow.com/questions/1114465/getting-mouse-location-in-canvas\n",
       "mpl.findpos = function(e) {\n",
       "    //this section is from http://www.quirksmode.org/js/events_properties.html\n",
       "    var targ;\n",
       "    if (!e)\n",
       "        e = window.event;\n",
       "    if (e.target)\n",
       "        targ = e.target;\n",
       "    else if (e.srcElement)\n",
       "        targ = e.srcElement;\n",
       "    if (targ.nodeType == 3) // defeat Safari bug\n",
       "        targ = targ.parentNode;\n",
       "\n",
       "    // jQuery normalizes the pageX and pageY\n",
       "    // pageX,Y are the mouse positions relative to the document\n",
       "    // offset() returns the position of the element relative to the document\n",
       "    var x = e.pageX - $(targ).offset().left;\n",
       "    var y = e.pageY - $(targ).offset().top;\n",
       "\n",
       "    return {\"x\": x, \"y\": y};\n",
       "};\n",
       "\n",
       "/*\n",
       " * return a copy of an object with only non-object keys\n",
       " * we need this to avoid circular references\n",
       " * http://stackoverflow.com/a/24161582/3208463\n",
       " */\n",
       "function simpleKeys (original) {\n",
       "  return Object.keys(original).reduce(function (obj, key) {\n",
       "    if (typeof original[key] !== 'object')\n",
       "        obj[key] = original[key]\n",
       "    return obj;\n",
       "  }, {});\n",
       "}\n",
       "\n",
       "mpl.figure.prototype.mouse_event = function(event, name) {\n",
       "    var canvas_pos = mpl.findpos(event)\n",
       "\n",
       "    if (name === 'button_press')\n",
       "    {\n",
       "        this.canvas.focus();\n",
       "        this.canvas_div.focus();\n",
       "    }\n",
       "\n",
       "    var x = canvas_pos.x * mpl.ratio;\n",
       "    var y = canvas_pos.y * mpl.ratio;\n",
       "\n",
       "    this.send_message(name, {x: x, y: y, button: event.button,\n",
       "                             step: event.step,\n",
       "                             guiEvent: simpleKeys(event)});\n",
       "\n",
       "    /* This prevents the web browser from automatically changing to\n",
       "     * the text insertion cursor when the button is pressed.  We want\n",
       "     * to control all of the cursor setting manually through the\n",
       "     * 'cursor' event from matplotlib */\n",
       "    event.preventDefault();\n",
       "    return false;\n",
       "}\n",
       "\n",
       "mpl.figure.prototype._key_event_extra = function(event, name) {\n",
       "    // Handle any extra behaviour associated with a key event\n",
       "}\n",
       "\n",
       "mpl.figure.prototype.key_event = function(event, name) {\n",
       "\n",
       "    // Prevent repeat events\n",
       "    if (name == 'key_press')\n",
       "    {\n",
       "        if (event.which === this._key)\n",
       "            return;\n",
       "        else\n",
       "            this._key = event.which;\n",
       "    }\n",
       "    if (name == 'key_release')\n",
       "        this._key = null;\n",
       "\n",
       "    var value = '';\n",
       "    if (event.ctrlKey && event.which != 17)\n",
       "        value += \"ctrl+\";\n",
       "    if (event.altKey && event.which != 18)\n",
       "        value += \"alt+\";\n",
       "    if (event.shiftKey && event.which != 16)\n",
       "        value += \"shift+\";\n",
       "\n",
       "    value += 'k';\n",
       "    value += event.which.toString();\n",
       "\n",
       "    this._key_event_extra(event, name);\n",
       "\n",
       "    this.send_message(name, {key: value,\n",
       "                             guiEvent: simpleKeys(event)});\n",
       "    return false;\n",
       "}\n",
       "\n",
       "mpl.figure.prototype.toolbar_button_onclick = function(name) {\n",
       "    if (name == 'download') {\n",
       "        this.handle_save(this, null);\n",
       "    } else {\n",
       "        this.send_message(\"toolbar_button\", {name: name});\n",
       "    }\n",
       "};\n",
       "\n",
       "mpl.figure.prototype.toolbar_button_onmouseover = function(tooltip) {\n",
       "    this.message.textContent = tooltip;\n",
       "};\n",
       "mpl.toolbar_items = [[\"Home\", \"Reset original view\", \"fa fa-home icon-home\", \"home\"], [\"Back\", \"Back to previous view\", \"fa fa-arrow-left icon-arrow-left\", \"back\"], [\"Forward\", \"Forward to next view\", \"fa fa-arrow-right icon-arrow-right\", \"forward\"], [\"\", \"\", \"\", \"\"], [\"Pan\", \"Pan axes with left mouse, zoom with right\", \"fa fa-arrows icon-move\", \"pan\"], [\"Zoom\", \"Zoom to rectangle\", \"fa fa-square-o icon-check-empty\", \"zoom\"], [\"\", \"\", \"\", \"\"], [\"Download\", \"Download plot\", \"fa fa-floppy-o icon-save\", \"download\"]];\n",
       "\n",
       "mpl.extensions = [\"eps\", \"jpeg\", \"pdf\", \"png\", \"ps\", \"raw\", \"svg\", \"tif\"];\n",
       "\n",
       "mpl.default_extension = \"png\";var comm_websocket_adapter = function(comm) {\n",
       "    // Create a \"websocket\"-like object which calls the given IPython comm\n",
       "    // object with the appropriate methods. Currently this is a non binary\n",
       "    // socket, so there is still some room for performance tuning.\n",
       "    var ws = {};\n",
       "\n",
       "    ws.close = function() {\n",
       "        comm.close()\n",
       "    };\n",
       "    ws.send = function(m) {\n",
       "        //console.log('sending', m);\n",
       "        comm.send(m);\n",
       "    };\n",
       "    // Register the callback with on_msg.\n",
       "    comm.on_msg(function(msg) {\n",
       "        //console.log('receiving', msg['content']['data'], msg);\n",
       "        // Pass the mpl event to the overridden (by mpl) onmessage function.\n",
       "        ws.onmessage(msg['content']['data'])\n",
       "    });\n",
       "    return ws;\n",
       "}\n",
       "\n",
       "mpl.mpl_figure_comm = function(comm, msg) {\n",
       "    // This is the function which gets called when the mpl process\n",
       "    // starts-up an IPython Comm through the \"matplotlib\" channel.\n",
       "\n",
       "    var id = msg.content.data.id;\n",
       "    // Get hold of the div created by the display call when the Comm\n",
       "    // socket was opened in Python.\n",
       "    var element = $(\"#\" + id);\n",
       "    var ws_proxy = comm_websocket_adapter(comm)\n",
       "\n",
       "    function ondownload(figure, format) {\n",
       "        window.open(figure.imageObj.src);\n",
       "    }\n",
       "\n",
       "    var fig = new mpl.figure(id, ws_proxy,\n",
       "                           ondownload,\n",
       "                           element.get(0));\n",
       "\n",
       "    // Call onopen now - mpl needs it, as it is assuming we've passed it a real\n",
       "    // web socket which is closed, not our websocket->open comm proxy.\n",
       "    ws_proxy.onopen();\n",
       "\n",
       "    fig.parent_element = element.get(0);\n",
       "    fig.cell_info = mpl.find_output_cell(\"<div id='\" + id + \"'></div>\");\n",
       "    if (!fig.cell_info) {\n",
       "        console.error(\"Failed to find cell for figure\", id, fig);\n",
       "        return;\n",
       "    }\n",
       "\n",
       "    var output_index = fig.cell_info[2]\n",
       "    var cell = fig.cell_info[0];\n",
       "\n",
       "};\n",
       "\n",
       "mpl.figure.prototype.handle_close = function(fig, msg) {\n",
       "    var width = fig.canvas.width/mpl.ratio\n",
       "    fig.root.unbind('remove')\n",
       "\n",
       "    // Update the output cell to use the data from the current canvas.\n",
       "    fig.push_to_output();\n",
       "    var dataURL = fig.canvas.toDataURL();\n",
       "    // Re-enable the keyboard manager in IPython - without this line, in FF,\n",
       "    // the notebook keyboard shortcuts fail.\n",
       "    IPython.keyboard_manager.enable()\n",
       "    $(fig.parent_element).html('<img src=\"' + dataURL + '\" width=\"' + width + '\">');\n",
       "    fig.close_ws(fig, msg);\n",
       "}\n",
       "\n",
       "mpl.figure.prototype.close_ws = function(fig, msg){\n",
       "    fig.send_message('closing', msg);\n",
       "    // fig.ws.close()\n",
       "}\n",
       "\n",
       "mpl.figure.prototype.push_to_output = function(remove_interactive) {\n",
       "    // Turn the data on the canvas into data in the output cell.\n",
       "    var width = this.canvas.width/mpl.ratio\n",
       "    var dataURL = this.canvas.toDataURL();\n",
       "    this.cell_info[1]['text/html'] = '<img src=\"' + dataURL + '\" width=\"' + width + '\">';\n",
       "}\n",
       "\n",
       "mpl.figure.prototype.updated_canvas_event = function() {\n",
       "    // Tell IPython that the notebook contents must change.\n",
       "    IPython.notebook.set_dirty(true);\n",
       "    this.send_message(\"ack\", {});\n",
       "    var fig = this;\n",
       "    // Wait a second, then push the new image to the DOM so\n",
       "    // that it is saved nicely (might be nice to debounce this).\n",
       "    setTimeout(function () { fig.push_to_output() }, 1000);\n",
       "}\n",
       "\n",
       "mpl.figure.prototype._init_toolbar = function() {\n",
       "    var fig = this;\n",
       "\n",
       "    var nav_element = $('<div/>');\n",
       "    nav_element.attr('style', 'width: 100%');\n",
       "    this.root.append(nav_element);\n",
       "\n",
       "    // Define a callback function for later on.\n",
       "    function toolbar_event(event) {\n",
       "        return fig.toolbar_button_onclick(event['data']);\n",
       "    }\n",
       "    function toolbar_mouse_event(event) {\n",
       "        return fig.toolbar_button_onmouseover(event['data']);\n",
       "    }\n",
       "\n",
       "    for(var toolbar_ind in mpl.toolbar_items){\n",
       "        var name = mpl.toolbar_items[toolbar_ind][0];\n",
       "        var tooltip = mpl.toolbar_items[toolbar_ind][1];\n",
       "        var image = mpl.toolbar_items[toolbar_ind][2];\n",
       "        var method_name = mpl.toolbar_items[toolbar_ind][3];\n",
       "\n",
       "        if (!name) { continue; };\n",
       "\n",
       "        var button = $('<button class=\"btn btn-default\" href=\"#\" title=\"' + name + '\"><i class=\"fa ' + image + ' fa-lg\"></i></button>');\n",
       "        button.click(method_name, toolbar_event);\n",
       "        button.mouseover(tooltip, toolbar_mouse_event);\n",
       "        nav_element.append(button);\n",
       "    }\n",
       "\n",
       "    // Add the status bar.\n",
       "    var status_bar = $('<span class=\"mpl-message\" style=\"text-align:right; float: right;\"/>');\n",
       "    nav_element.append(status_bar);\n",
       "    this.message = status_bar[0];\n",
       "\n",
       "    // Add the close button to the window.\n",
       "    var buttongrp = $('<div class=\"btn-group inline pull-right\"></div>');\n",
       "    var button = $('<button class=\"btn btn-mini btn-primary\" href=\"#\" title=\"Stop Interaction\"><i class=\"fa fa-power-off icon-remove icon-large\"></i></button>');\n",
       "    button.click(function (evt) { fig.handle_close(fig, {}); } );\n",
       "    button.mouseover('Stop Interaction', toolbar_mouse_event);\n",
       "    buttongrp.append(button);\n",
       "    var titlebar = this.root.find($('.ui-dialog-titlebar'));\n",
       "    titlebar.prepend(buttongrp);\n",
       "}\n",
       "\n",
       "mpl.figure.prototype._root_extra_style = function(el){\n",
       "    var fig = this\n",
       "    el.on(\"remove\", function(){\n",
       "\tfig.close_ws(fig, {});\n",
       "    });\n",
       "}\n",
       "\n",
       "mpl.figure.prototype._canvas_extra_style = function(el){\n",
       "    // this is important to make the div 'focusable\n",
       "    el.attr('tabindex', 0)\n",
       "    // reach out to IPython and tell the keyboard manager to turn it's self\n",
       "    // off when our div gets focus\n",
       "\n",
       "    // location in version 3\n",
       "    if (IPython.notebook.keyboard_manager) {\n",
       "        IPython.notebook.keyboard_manager.register_events(el);\n",
       "    }\n",
       "    else {\n",
       "        // location in version 2\n",
       "        IPython.keyboard_manager.register_events(el);\n",
       "    }\n",
       "\n",
       "}\n",
       "\n",
       "mpl.figure.prototype._key_event_extra = function(event, name) {\n",
       "    var manager = IPython.notebook.keyboard_manager;\n",
       "    if (!manager)\n",
       "        manager = IPython.keyboard_manager;\n",
       "\n",
       "    // Check for shift+enter\n",
       "    if (event.shiftKey && event.which == 13) {\n",
       "        this.canvas_div.blur();\n",
       "        // select the cell after this one\n",
       "        var index = IPython.notebook.find_cell_index(this.cell_info[0]);\n",
       "        IPython.notebook.select(index + 1);\n",
       "    }\n",
       "}\n",
       "\n",
       "mpl.figure.prototype.handle_save = function(fig, msg) {\n",
       "    fig.ondownload(fig, null);\n",
       "}\n",
       "\n",
       "\n",
       "mpl.find_output_cell = function(html_output) {\n",
       "    // Return the cell and output element which can be found *uniquely* in the notebook.\n",
       "    // Note - this is a bit hacky, but it is done because the \"notebook_saving.Notebook\"\n",
       "    // IPython event is triggered only after the cells have been serialised, which for\n",
       "    // our purposes (turning an active figure into a static one), is too late.\n",
       "    var cells = IPython.notebook.get_cells();\n",
       "    var ncells = cells.length;\n",
       "    for (var i=0; i<ncells; i++) {\n",
       "        var cell = cells[i];\n",
       "        if (cell.cell_type === 'code'){\n",
       "            for (var j=0; j<cell.output_area.outputs.length; j++) {\n",
       "                var data = cell.output_area.outputs[j];\n",
       "                if (data.data) {\n",
       "                    // IPython >= 3 moved mimebundle to data attribute of output\n",
       "                    data = data.data;\n",
       "                }\n",
       "                if (data['text/html'] == html_output) {\n",
       "                    return [cell, data, j];\n",
       "                }\n",
       "            }\n",
       "        }\n",
       "    }\n",
       "}\n",
       "\n",
       "// Register the function which deals with the matplotlib target/channel.\n",
       "// The kernel may be null if the page has been refreshed.\n",
       "if (IPython.notebook.kernel != null) {\n",
       "    IPython.notebook.kernel.comm_manager.register_target('matplotlib', mpl.mpl_figure_comm);\n",
       "}\n"
      ],
      "text/plain": [
       "<IPython.core.display.Javascript object>"
      ]
     },
     "metadata": {},
     "output_type": "display_data"
    },
    {
     "data": {
      "text/html": [
       "<img src=\"data:image/png;base64,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\" width=\"432\">"
      ],
      "text/plain": [
       "<IPython.core.display.HTML object>"
      ]
     },
     "metadata": {},
     "output_type": "display_data"
    },
    {
     "data": {
      "application/vnd.jupyter.widget-view+json": {
       "model_id": "b21b85259a6c431cb48756685bfee18f",
       "version_major": 2,
       "version_minor": 0
      },
      "text/plain": [
       "Figure(axes=[Axis(orientation='vertical', scale=LinearScale()), Axis(scale=LinearScale())], fig_margin={'top':…"
      ]
     },
     "metadata": {},
     "output_type": "display_data"
    }
   ],
   "source": [
    "fig_hist = plt.figure( title='Frequency by Date of month  - uber - apr 2014')\n",
    "hist = plt.hist(data.dom, bins=25)\n",
    "xlabel('date of the month')\n",
    "ylabel('frequency')\n",
    "fig_hist"
   ]
  },
  {
   "cell_type": "code",
   "execution_count": 23,
   "metadata": {
    "extensions": {
     "jupyter_dashboards": {
      "version": 1,
      "views": {
       "grid_default": {},
       "report_default": {
        "hidden": false
       }
      }
     }
    }
   },
   "outputs": [
    {
     "data": {
      "application/vnd.jupyter.widget-view+json": {
       "model_id": "1ca2a2b2786242669f73dada31182a29",
       "version_major": 2,
       "version_minor": 0
      },
      "text/plain": [
       "IntSlider(value=1, min=1)"
      ]
     },
     "metadata": {},
     "output_type": "display_data"
    }
   ],
   "source": [
    "slider = widgets.IntSlider(min=1, max=100, v_model=30)\n",
    "slider"
   ]
  },
  {
   "cell_type": "code",
   "execution_count": 24,
   "metadata": {
    "extensions": {
     "jupyter_dashboards": {
      "version": 1,
      "views": {
       "grid_default": {},
       "report_default": {
        "hidden": false
       }
      }
     }
    }
   },
   "outputs": [
    {
     "data": {
      "text/plain": [
       "1"
      ]
     },
     "execution_count": 24,
     "metadata": {},
     "output_type": "execute_result"
    }
   ],
   "source": [
    "slider.value"
   ]
  },
  {
   "cell_type": "code",
   "execution_count": 25,
   "metadata": {
    "extensions": {
     "jupyter_dashboards": {
      "version": 1,
      "views": {
       "grid_default": {},
       "report_default": {
        "hidden": true
       }
      }
     }
    }
   },
   "outputs": [],
   "source": [
    "widgets.link((hist, 'bins'), (slider, 'value'));"
   ]
  },
  {
   "cell_type": "code",
   "execution_count": null,
   "metadata": {
    "extensions": {
     "jupyter_dashboards": {
      "version": 1,
      "views": {
       "grid_default": {},
       "report_default": {
        "hidden": true
       }
      }
     }
    }
   },
   "outputs": [],
   "source": []
  },
  {
   "cell_type": "code",
   "execution_count": null,
   "metadata": {
    "extensions": {
     "jupyter_dashboards": {
      "version": 1,
      "views": {
       "grid_default": {},
       "report_default": {
        "hidden": false
       }
      }
     }
    }
   },
   "outputs": [],
   "source": [
    "def count_rows(rows):\n",
    "    return len(rows)\n",
    "\n",
    "by_date = data.groupby('dom').apply(count_rows)\n",
    "by_date"
   ]
  },
  {
   "cell_type": "code",
   "execution_count": null,
   "metadata": {
    "extensions": {
     "jupyter_dashboards": {
      "version": 1,
      "views": {
       "grid_default": {},
       "report_default": {
        "hidden": false
       }
      }
     }
    }
   },
   "outputs": [],
   "source": [
    "bar(range(1, 31), by_date)"
   ]
  },
  {
   "cell_type": "code",
   "execution_count": null,
   "metadata": {
    "extensions": {
     "jupyter_dashboards": {
      "version": 1,
      "views": {
       "grid_default": {},
       "report_default": {
        "hidden": false
       }
      }
     }
    }
   },
   "outputs": [],
   "source": [
    "by_date_sorted = by_date.sort_values()\n",
    "by_date_sorted"
   ]
  },
  {
   "cell_type": "code",
   "execution_count": null,
   "metadata": {
    "extensions": {
     "jupyter_dashboards": {
      "version": 1,
      "views": {
       "grid_default": {},
       "report_default": {
        "hidden": false
       }
      }
     }
    }
   },
   "outputs": [],
   "source": [
    "bar(range(1, 31), by_date_sorted)\n",
    "xticks(range(1,31), by_date_sorted.index)\n",
    "xlabel('date of the month')\n",
    "ylabel('frequency')\n",
    "title('Frequency by DoM - uber - apr 2014 in ascending order')\n",
    ";"
   ]
  },
  {
   "cell_type": "code",
   "execution_count": null,
   "metadata": {
    "extensions": {
     "jupyter_dashboards": {
      "version": 1,
      "views": {
       "grid_default": {},
       "report_default": {
        "hidden": false
       }
      }
     }
    }
   },
   "outputs": [],
   "source": [
    "#15 june 2014 was father's day(it was on sunday)so most poeple must have gone to their homez on 13 (friday) which goves 2 days t spend time with their family"
   ]
  },
  {
   "cell_type": "code",
   "execution_count": null,
   "metadata": {
    "extensions": {
     "jupyter_dashboards": {
      "version": 1,
      "views": {
       "grid_default": {},
       "report_default": {
        "hidden": true
       }
      }
     }
    }
   },
   "outputs": [],
   "source": [
    "fig_hist = plt.figure( title='frequency of pick ups based on hours:uber-april-2014')\n",
    "hist = plt.hist(data.hour, bins=25)\n",
    "xlabel('date of the month')\n",
    "ylabel('frequency')\n",
    "fig_hist"
   ]
  },
  {
   "cell_type": "code",
   "execution_count": null,
   "metadata": {
    "extensions": {
     "jupyter_dashboards": {
      "version": 1,
      "views": {
       "grid_default": {},
       "report_default": {
        "hidden": true
       }
      }
     }
    }
   },
   "outputs": [],
   "source": [
    "slider = widgets.IntSlider(min=1, max=100, v_model=30)\n",
    "slider"
   ]
  },
  {
   "cell_type": "code",
   "execution_count": null,
   "metadata": {
    "extensions": {
     "jupyter_dashboards": {
      "version": 1,
      "views": {
       "grid_default": {},
       "report_default": {
        "hidden": true
       }
      }
     }
    }
   },
   "outputs": [],
   "source": [
    "slider.value"
   ]
  },
  {
   "cell_type": "code",
   "execution_count": null,
   "metadata": {
    "extensions": {
     "jupyter_dashboards": {
      "version": 1,
      "views": {
       "grid_default": {},
       "report_default": {
        "hidden": true
       }
      }
     }
    }
   },
   "outputs": [],
   "source": [
    "widgets.link((hist, 'bins'), (slider, 'value'));"
   ]
  },
  {
   "cell_type": "code",
   "execution_count": null,
   "metadata": {
    "extensions": {
     "jupyter_dashboards": {
      "version": 1,
      "views": {
       "grid_default": {},
       "report_default": {
        "hidden": false
       }
      }
     }
    }
   },
   "outputs": [],
   "source": [
    "hist(data.weekday, bins=7, range =(-.5,6.5), rwidth=.8, color='#AA6666', alpha=.4)\n",
    "xticks(range(7), 'Mon Tue Wed Thu Fri Sat Sun'.split())\n",
    "xlabel('days')\n",
    "ylabel('frequency')\n",
    "title('frequency of pick ups based on days:uber-april 2014')"
   ]
  },
  {
   "cell_type": "code",
   "execution_count": null,
   "metadata": {
    "extensions": {
     "jupyter_dashboards": {
      "version": 1,
      "views": {
       "grid_default": {},
       "report_default": {
        "hidden": true
       }
      }
     }
    }
   },
   "outputs": [],
   "source": [
    "fig_hist = plt.figure( title='frequency of pick ups based on days:uber-april 2014')\n",
    "hist = plt.hist(data.weekday, bins=7)\n",
    "xlabel('days')\n",
    "ylabel('frequency')\n",
    "fig_hist"
   ]
  },
  {
   "cell_type": "code",
   "execution_count": null,
   "metadata": {
    "extensions": {
     "jupyter_dashboards": {
      "version": 1,
      "views": {
       "grid_default": {},
       "report_default": {
        "hidden": true
       }
      }
     }
    }
   },
   "outputs": [],
   "source": [
    "slider = widgets.IntSlider(min=1, max=100, v_model=30)\n",
    "slider"
   ]
  },
  {
   "cell_type": "code",
   "execution_count": null,
   "metadata": {
    "extensions": {
     "jupyter_dashboards": {
      "version": 1,
      "views": {
       "grid_default": {},
       "report_default": {
        "hidden": true
       }
      }
     }
    }
   },
   "outputs": [],
   "source": [
    "slider.value"
   ]
  },
  {
   "cell_type": "code",
   "execution_count": null,
   "metadata": {
    "extensions": {
     "jupyter_dashboards": {
      "version": 1,
      "views": {
       "grid_default": {},
       "report_default": {
        "hidden": true
       }
      }
     }
    }
   },
   "outputs": [],
   "source": [
    "widgets.link((hist, 'bins'), (slider, 'value'));"
   ]
  },
  {
   "cell_type": "code",
   "execution_count": null,
   "metadata": {
    "extensions": {
     "jupyter_dashboards": {
      "version": 1,
      "views": {
       "grid_default": {},
       "report_default": {
        "hidden": false
       }
      }
     }
    }
   },
   "outputs": [],
   "source": [
    "by_cross = data.groupby('weekday hour'.split()).apply(count_rows).unstack()"
   ]
  },
  {
   "cell_type": "code",
   "execution_count": null,
   "metadata": {
    "extensions": {
     "jupyter_dashboards": {
      "version": 1,
      "views": {
       "grid_default": {},
       "report_default": {
        "hidden": false
       }
      }
     }
    }
   },
   "outputs": [],
   "source": [
    "seaborn.heatmap(by_cross)\n",
    "yticks(range(7), 'Mon Tue Wed Thu Fri Sat Sun'.split())\n",
    "title('cross analysis of frequency based on hour and weekday uber-april 2014')"
   ]
  },
  {
   "cell_type": "code",
   "execution_count": null,
   "metadata": {
    "extensions": {
     "jupyter_dashboards": {
      "version": 1,
      "views": {
       "grid_default": {},
       "report_default": {
        "hidden": false
       }
      }
     }
    }
   },
   "outputs": [],
   "source": [
    "plt.hist(data['Lat'], bins=100,range=(40.5,41.1))\n",
    "xlabel('latitude')\n",
    "ylabel('frequency of pick ups')\n",
    "title('frequency of pick ups according to latitud-uber -april -2014')\n",
    ";"
   ]
  },
  {
   "cell_type": "code",
   "execution_count": null,
   "metadata": {
    "extensions": {
     "jupyter_dashboards": {
      "version": 1,
      "views": {
       "grid_default": {},
       "report_default": {
        "hidden": true
       }
      }
     }
    }
   },
   "outputs": [],
   "source": [
    "fig_hist = plt.figure( title='frequency of pick ups according to latitude-uber -april -2014')\n",
    "hist = plt.hist(data['Lat'], bins=100)\n",
    "xlabel('latitude')\n",
    "ylabel('frequency')\n",
    "fig_hist"
   ]
  },
  {
   "cell_type": "code",
   "execution_count": null,
   "metadata": {
    "extensions": {
     "jupyter_dashboards": {
      "version": 1,
      "views": {
       "grid_default": {},
       "report_default": {
        "hidden": true
       }
      }
     }
    }
   },
   "outputs": [],
   "source": [
    "slider = widgets.IntSlider(min=1, max=100, v_model=30)\n",
    "slider"
   ]
  },
  {
   "cell_type": "code",
   "execution_count": null,
   "metadata": {
    "extensions": {
     "jupyter_dashboards": {
      "version": 1,
      "views": {
       "grid_default": {},
       "report_default": {
        "hidden": true
       }
      }
     }
    }
   },
   "outputs": [],
   "source": [
    "slider.value"
   ]
  },
  {
   "cell_type": "code",
   "execution_count": null,
   "metadata": {
    "extensions": {
     "jupyter_dashboards": {
      "version": 1,
      "views": {
       "grid_default": {},
       "report_default": {
        "hidden": true
       }
      }
     }
    }
   },
   "outputs": [],
   "source": [
    "widgets.link((hist, 'bins'), (slider, 'value'));"
   ]
  },
  {
   "cell_type": "code",
   "execution_count": null,
   "metadata": {
    "extensions": {
     "jupyter_dashboards": {
      "version": 1,
      "views": {
       "grid_default": {},
       "report_default": {
        "hidden": false
       }
      }
     }
    }
   },
   "outputs": [],
   "source": [
    "plt.hist(data['Lon'], bins=100,range=(-74.2,-73.7))\n",
    "xlabel('longitude')\n",
    "ylabel('frequency')\n",
    "title('frequency of pick ups based on longitude-uber-april 2014')\n",
    ";"
   ]
  },
  {
   "cell_type": "code",
   "execution_count": null,
   "metadata": {
    "extensions": {
     "jupyter_dashboards": {
      "version": 1,
      "views": {
       "grid_default": {},
       "report_default": {
        "hidden": true
       }
      }
     }
    }
   },
   "outputs": [],
   "source": [
    "fig_hist = plt.figure( title='frequency of pick ups according to longitude-uber -april -2014')\n",
    "hist = plt.hist(data['Lon'], bins=100)\n",
    "xlabel('longitude')\n",
    "ylabel('frequency')\n",
    "fig_hist"
   ]
  },
  {
   "cell_type": "code",
   "execution_count": null,
   "metadata": {
    "extensions": {
     "jupyter_dashboards": {
      "version": 1,
      "views": {
       "grid_default": {},
       "report_default": {
        "hidden": true
       }
      }
     }
    }
   },
   "outputs": [],
   "source": [
    "slider = widgets.IntSlider(min=1, max=100, v_model=30)\n",
    "slider"
   ]
  },
  {
   "cell_type": "code",
   "execution_count": null,
   "metadata": {
    "extensions": {
     "jupyter_dashboards": {
      "version": 1,
      "views": {
       "grid_default": {},
       "report_default": {
        "hidden": true
       }
      }
     }
    }
   },
   "outputs": [],
   "source": [
    "slider.value"
   ]
  },
  {
   "cell_type": "code",
   "execution_count": null,
   "metadata": {
    "extensions": {
     "jupyter_dashboards": {
      "version": 1,
      "views": {
       "grid_default": {},
       "report_default": {
        "hidden": true
       }
      }
     }
    }
   },
   "outputs": [],
   "source": [
    "widgets.link((hist, 'bins'), (slider, 'value'));"
   ]
  },
  {
   "cell_type": "code",
   "execution_count": null,
   "metadata": {
    "extensions": {
     "jupyter_dashboards": {
      "version": 1,
      "views": {
       "grid_default": {},
       "report_default": {
        "hidden": false
       }
      }
     }
    }
   },
   "outputs": [],
   "source": [
    "plt.hist(data['Lon'], bins=100, range = (-74.1, -73.9), color='g', alpha=.5, label = 'longitude')\n",
    "grid()\n",
    "legend(loc='upper left')\n",
    "twiny()\n",
    "plt.hist(data['Lat'], bins=100, range = (40.5, 41), color='r', alpha=.5, label = 'latitude')\n",
    "legend(loc='best')\n",
    ";"
   ]
  },
  {
   "cell_type": "code",
   "execution_count": null,
   "metadata": {
    "extensions": {
     "jupyter_dashboards": {
      "version": 1,
      "views": {
       "grid_default": {},
       "report_default": {
        "hidden": false
       }
      }
     }
    }
   },
   "outputs": [],
   "source": [
    "figure(figsize=(20, 20))\n",
    "plot(data['Lon'], data['Lat'], '.', ms=1, alpha=.5)\n",
    "xlim(-74.2, -73.7)\n",
    "ylim(40.7, 41)"
   ]
  },
  {
   "cell_type": "code",
   "execution_count": null,
   "metadata": {
    "extensions": {
     "jupyter_dashboards": {
      "version": 1,
      "views": {
       "grid_default": {},
       "report_default": {
        "hidden": false
       }
      }
     }
    }
   },
   "outputs": [],
   "source": [
    "import numpy as np\n",
    "import pandas as pd\n",
    "import seaborn as sb\n",
    "import matplotlib.pyplot as plt\n",
    "import pylab as py\n",
    "from sklearn.decomposition import PCA\n",
    "from sklearn.cluster import KMeans\n",
    "from mpl_toolkits.mplot3d import Axes3D\n",
    "from sklearn import metrics\n",
    "from sklearn.cluster import KMeans  \n",
    "from scipy.spatial.distance import cdist \n",
    "from sklearn.datasets import make_blobs \n",
    "from sklearn.cluster import AgglomerativeClustering \n",
    "from matplotlib import pyplot as plt\n",
    "import scipy.cluster.hierarchy as sch\n",
    "from keplergl import KeplerGl\n",
    "import geopandas as gpdo"
   ]
  },
  {
   "cell_type": "code",
   "execution_count": null,
   "metadata": {
    "extensions": {
     "jupyter_dashboards": {
      "version": 1,
      "views": {
       "grid_default": {},
       "report_default": {
        "hidden": false
       }
      }
     }
    }
   },
   "outputs": [],
   "source": [
    "cluster = data[['Lat','Lon']]\n",
    "cluster.dtypes"
   ]
  },
  {
   "cell_type": "code",
   "execution_count": null,
   "metadata": {
    "extensions": {
     "jupyter_dashboards": {
      "version": 1,
      "views": {
       "grid_default": {},
       "report_default": {
        "hidden": false
       }
      }
     }
    }
   },
   "outputs": [],
   "source": [
    "KMeans(algorithm= 'auto', copy_x=True, init='k_means++', max_iter=300,n_clusters=14, n_init=10,n_jobs=None, precompute_distances = 'auto',random_state=None, tol = 0.0001, verbose=0)"
   ]
  },
  {
   "cell_type": "code",
   "execution_count": null,
   "metadata": {
    "extensions": {
     "jupyter_dashboards": {
      "version": 1,
      "views": {
       "grid_default": {},
       "report_default": {
        "hidden": false
       }
      }
     }
    }
   },
   "outputs": [],
   "source": [
    "pca=PCA(n_components=2)\n",
    "pca.fit(cluster)\n",
    "x_red=pca.transform(cluster)\n",
    "x_red.shape"
   ]
  },
  {
   "cell_type": "code",
   "execution_count": null,
   "metadata": {
    "extensions": {
     "jupyter_dashboards": {
      "version": 1,
      "views": {
       "grid_default": {},
       "report_default": {
        "hidden": false
       }
      }
     }
    }
   },
   "outputs": [],
   "source": [
    "x_red"
   ]
  },
  {
   "cell_type": "code",
   "execution_count": null,
   "metadata": {
    "extensions": {
     "jupyter_dashboards": {
      "version": 1,
      "views": {
       "grid_default": {},
       "report_default": {
        "hidden": false
       }
      }
     }
    }
   },
   "outputs": [],
   "source": [
    "py.scatter(x_red[:,0],x_red[:,1],cmap='RdYlBu')\n",
    "py.show()"
   ]
  },
  {
   "cell_type": "code",
   "execution_count": null,
   "metadata": {
    "extensions": {
     "jupyter_dashboards": {
      "version": 1,
      "views": {
       "grid_default": {},
       "report_default": {
        "hidden": false
       }
      }
     }
    }
   },
   "outputs": [],
   "source": [
    "from sklearn.cluster import KMeans\n",
    "k_means=KMeans(n_clusters=3,random_state=0)\n",
    "k_means.fit(cluster)\n",
    "y_pred=k_means.predict(cluster)"
   ]
  },
  {
   "cell_type": "code",
   "execution_count": null,
   "metadata": {
    "extensions": {
     "jupyter_dashboards": {
      "version": 1,
      "views": {
       "grid_default": {},
       "report_default": {
        "hidden": false
       }
      }
     }
    }
   },
   "outputs": [],
   "source": [
    "py.scatter(x_red[:,0],x_red[:,1],c=y_pred,cmap='RdYlBu')"
   ]
  },
  {
   "cell_type": "code",
   "execution_count": null,
   "metadata": {
    "extensions": {
     "jupyter_dashboards": {
      "version": 1,
      "views": {
       "grid_default": {},
       "report_default": {
        "hidden": false
       }
      }
     }
    }
   },
   "outputs": [],
   "source": [
    "df = pd.DataFrame(x_red)\n",
    "d = df.to_numpy()"
   ]
  },
  {
   "cell_type": "code",
   "execution_count": null,
   "metadata": {
    "extensions": {
     "jupyter_dashboards": {
      "version": 1,
      "views": {
       "grid_default": {},
       "report_default": {
        "hidden": false
       }
      }
     }
    }
   },
   "outputs": [],
   "source": [
    "Sum_of_squared_distances = []\n",
    "K = range(1,15)\n",
    "for k in K:\n",
    "    km = KMeans(n_clusters=k)\n",
    "    km = km.fit(cluster)\n",
    "    Sum_of_squared_distances.append(km.inertia_)"
   ]
  },
  {
   "cell_type": "code",
   "execution_count": null,
   "metadata": {
    "extensions": {
     "jupyter_dashboards": {
      "version": 1,
      "views": {
       "grid_default": {},
       "report_default": {
        "hidden": false
       }
      }
     }
    }
   },
   "outputs": [],
   "source": [
    "plt.plot(K, Sum_of_squared_distances, 'bx-')\n",
    "plt.xlabel('k')\n",
    "plt.ylabel('Sum_of_squared_distances')\n",
    "plt.title('Elbow Method For Optimal k')\n",
    "plt.show()\n"
   ]
  },
  {
   "cell_type": "code",
   "execution_count": null,
   "metadata": {
    "extensions": {
     "jupyter_dashboards": {
      "version": 1,
      "views": {
       "grid_default": {},
       "report_default": {
        "hidden": false
       }
      }
     }
    }
   },
   "outputs": [],
   "source": [
    "kmeans = KMeans(n_clusters=6, max_iter=300, random_state = 12345)\n",
    "kmeans.fit(cluster)"
   ]
  },
  {
   "cell_type": "code",
   "execution_count": null,
   "metadata": {
    "extensions": {
     "jupyter_dashboards": {
      "version": 1,
      "views": {
       "grid_default": {},
       "report_default": {
        "hidden": false
       }
      }
     }
    }
   },
   "outputs": [],
   "source": [
    "centroids = kmeans.cluster_centers_\n",
    "centroids"
   ]
  },
  {
   "cell_type": "code",
   "execution_count": null,
   "metadata": {
    "extensions": {
     "jupyter_dashboards": {
      "version": 1,
      "views": {
       "grid_default": {},
       "report_default": {
        "hidden": false
       }
      }
     }
    }
   },
   "outputs": [],
   "source": [
    "new_location = [(40.6556,-73.5631)]\n",
    "kmeans.predict(new_location)"
   ]
  },
  {
   "cell_type": "code",
   "execution_count": null,
   "metadata": {
    "extensions": {
     "jupyter_dashboards": {
      "version": 1,
      "views": {
       "grid_default": {},
       "report_default": {
        "hidden": false
       }
      }
     }
    }
   },
   "outputs": [],
   "source": [
    "clocation = pd.DataFrame(centroids, columns =['Lat', 'Lon'])\n",
    "clocation"
   ]
  },
  {
   "cell_type": "code",
   "execution_count": null,
   "metadata": {
    "extensions": {
     "jupyter_dashboards": {
      "version": 1,
      "views": {
       "grid_default": {},
       "report_default": {
        "hidden": false
       }
      }
     }
    }
   },
   "outputs": [],
   "source": [
    "plt.scatter(clocation['Lat'], clocation['Lon'], marker = \"x\", color = 'R', s = 200)\n",
    "plt.show()"
   ]
  },
  {
   "cell_type": "code",
   "execution_count": null,
   "metadata": {
    "extensions": {
     "jupyter_dashboards": {
      "version": 1,
      "views": {
       "grid_default": {},
       "report_default": {
        "hidden": false
       }
      }
     }
    }
   },
   "outputs": [],
   "source": [
    "import pandas as pd #importing the Pandas Library as 'pd'\n",
    "from keplergl import KeplerGl #importing KeplerGl\n",
    "import geopandas as gpd #importing geopandas as 'gpd'\n",
    "#Pandas in action below\n",
    "df = pd.read_csv('kmean-apr14-loc.csv')#Reading the active construction data set into pandas for processing\n",
    "df.head()#Checking to see if data was properly imported!"
   ]
  },
  {
   "cell_type": "code",
   "execution_count": null,
   "metadata": {
    "extensions": {
     "jupyter_dashboards": {
      "version": 1,
      "views": {
       "grid_default": {},
       "report_default": {
        "hidden": false
       }
      }
     }
    }
   },
   "outputs": [],
   "source": [
    "\n",
    "import pandas as pd #importing the Pandas Library as 'pd'\n",
    "from keplergl import KeplerGl #importing KeplerGl\n",
    "import geopandas as gpd #importing geopandas as 'gpd'\n",
    "#Pandas in action below\n",
    "df = pd.read_csv('kmean-apr14-loc.csv')#Reading the active construction data set into pandas for processing\n",
    "df.head()#Checking to see if data was properly imported!"
   ]
  },
  {
   "cell_type": "code",
   "execution_count": null,
   "metadata": {
    "extensions": {
     "jupyter_dashboards": {
      "version": 1,
      "views": {
       "grid_default": {},
       "report_default": {
        "hidden": false
       }
      }
     }
    }
   },
   "outputs": [],
   "source": [
    "#Create a basemap \n",
    "map = KeplerGl(height=600, width=800)\n",
    "map #show the map"
   ]
  },
  {
   "cell_type": "code",
   "execution_count": null,
   "metadata": {
    "extensions": {
     "jupyter_dashboards": {
      "version": 1,
      "views": {
       "grid_default": {},
       "report_default": {
        "hidden": false
       }
      }
     }
    }
   },
   "outputs": [],
   "source": [
    "gdf = gpd.GeoDataFrame(df, geometry=gpd.points_from_xy(df.longitutde, df.latitude))"
   ]
  },
  {
   "cell_type": "code",
   "execution_count": null,
   "metadata": {
    "extensions": {
     "jupyter_dashboards": {
      "version": 1,
      "views": {
       "grid_default": {},
       "report_default": {
        "hidden": false
       }
      }
     }
    }
   },
   "outputs": [],
   "source": [
    "map.add_data(data=gdf, name=\"kmean-apr14\") "
   ]
  },
  {
   "cell_type": "code",
   "execution_count": null,
   "metadata": {
    "extensions": {
     "jupyter_dashboards": {
      "version": 1,
      "views": {
       "grid_default": {},
       "report_default": {
        "hidden": false
       }
      }
     }
    }
   },
   "outputs": [],
   "source": []
  }
 ],
 "metadata": {
  "extensions": {
   "jupyter_dashboards": {
    "activeView": "report_default",
    "version": 1,
    "views": {
     "grid_default": {
      "cellMargin": 10,
      "defaultCellHeight": 20,
      "maxColumns": 12,
      "name": "grid",
      "type": "grid"
     },
     "report_default": {
      "name": "report",
      "type": "report"
     }
    }
   }
  },
  "kernelspec": {
   "display_name": "Python 3",
   "language": "python",
   "name": "python3"
  },
  "language_info": {
   "codemirror_mode": {
    "name": "ipython",
    "version": 3
   },
   "file_extension": ".py",
   "mimetype": "text/x-python",
   "name": "python",
   "nbconvert_exporter": "python",
   "pygments_lexer": "ipython3",
   "version": "3.7.6"
  },
  "widgets": {
   "application/vnd.jupyter.widget-state+json": {
    "state": {
     "3f3785e9626a451cad3ed4e14abbffd7": {
      "model_module": "keplergl-jupyter",
      "model_module_version": "^0.2.0",
      "model_name": "KeplerGlModal",
      "state": {
       "_model_module_version": "^0.2.0",
       "_view_module_version": "^0.2.0",
       "config": {
        "config": {
         "mapState": {
          "bearing": 0,
          "dragRotate": false,
          "isSplit": false,
          "latitude": 40.592547533791084,
          "longitude": -74.0486900596773,
          "pitch": 0,
          "zoom": 8.871733811944722
         },
         "mapStyle": {
          "mapStyles": {},
          "styleType": "dark",
          "threeDBuildingColor": [
           9.665468314072013,
           17.18305478057247,
           31.1442867897876
          ],
          "topLayerGroups": {},
          "visibleLayerGroups": {
           "3d building": false,
           "border": false,
           "building": true,
           "label": true,
           "land": true,
           "road": true,
           "water": true
          }
         },
         "visState": {
          "animationConfig": {
           "currentTime": null,
           "speed": 1
          },
          "filters": [],
          "interactionConfig": {
           "brush": {
            "enabled": false,
            "size": 0.5
           },
           "coordinate": {
            "enabled": false
           },
           "geocoder": {
            "enabled": false
           },
           "tooltip": {
            "enabled": true,
            "fieldsToShow": {
             "kmean-apr14": [
              "longitutde"
             ]
            }
           }
          },
          "layerBlending": "normal",
          "layers": [
           {
            "config": {
             "color": [
              18,
              147,
              154
             ],
             "columns": {
              "geojson": "geometry"
             },
             "dataId": "kmean-apr14",
             "hidden": false,
             "isVisible": true,
             "label": "kmean-apr14",
             "textLabel": [
              {
               "alignment": "center",
               "anchor": "start",
               "color": [
                255,
                255,
                255
               ],
               "field": null,
               "offset": [
                0,
                0
               ],
               "size": 18
              }
             ],
             "visConfig": {
              "colorRange": {
               "category": "Uber",
               "colors": [
                "#5A1846",
                "#900C3F",
                "#C70039",
                "#E3611C",
                "#F1920E",
                "#FFC300"
               ],
               "name": "Global Warming",
               "type": "sequential"
              },
              "elevationScale": 5,
              "enable3d": false,
              "filled": true,
              "heightRange": [
               0,
               500
              ],
              "opacity": 0.8,
              "radius": 10,
              "radiusRange": [
               0,
               50
              ],
              "sizeRange": [
               0,
               10
              ],
              "strokeColor": null,
              "strokeColorRange": {
               "category": "Uber",
               "colors": [
                "#5A1846",
                "#900C3F",
                "#C70039",
                "#E3611C",
                "#F1920E",
                "#FFC300"
               ],
               "name": "Global Warming",
               "type": "sequential"
              },
              "strokeOpacity": 0.8,
              "stroked": false,
              "thickness": 0.5,
              "wireframe": false
             }
            },
            "id": "up7mk87j",
            "type": "geojson",
            "visualChannels": {
             "colorField": null,
             "colorScale": "quantile",
             "heightField": null,
             "heightScale": "linear",
             "radiusField": null,
             "radiusScale": "linear",
             "sizeField": null,
             "sizeScale": "linear",
             "strokeColorField": null,
             "strokeColorScale": "quantile"
            }
           }
          ],
          "splitMaps": []
         }
        },
        "version": "v1"
       },
       "data": {
        "kmean-apr14": {
         "columns": [
          "longitutde",
          "latitude",
          "geometry"
         ],
         "data": [
          [
           -73.99861999999999,
           40.731108,
           "POINT (-73.9986199999999883 40.7311079999999990)"
          ],
          [
           -73.77408100000001,
           40.659555,
           "POINT (-73.7740810000000096 40.6595549999999974)"
          ],
          [
           -73.86887,
           40.798111999999996,
           "POINT (-73.8688700000000011 40.7981119999999962)"
          ],
          [
           -73.972835,
           40.765536,
           "POINT (-73.9728350000000034 40.7655359999999973)"
          ],
          [
           -73.965528,
           40.688588,
           "POINT (-73.9655280000000062 40.6885880000000029)"
          ],
          [
           -74.201673,
           40.700540999999994,
           "POINT (-74.2016729999999995 40.7005409999999941)"
          ]
         ],
         "index": [
          0,
          1,
          2,
          3,
          4,
          5
         ]
        }
       },
       "height": 600,
       "layout": "IPY_MODEL_8ca21ce4a22740d1a7572af1c1fb35cb",
       "value": "Hello World!"
      }
     },
     "8ca21ce4a22740d1a7572af1c1fb35cb": {
      "model_module": "@jupyter-widgets/base",
      "model_module_version": "1.2.0",
      "model_name": "LayoutModel",
      "state": {}
     }
    },
    "version_major": 2,
    "version_minor": 0
   }
  }
 },
 "nbformat": 4,
 "nbformat_minor": 4
}
